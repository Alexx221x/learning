{
 "cells": [
  {
   "cell_type": "markdown",
   "metadata": {},
   "source": [
    "# GloVe\n",
    "Global Vectors for Word Representation\n",
    "\n",
    "\n",
    "\n",
    "**Abstract**\n",
    "* Global [log-bilinear](https://stats.stackexchange.com/questions/157136/log-linear-vs-log-bilinear) regression model\n",
    "* Combines: (1) global matrix factorization, (2) local context window methods\n",
    "* Trains only on non-zero elements in a word-word co-occurence matrix OR on individual context windows in a large corpus\n",
    "* Performance of 75% on a recent word analogy task"
   ]
  },
  {
   "cell_type": "markdown",
   "metadata": {},
   "source": [
    "### References\n",
    "- https://nlp.stanford.edu/pubs/glove.pdf\n",
    "- https://rare-technologies.com/making-sense-of-word2vec/"
   ]
  }
 ],
 "metadata": {
  "anaconda-cloud": {},
  "kernelspec": {
   "display_name": "Python [default]",
   "language": "python",
   "name": "python3"
  },
  "language_info": {
   "codemirror_mode": {
    "name": "ipython",
    "version": 3
   },
   "file_extension": ".py",
   "mimetype": "text/x-python",
   "name": "python",
   "nbconvert_exporter": "python",
   "pygments_lexer": "ipython3",
   "version": "3.5.4"
  }
 },
 "nbformat": 4,
 "nbformat_minor": 2
}
