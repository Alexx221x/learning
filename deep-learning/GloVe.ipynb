{
 "cells": [
  {
   "cell_type": "markdown",
   "metadata": {},
   "source": [
    "# GloVe\n",
    "Global Vectors for Word Representation\n",
    "\n",
    "\n",
    "\n",
    "**Abstract**\n",
    "* Global [log-bilinear](https://stats.stackexchange.com/questions/157136/log-linear-vs-log-bilinear) regression model\n",
    "* Combines: (1) global matrix factorization, (2) local context window methods\n",
    "* Trains only on non-zero elements in a word-word co-occurence matrix OR on individual context windows in a large corpus\n",
    "* Performance of 75% on a recent word analogy task"
   ]
  },
  {
   "cell_type": "code",
   "execution_count": null,
   "metadata": {
    "collapsed": true
   },
   "outputs": [],
   "source": []
  },
  {
   "cell_type": "code",
   "execution_count": 1,
   "metadata": {
    "collapsed": false
   },
   "outputs": [
    {
     "ename": "ImportError",
     "evalue": "No module named 'glove'",
     "output_type": "error",
     "traceback": [
      "\u001b[0;31m---------------------------------------------------------------------------\u001b[0m",
      "\u001b[0;31mImportError\u001b[0m                               Traceback (most recent call last)",
      "\u001b[0;32m<ipython-input-1-c5c53db0597f>\u001b[0m in \u001b[0;36m<module>\u001b[0;34m()\u001b[0m\n\u001b[1;32m      1\u001b[0m \u001b[0;32mfrom\u001b[0m \u001b[0mgensim\u001b[0m \u001b[0;32mimport\u001b[0m \u001b[0mutils\u001b[0m\u001b[0;34m,\u001b[0m \u001b[0mcorpora\u001b[0m\u001b[0;34m,\u001b[0m \u001b[0mmatutils\u001b[0m\u001b[0;34m,\u001b[0m \u001b[0mmodels\u001b[0m\u001b[0;34m\u001b[0m\u001b[0m\n\u001b[0;32m----> 2\u001b[0;31m \u001b[0;32mimport\u001b[0m \u001b[0mglove\u001b[0m\u001b[0;34m\u001b[0m\u001b[0m\n\u001b[0m\u001b[1;32m      3\u001b[0m \u001b[0;34m\u001b[0m\u001b[0m\n\u001b[1;32m      4\u001b[0m \u001b[0;31m# Restrict dictionary to the 30k most common words.\u001b[0m\u001b[0;34m\u001b[0m\u001b[0;34m\u001b[0m\u001b[0m\n\u001b[1;32m      5\u001b[0m \u001b[0mwiki\u001b[0m \u001b[0;34m=\u001b[0m \u001b[0mmodels\u001b[0m\u001b[0;34m.\u001b[0m\u001b[0mword2vec\u001b[0m\u001b[0;34m.\u001b[0m\u001b[0mLineSentence\u001b[0m\u001b[0;34m(\u001b[0m\u001b[0;34m'/data/shootout/title_tokens.txt.gz'\u001b[0m\u001b[0;34m)\u001b[0m\u001b[0;34m\u001b[0m\u001b[0m\n",
      "\u001b[0;31mImportError\u001b[0m: No module named 'glove'"
     ]
    }
   ],
   "source": [
    "# Taken from https://rare-technologies.com/making-sense-of-word2vec/\n",
    "# glove is from https://github.com/maciejkula/glove-python/\n",
    "from gensim import utils, corpora, matutils, models\n",
    "import glove\n",
    " \n",
    "# Restrict dictionary to the 30k most common words.\n",
    "wiki = models.word2vec.LineSentence('/data/shootout/title_tokens.txt.gz')\n",
    "id2word = corpora.Dictionary(wiki)\n",
    "id2word.filter_extremes(keep_n=30000)\n",
    "word2id = dict((word, id) for id, word in id2word.iteritems())\n",
    " \n",
    "# Filter all wiki documents to contain only those 30k words.\n",
    "filter_text = lambda text: [word for word in text if word in word2id]\n",
    "filtered_wiki = lambda: (filter_text(text) for text in wiki)  # generator\n",
    " \n",
    "# Get the word co-occurrence matrix -- needs lots of RAM!!\n",
    "cooccur = glove.Corpus()\n",
    "cooccur.fit(filtered_wiki(), window=10)\n",
    " \n",
    "# and train GloVe model itself, using 10 epochs\n",
    "model_glove = glove.Glove(no_components=600, learning_rate=0.05)\n",
    "model_glove.fit(cooccur.matrix, epochs=10)"
   ]
  },
  {
   "cell_type": "markdown",
   "metadata": {},
   "source": [
    "### References\n",
    "- https://nlp.stanford.edu/pubs/glove.pdf\n",
    "- https://rare-technologies.com/making-sense-of-word2vec/"
   ]
  },
  {
   "cell_type": "code",
   "execution_count": null,
   "metadata": {
    "collapsed": true
   },
   "outputs": [],
   "source": []
  }
 ],
 "metadata": {
  "anaconda-cloud": {},
  "kernelspec": {
   "display_name": "Python [default]",
   "language": "python",
   "name": "python3"
  },
  "language_info": {
   "codemirror_mode": {
    "name": "ipython",
    "version": 3
   },
   "file_extension": ".py",
   "mimetype": "text/x-python",
   "name": "python",
   "nbconvert_exporter": "python",
   "pygments_lexer": "ipython3",
   "version": "3.5.4"
  }
 },
 "nbformat": 4,
 "nbformat_minor": 2
}
