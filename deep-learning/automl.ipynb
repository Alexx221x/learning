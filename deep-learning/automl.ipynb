{
 "cells": [
  {
   "cell_type": "markdown",
   "metadata": {},
   "source": [
    "# AutoML\n",
    "####  Using Machine Learning to Explore Neural Network Architecture\n",
    "\n",
    "Propose and evaluate architectures thousands of times:\n",
    "> In our approach (which we call \"AutoML\"), a controller neural net can propose a “child” model architecture, which can then be trained and evaluated for quality on a particular task. That feedback is then used to inform the controller how to improve its proposals for the next round. We repeat this process thousands of times — generating new architectures, testing them, and giving that feedback to the controller to learn from. Eventually the controller learns to assign high probability to areas of architecture space that achieve better accuracy on a held-out validation dataset, and low probability to areas of architecture space that score poorly\n",
    "\n",
    "<img src=\"https://1.bp.blogspot.com/-0nzARW3QtkA/WRtuVsUJ02I/AAAAAAAAB0s/t6ncpAH6VfIzkr2tWW8CnE6U2Es2Bs1BgCLcB/s1600/image3.png\">\n",
    "\n",
    "> The machine-chosen architecture does share some common features with the human design, such as using addition to combine input and previous hidden states. However, there are some notable new elements — for example, the machine-chosen architecture incorporates a multiplicative combination (the left-most blue node on the right diagram labeled “elem_mult”). This type of combination is not common for recurrent networks, perhaps because researchers see no obvious benefit for having it."
   ]
  },
  {
   "cell_type": "markdown",
   "metadata": {},
   "source": [
    "### Experiments\n",
    "> The key insight to this approach is to design a search\n",
    "space that decouples the complexity of an architecture from\n",
    "the depth of a network. This resulting search space permits\n",
    "identifying good architectures on a small dataset (i.e.,\n",
    "CIFAR-10) and transferring the learned architecture to image\n",
    "classifications across a range of data and computational\n",
    "scales."
   ]
  },
  {
   "cell_type": "markdown",
   "metadata": {},
   "source": [
    "### References\n",
    "- https://research.googleblog.com/2017/05/using-machine-learning-to-explore.html\n",
    "- https://research.googleblog.com/2017/11/automl-for-large-scale-image.html\n",
    "- https://arxiv.org/pdf/1707.07012.pdf"
   ]
  }
 ],
 "metadata": {
  "anaconda-cloud": {},
  "kernelspec": {
   "display_name": "Python [default]",
   "language": "python",
   "name": "python3"
  },
  "language_info": {
   "codemirror_mode": {
    "name": "ipython",
    "version": 3
   },
   "file_extension": ".py",
   "mimetype": "text/x-python",
   "name": "python",
   "nbconvert_exporter": "python",
   "pygments_lexer": "ipython3",
   "version": "3.5.4"
  }
 },
 "nbformat": 4,
 "nbformat_minor": 2
}
