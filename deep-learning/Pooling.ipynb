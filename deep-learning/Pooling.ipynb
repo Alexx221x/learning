{
 "cells": [
  {
   "cell_type": "markdown",
   "metadata": {},
   "source": [
    "### Pooling"
   ]
  },
  {
   "cell_type": "code",
   "execution_count": 3,
   "metadata": {
    "collapsed": true
   },
   "outputs": [],
   "source": [
    "import numpy as np"
   ]
  },
  {
   "cell_type": "code",
   "execution_count": 18,
   "metadata": {
    "collapsed": true
   },
   "outputs": [],
   "source": [
    "def pooling_strided_naive(image, pool_size, stride, function):\n",
    "    output_x = int((image.shape[0] - pool_size) / stride + 1) \n",
    "    output_y = int((image.shape[1] - pool_size) / stride + 1)\n",
    "    output = np.zeros((output_x, output_y))\n",
    "\n",
    "    # walk over output rows\n",
    "    for i in range(output.shape[0]):\n",
    "        # walk over output columns\n",
    "        for j in range(output.shape[1]):\n",
    "            image_x = i * stride\n",
    "            image_y = j * stride\n",
    "            image_x_end = image_x + pool_size\n",
    "            image_y_end = image_y + pool_size\n",
    "            output[i, j] = function(image[image_x:image_x_end,\n",
    "                                           image_y:image_y_end])\n",
    "    \n",
    "    return output"
   ]
  },
  {
   "cell_type": "code",
   "execution_count": 19,
   "metadata": {
    "collapsed": false
   },
   "outputs": [],
   "source": [
    "image = np.array([\n",
    "    [1, 3, 2, 1],\n",
    "    [2, 9, 1, 1],\n",
    "    [1, 3, 2, 3],\n",
    "    [5, 6, 1, 2]\n",
    "])"
   ]
  },
  {
   "cell_type": "code",
   "execution_count": 20,
   "metadata": {
    "collapsed": false
   },
   "outputs": [
    {
     "data": {
      "text/plain": [
       "array([[ 9.,  2.],\n",
       "       [ 6.,  3.]])"
      ]
     },
     "execution_count": 20,
     "metadata": {},
     "output_type": "execute_result"
    }
   ],
   "source": [
    "# Max pooling\n",
    "pooling_strided_naive(image, 2, 2, np.max)"
   ]
  },
  {
   "cell_type": "code",
   "execution_count": 21,
   "metadata": {
    "collapsed": false
   },
   "outputs": [
    {
     "data": {
      "text/plain": [
       "array([[ 3.75,  1.25],\n",
       "       [ 3.75,  2.  ]])"
      ]
     },
     "execution_count": 21,
     "metadata": {},
     "output_type": "execute_result"
    }
   ],
   "source": [
    "# Average pooling\n",
    "pooling_strided_naive(image, 2, 2, np.mean)"
   ]
  },
  {
   "cell_type": "code",
   "execution_count": 22,
   "metadata": {
    "collapsed": true
   },
   "outputs": [],
   "source": [
    "image = np.array([\n",
    "    [1, 3, 2, 1, 3],\n",
    "    [2, 9, 1, 1, 5],\n",
    "    [1, 3, 2, 3, 2],\n",
    "    [8, 3, 5, 1, 0],\n",
    "    [5, 6, 1, 2, 9]\n",
    "])"
   ]
  },
  {
   "cell_type": "code",
   "execution_count": 23,
   "metadata": {
    "collapsed": false
   },
   "outputs": [
    {
     "data": {
      "text/plain": [
       "array([[ 9.,  9.,  5.],\n",
       "       [ 9.,  9.,  5.],\n",
       "       [ 8.,  6.,  9.]])"
      ]
     },
     "execution_count": 23,
     "metadata": {},
     "output_type": "execute_result"
    }
   ],
   "source": [
    "pooling_strided_naive(image, 3, 1, np.max)"
   ]
  }
 ],
 "metadata": {
  "anaconda-cloud": {},
  "kernelspec": {
   "display_name": "Python [default]",
   "language": "python",
   "name": "python3"
  },
  "language_info": {
   "codemirror_mode": {
    "name": "ipython",
    "version": 3
   },
   "file_extension": ".py",
   "mimetype": "text/x-python",
   "name": "python",
   "nbconvert_exporter": "python",
   "pygments_lexer": "ipython3",
   "version": "3.5.4"
  }
 },
 "nbformat": 4,
 "nbformat_minor": 2
}
