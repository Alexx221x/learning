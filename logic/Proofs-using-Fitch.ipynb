{
 "cells": [
  {
   "cell_type": "markdown",
   "metadata": {},
   "source": [
    "### Constraposition\n",
    "https://en.wikipedia.org/wiki/Contraposition"
   ]
  },
  {
   "cell_type": "markdown",
   "metadata": {},
   "source": [
    "```\n",
    "1. p => q       Premise\n",
    "2. | ¬q         Assumption\n",
    "3. | | p        Assumption\n",
    "4. | | ¬q       Reiteration 3\n",
    "5. | p => ¬q    Implication introduction 3, 4\n",
    "6. | p => q     Reiteration 1\n",
    "7. | ¬p         Negation introduction \n",
    "8. ¬q => ¬p     Implication introduction 2, 8\n",
    "```"
   ]
  }
 ],
 "metadata": {
  "kernelspec": {
   "display_name": "Python [default]",
   "language": "python",
   "name": "python3"
  },
  "language_info": {
   "codemirror_mode": {
    "name": "ipython",
    "version": 3
   },
   "file_extension": ".py",
   "mimetype": "text/x-python",
   "name": "python",
   "nbconvert_exporter": "python",
   "pygments_lexer": "ipython3",
   "version": "3.5.4"
  }
 },
 "nbformat": 4,
 "nbformat_minor": 2
}
