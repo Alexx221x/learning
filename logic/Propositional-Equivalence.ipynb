{
 "cells": [
  {
   "cell_type": "markdown",
   "metadata": {},
   "source": [
    "# Propositional Equivalence"
   ]
  },
  {
   "cell_type": "code",
   "execution_count": 45,
   "metadata": {
    "collapsed": true
   },
   "outputs": [],
   "source": [
    "from itertools import product, chain"
   ]
  },
  {
   "cell_type": "code",
   "execution_count": 34,
   "metadata": {
    "collapsed": true
   },
   "outputs": [],
   "source": [
    "def implies(p, q):\n",
    "    return 0 if p == 1 and q == 0 else 1\n",
    "\n",
    "def and_(p, q):\n",
    "    return 1 if p == 1 and q == 1 else 0\n",
    "\n",
    "def or_(p, q):\n",
    "    return 1 if p == 1 or q == 1 else 0\n",
    "\n",
    "def not_(p):\n",
    "    return 1 if p == 0 else 0\n",
    "\n",
    "def generate_product():\n",
    "    return product(*[[0, 1]] * 3)\n",
    "\n",
    "def check_propositional_equivalence(f_right, f_left, product):\n",
    "    return all((f_right(*vals) == f_left(*vals) for vals in product))"
   ]
  },
  {
   "cell_type": "code",
   "execution_count": 49,
   "metadata": {
    "collapsed": false
   },
   "outputs": [
    {
     "data": {
      "text/plain": [
       "False"
      ]
     },
     "execution_count": 49,
     "metadata": {},
     "output_type": "execute_result"
    }
   ],
   "source": [
    "check_propositional_equivalence(\n",
    "    lambda p, q, r: implies(p, and_(q, r)),\n",
    "    lambda p, q, r: implies(and_(p, q), r),\n",
    "    generate_product()\n",
    ")"
   ]
  },
  {
   "cell_type": "code",
   "execution_count": 50,
   "metadata": {
    "collapsed": false
   },
   "outputs": [
    {
     "data": {
      "text/plain": [
       "True"
      ]
     },
     "execution_count": 50,
     "metadata": {},
     "output_type": "execute_result"
    }
   ],
   "source": [
    "check_propositional_equivalence(\n",
    "    lambda p, q, r: implies(p, implies(q, r)),\n",
    "    lambda p, q, r: implies(and_(p, q), r),\n",
    "    generate_product()\n",
    ")"
   ]
  },
  {
   "cell_type": "code",
   "execution_count": 51,
   "metadata": {
    "collapsed": false
   },
   "outputs": [
    {
     "data": {
      "text/plain": [
       "False"
      ]
     },
     "execution_count": 51,
     "metadata": {},
     "output_type": "execute_result"
    }
   ],
   "source": [
    "check_propositional_equivalence(\n",
    "    lambda p, q, r: implies(and_(p, q), r),\n",
    "    lambda p, q, r: implies(and_(p, r), q),\n",
    "    generate_product()\n",
    ")"
   ]
  },
  {
   "cell_type": "code",
   "execution_count": 52,
   "metadata": {
    "collapsed": false
   },
   "outputs": [
    {
     "data": {
      "text/plain": [
       "False"
      ]
     },
     "execution_count": 52,
     "metadata": {},
     "output_type": "execute_result"
    }
   ],
   "source": [
    "check_propositional_equivalence(\n",
    "    lambda p, q, r: and_(implies(p, or_(q, r)), implies(p, r)),\n",
    "    lambda p, q, r: implies(q, r),\n",
    "    generate_product()\n",
    ")"
   ]
  },
  {
   "cell_type": "code",
   "execution_count": 53,
   "metadata": {
    "collapsed": false
   },
   "outputs": [
    {
     "data": {
      "text/plain": [
       "False"
      ]
     },
     "execution_count": 53,
     "metadata": {},
     "output_type": "execute_result"
    }
   ],
   "source": [
    "check_propositional_equivalence(lambda p, q, r: and_(implies(p, or_(q, r)), implies(p, r)),\n",
    "                                lambda p, q, r: implies(q, r),\n",
    "                                generate_product()\n",
    "                               )"
   ]
  },
  {
   "cell_type": "code",
   "execution_count": 54,
   "metadata": {
    "collapsed": false
   },
   "outputs": [
    {
     "data": {
      "text/plain": [
       "True"
      ]
     },
     "execution_count": 54,
     "metadata": {},
     "output_type": "execute_result"
    }
   ],
   "source": [
    "check_propositional_equivalence(\n",
    "    lambda p, q, r: or_(implies(p, q), implies(q, r)),\n",
    "    lambda p, q, r: or_(p, not_(p)),\n",
    "    generate_product()\n",
    ")"
   ]
  }
 ],
 "metadata": {
  "anaconda-cloud": {},
  "kernelspec": {
   "display_name": "Python [default]",
   "language": "python",
   "name": "python3"
  },
  "language_info": {
   "codemirror_mode": {
    "name": "ipython",
    "version": 3
   },
   "file_extension": ".py",
   "mimetype": "text/x-python",
   "name": "python",
   "nbconvert_exporter": "python",
   "pygments_lexer": "ipython3",
   "version": "3.5.4"
  }
 },
 "nbformat": 4,
 "nbformat_minor": 2
}
