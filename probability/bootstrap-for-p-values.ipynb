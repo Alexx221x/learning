{
 "cells": [
  {
   "cell_type": "markdown",
   "metadata": {},
   "source": [
    "# Bootstrap for p-values"
   ]
  },
  {
   "cell_type": "markdown",
   "metadata": {},
   "source": [
    "$H_0$: two populations have the same mean\n",
    "\n",
    "$p$-value: under $H_0$ what's the probability of observing the difference we observed?\n",
    "- Small $p$-value means that it's not likely => probably $H_0$ is not correct"
   ]
  },
  {
   "cell_type": "code",
   "execution_count": 1,
   "metadata": {},
   "outputs": [],
   "source": [
    "import numpy as np"
   ]
  },
  {
   "cell_type": "code",
   "execution_count": 153,
   "metadata": {},
   "outputs": [],
   "source": [
    "def bootstrap_p(B: np.ndarray,\n",
    "                N: np.ndarray,\n",
    "                n_bootstraps: int=int(1e4)) -> float:\n",
    "    obs_diff = np.abs(B.mean() - N.mean())\n",
    "    U = np.concatenate([B, N]) \n",
    "    Bs = np.random.choice(U, (n, n_bootstraps), replace=True)\n",
    "    Ns = np.random.choice(U, (n, n_bootstraps), replace=True)\n",
    "    diff = np.abs(Bs.mean(axis=0) - Ns.mean(axis=0))\n",
    "    assert len(diff) == n_bootstraps\n",
    "    return np.sum(diff > obs_diff) / n_bootstraps"
   ]
  },
  {
   "cell_type": "code",
   "execution_count": 154,
   "metadata": {},
   "outputs": [
    {
     "data": {
      "text/plain": [
       "0.0"
      ]
     },
     "execution_count": 154,
     "metadata": {},
     "output_type": "execute_result"
    }
   ],
   "source": [
    "bootstrap_p(10 + np.random.randn(n),\n",
    "            5 + np.random.randn(n))"
   ]
  },
  {
   "cell_type": "code",
   "execution_count": 155,
   "metadata": {},
   "outputs": [
    {
     "data": {
      "text/plain": [
       "0.2609"
      ]
     },
     "execution_count": 155,
     "metadata": {},
     "output_type": "execute_result"
    }
   ],
   "source": [
    "bootstrap_p(10 + np.random.randn(n),\n",
    "            10 + np.random.randn(n))"
   ]
  },
  {
   "cell_type": "code",
   "execution_count": 156,
   "metadata": {},
   "outputs": [
    {
     "data": {
      "text/plain": [
       "0.0"
      ]
     },
     "execution_count": 156,
     "metadata": {},
     "output_type": "execute_result"
    }
   ],
   "source": [
    "bootstrap_p(11 + np.random.randn(n),\n",
    "            10 + np.random.randn(n))"
   ]
  },
  {
   "cell_type": "code",
   "execution_count": 175,
   "metadata": {},
   "outputs": [
    {
     "data": {
      "text/plain": [
       "0.0002"
      ]
     },
     "execution_count": 175,
     "metadata": {},
     "output_type": "execute_result"
    }
   ],
   "source": [
    "bootstrap_p(10.1 + np.random.randn(n),\n",
    "            10 + np.random.randn(n))"
   ]
  },
  {
   "cell_type": "code",
   "execution_count": 164,
   "metadata": {},
   "outputs": [
    {
     "data": {
      "text/plain": [
       "0.25"
      ]
     },
     "execution_count": 164,
     "metadata": {},
     "output_type": "execute_result"
    }
   ],
   "source": [
    "bootstrap_p(10 + .1e-5 * np.random.randn(n),\n",
    "            10 + .1e-5 * np.random.randn(n))"
   ]
  },
  {
   "cell_type": "code",
   "execution_count": null,
   "metadata": {},
   "outputs": [],
   "source": []
  }
 ],
 "metadata": {
  "kernelspec": {
   "display_name": "Python 3",
   "language": "python",
   "name": "python3"
  },
  "language_info": {
   "codemirror_mode": {
    "name": "ipython",
    "version": 3
   },
   "file_extension": ".py",
   "mimetype": "text/x-python",
   "name": "python",
   "nbconvert_exporter": "python",
   "pygments_lexer": "ipython3",
   "version": "3.7.2"
  }
 },
 "nbformat": 4,
 "nbformat_minor": 2
}
