{
 "cells": [
  {
   "cell_type": "markdown",
   "metadata": {},
   "source": [
    "# Linear Algebra Basics\n",
    "Notes from chapter 1 of [Numerical Algorithm by Justin Solomon](https://people.csail.mit.edu/jsolomon/share/book/numerical_book.pdf)"
   ]
  },
  {
   "cell_type": "markdown",
   "metadata": {},
   "source": [
    "### Terminology\n",
    "- [Identity](https://en.wikipedia.org/wiki/Identity_(mathematics%29)\n",
    "\n",
    "### Sets\n",
    "\n",
    "Natural numbers\n",
    "$$\\mathbb{N}=\\{n\\in\\mathbb{Z}: n>0\\}$$\n",
    "\n",
    "Euclidean product\n",
    "$$A\\times B=\\{(a, b): a\\in A\\ and\\ b \\in B\\}$$\n",
    "\n",
    "Power of sets\n",
    "$$A^n=\\underbrace{A\\times A \\times\\ \\ldots \\times A}_{n\\text{ times}}$$\n",
    "\n",
    "### Vector space\n",
    "A vector space over $\\mathbb{R}$ is a set $\\mathcal{V}$ closed under addition and scalar multiplication with:\n",
    "- Additive commutativity and associativity\n",
    "- Distributivity\n",
    "- Additive identity\n",
    "- Additive inverse\n",
    "- Multiplicative identity\n",
    "- Multiplicative compatibility\n",
    "\n",
    "A member $\\vec{v}\\in\\mathcal{V}$ is a vector\n",
    "\n",
    "### Span\n",
    "All the vectors we can reach with addition and scalar multiplication.\n",
    "\n",
    "The span of a set $S\\subseteq\\mathcal{V}$ is:\n",
    "$$spanS=\\{a_1\\vec{v_1}+\\ldots+a_k\\vec{v_k}: \\vec{v_i}\\in S\\ and\\ a_i\\in\\mathbb{R}\\ for\\ all\\ i\\}$$\n",
    "\n",
    "* Span $S$ is a subspace of $\\mathcal{V}$\n",
    "\n",
    "### Linear indepdence\n",
    "A set $S\\subseteq\\mathcal{V}$ is linearly dependent if:\n",
    "* One of the elements in $S$ can be written as a linear combination of the other elements\n",
    "* S contains zero\n",
    "* A linear combination of elements yields 0\n",
    "* There exists a $\\vec{v}\\in S$ that $S=spanS\\backslash\\{\\vec{v}\\}$\n",
    "\n",
    "### Basis and dimension\n",
    "- Basis: linearly independent set $S\\subset\\mathcal{V}$ such that $spanS=\\mathcal{V}$\n",
    "- Dimension: $|S|$\n",
    "- Standard basis: sets of vectors of $\\vec{e_k}$ where $\\vec{e_k}$ has all zeros except for a single one in the k-th position\n",
    "\n",
    "### $\\mathbb{R}^n$\n",
    "- Vector space structure\n",
    "- Dot product\n",
    "    - A metric\n",
    "    - Geometry\n",
    "    - $\\lVert \\mathbf{\\vec{a}} \\rVert_2 = \\sqrt{\\vec{a}.\\vec{a}}$\n",
    "    - Trigonometric identity $\\vec{a}.\\vec{b}=\\lVert \\mathbf{\\vec{a}} \\rVert_2\\lVert \\mathbf{\\vec{b}} \\rVert_2 \\cos{\\theta}$\n",
    "    - Cauchy-Schwarz inequality ensures $|\\vec{a}.\\vec{b}|\\leq \\lVert \\mathbf{\\vec{a}} \\rVert_2\\lVert \\mathbf{\\vec{b}} \\rVert_2$\n",
    "    - Two vectors orthogonal when $\\vec{a}.\\vec{b}=0$\n",
    "    \n",
    "### Matrix product\n",
    "- Product of matrix $M\\in\\mathbb{R}^{m\\times n}$ and another matrix in $\\mathbb{R}^{n\\times p}$\n",
    "$$M\\begin{pmatrix}\n",
    " \\mid  & \\mid  & & \\mid \\\\ \n",
    " \\vec{c_1}  & \\vec{c_2} & \\ldots & \\vec{c_p} \\\\ \n",
    " \\mid  & \\mid  & & \\mid\n",
    "\\end{pmatrix}=\\begin{pmatrix}\n",
    " \\mid  & \\mid  & & \\mid \\\\ \n",
    " M\\vec{c_1}  & M\\vec{c_2} & \\ldots & M\\vec{c_p} \\\\ \n",
    " \\mid  & \\mid  & & \\mid\n",
    "\\end{pmatrix}$$\n",
    "\n",
    "### Transpose\n",
    "- $\\vec{a}.\\vec{b}=\\vec{a}^T\\vec{b}$ where $\\vec{a}^T$ is a row vector\n",
    "- $(AB)^T=B^TA^T$ the dimensions are not going to work if the order is not flipped\n",
    "- Scalars thought of as matrices have the property $c^T=c$\n",
    "\n",
    "### Residual norm example\n",
    "$\\lVert\\vec{b}-A\\vec{x}\\lVert_2^2=(\\vec{b}-A\\vec{x}).(\\vec{b}-A\\vec{x})=(\\vec{b}-A\\vec{x})^T(\\vec{b}-A\\vec{x})=(\\vec{b}^T-\\vec{x}^TA^T)(\\vec{b}-A\\vec{x}) \\\\ = \\vec{b}^T\\vec{b}-\\vec{b}^TA\\vec{x}-\\vec{x}^TA^T\\vec{b}+\\vec{x}^TA^TA\\vec{x}$\n",
    "\n",
    "Since $\\vec{x}^TA^T\\vec{b}$ is a scalar we can transpose it:\n",
    "$\\vec{x}^TA^T\\vec{b}=(\\vec{x}^TA^T\\vec{b})^T=\\vec{b}^TA\\vec{x}$\n",
    "\n",
    "Which results in:\n",
    "$\\lVert\\vec{b}-A\\vec{x}\\lVert_2^2=\\lVert A\\vec{x}\\lVert_2^2-2\\vec{b}^TA\\vec{x}+\\lVert\\vec{b}\\lVert_2^2$\n",
    "\n",
    "The same results can be derived using dot product identities:\n",
    "\n",
    "$\\lVert\\vec{b}-A\\vec{x}\\lVert_2^2=(\\vec{b}-A\\vec{x}).(\\vec{b}-A\\vec{x}) \\\\\n",
    "=\\vec{b}.(\\vec{b}-A\\vec{x})-A\\vec{x}.(\\vec{b}-A\\vec{x}) \\\\\n",
    "=\\vec{b}.\\vec{b}-\\vec{b}.A\\vec{x}-A\\vec{x}.\\vec{b}+A\\vec{x}.A\\vec{x} \\\\\n",
    "=\\lVert A\\vec{x}\\lVert_2^2+\\lVert \\vec{b}\\lVert_2^2-2A\\vec{x}.b \\\\\n",
    "=\\lVert A\\vec{x}\\lVert_2^2+\\lVert \\vec{b}\\lVert_2^2-2\\vec{b}^TA\\vec{x}\n",
    "$\n",
    "\n",
    "### $A\\vec{x}=\\vec{b}$\n",
    "- Write $\\vec{b}$ as a linear combination of the column $A$\n",
    "- Column space of $A$\n",
    "    - Space of right-hand sides $\\vec{b}$ for which the system $A\\vec{x}=\\vec{b}$ has a solution\n",
    "    - Span of the columns of $A$\n",
    "    - $col\\ A\\equiv\\{A\\vec{x}: \\vec{x}\\in\\mathbb{R}^n\\}$\n",
    "    - Rank of $A$ is the dimension of $col\\ A$\n",
    "    - $A\\vec{x}=\\vec{b}$ is solvable when $\\vec{b}\\in col\\ A$\n",
    "    \n",
    "### Optimization\n",
    "- $f(\\vec{x})\\equiv\\vec{a}.\\vec{x}+\\vec{c} \\implies \\nabla f(\\vec{x})=\\vec{a}$\n",
    "- $f(\\vec{x})\\equiv\\vec{x}^TA\\vec{x} \\implies \\nabla f(\\vec{x})=(A+A^T)\\vec{x}$\n",
    "- $f(\\vec{x})\\equiv\\vec{x}^TABC...Z\\vec{x} \\implies \\nabla f(\\vec{x})=(ABC...Z+(ABC...Z)^T)\\vec{x}$\n",
    "- $A^TA=AA^T$ for a square matrix"
   ]
  },
  {
   "cell_type": "markdown",
   "metadata": {},
   "source": [
    "### 1.5"
   ]
  },
  {
   "cell_type": "markdown",
   "metadata": {},
   "source": [
    "$Q\\vec{x}=\\vec{r}$"
   ]
  },
  {
   "cell_type": "markdown",
   "metadata": {},
   "source": [
    "$E=f(\\vec{x})=(A\\vec{x}-\\vec{a})^T(A\\vec{x}-\\vec{a})+(B\\vec{x}-\\vec{b})^T(B\\vec{x}-\\vec{b}) \\\\\n",
    "=(\\vec{x}^TA^T-\\vec{a}^T)(A\\vec{x}-\\vec{a}) + (\\vec{x}^TB^T-\\vec{b}^T)(B\\vec{x}-\\vec{b}) \\\\\n",
    "=\\vec{x}^TA^TA\\vec{x}-\\vec{x}^TA^T\\vec{a}-\\vec{a}^TA\\vec{x}+\\vec{a}^T\\vec{a}+\\vec{x}^TB^TB\\vec{x}-\\vec{x}^TB^T\\vec{b}-\\vec{b}^TB\\vec{x}+\\vec{b}^T\\vec{b} \\\\\n",
    "=\\vec{x}^TA^TA\\vec{x}-2\\vec{a}^TA\\vec{x}+\\vec{a}^T\\vec{a}+\\vec{x}^TB^TB\\vec{x}-2\\vec{b}^TB\\vec{x}+\\vec{b}^T\\vec{b}\n",
    "$"
   ]
  },
  {
   "cell_type": "markdown",
   "metadata": {},
   "source": [
    "$\\nabla\\ f(\\vec{x})=(A^TA+(A^TA)^T)\\vec{x}-2\\vec{a}^TA+(B^TB+(B^TB)^T)\\vec{x}-2\\vec{b}^TB=0 \\\\\n",
    "2A^TA\\vec{x}+2B^TB\\vec{x}-2\\vec{a}^TA-2\\vec{b}^TB=0 \\\\\n",
    "2(A^TA+B^TB)\\vec{x}=2(\\vec{a}^TA+\\vec{b}^TB) \\\\\n",
    "(A^TA+B^TB)\\vec{x}=(\\vec{a}^TA+\\vec{b}^TB)\n",
    "$"
   ]
  },
  {
   "cell_type": "markdown",
   "metadata": {},
   "source": [
    "$Q=A^TA+B^TB \\\\\n",
    "\\vec{r}=\\vec{a}^TA+\\vec{b}^TB\n",
    "$"
   ]
  },
  {
   "cell_type": "markdown",
   "metadata": {},
   "source": [
    "### N.B. $A^TA\\neq AA^T$"
   ]
  },
  {
   "cell_type": "code",
   "execution_count": 2,
   "metadata": {},
   "outputs": [],
   "source": [
    "import numpy as np"
   ]
  },
  {
   "cell_type": "code",
   "execution_count": 14,
   "metadata": {},
   "outputs": [
    {
     "data": {
      "text/plain": [
       "array([[False, False, False],\n",
       "       [False, False, False],\n",
       "       [False, False, False]], dtype=bool)"
      ]
     },
     "execution_count": 14,
     "metadata": {},
     "output_type": "execute_result"
    }
   ],
   "source": [
    "a = np.array([[1, 2, 3], [4, 5, 6], [7, 8, 9]])\n",
    "# np.dot(a, a.T) == np.matmul(a, a.T)\n",
    "np.dot(a, a.T) == np.dot(a.T, a)"
   ]
  },
  {
   "cell_type": "code",
   "execution_count": 15,
   "metadata": {},
   "outputs": [
    {
     "data": {
      "text/plain": [
       "array([[ 14,  32,  50],\n",
       "       [ 32,  77, 122],\n",
       "       [ 50, 122, 194]])"
      ]
     },
     "execution_count": 15,
     "metadata": {},
     "output_type": "execute_result"
    }
   ],
   "source": [
    "np.dot(a, a.T)"
   ]
  },
  {
   "cell_type": "code",
   "execution_count": 16,
   "metadata": {},
   "outputs": [
    {
     "data": {
      "text/plain": [
       "array([[ 66,  78,  90],\n",
       "       [ 78,  93, 108],\n",
       "       [ 90, 108, 126]])"
      ]
     },
     "execution_count": 16,
     "metadata": {},
     "output_type": "execute_result"
    }
   ],
   "source": [
    "np.dot(a.T, a)"
   ]
  },
  {
   "cell_type": "code",
   "execution_count": 18,
   "metadata": {},
   "outputs": [
    {
     "data": {
      "text/plain": [
       "array([[ 66,  78,  90],\n",
       "       [ 78,  93, 108],\n",
       "       [ 90, 108, 126]])"
      ]
     },
     "execution_count": 18,
     "metadata": {},
     "output_type": "execute_result"
    }
   ],
   "source": [
    "np.matmul(a.T, a)"
   ]
  },
  {
   "cell_type": "code",
   "execution_count": 19,
   "metadata": {},
   "outputs": [
    {
     "data": {
      "text/plain": [
       "array([[ 14,  32,  50],\n",
       "       [ 32,  77, 122],\n",
       "       [ 50, 122, 194]])"
      ]
     },
     "execution_count": 19,
     "metadata": {},
     "output_type": "execute_result"
    }
   ],
   "source": [
    "np.matmul(a, a.T)"
   ]
  },
  {
   "cell_type": "code",
   "execution_count": 20,
   "metadata": {},
   "outputs": [
    {
     "data": {
      "text/plain": [
       "array([[ 5, 11],\n",
       "       [11, 25]])"
      ]
     },
     "execution_count": 20,
     "metadata": {},
     "output_type": "execute_result"
    }
   ],
   "source": [
    "b = np.array([[1, 2], [3, 4]])\n",
    "np.dot(b, b.T)"
   ]
  },
  {
   "cell_type": "code",
   "execution_count": 21,
   "metadata": {},
   "outputs": [
    {
     "data": {
      "text/plain": [
       "array([[10, 14],\n",
       "       [14, 20]])"
      ]
     },
     "execution_count": 21,
     "metadata": {},
     "output_type": "execute_result"
    }
   ],
   "source": [
    "np.dot(b.T, b)"
   ]
  },
  {
   "cell_type": "markdown",
   "metadata": {},
   "source": [
    "### 1.7"
   ]
  },
  {
   "cell_type": "markdown",
   "metadata": {},
   "source": [
    "$A^T=\\begin{pmatrix}\n",
    "\\mid & \\mid &  & \\mid \\\\ \n",
    "\\vec{r}_1 & \\vec{r}_2 & \\ldots & \\vec{r}_m \\\\ \n",
    "\\mid & \\mid &  & \\mid\\end{pmatrix}=\n",
    "\\begin{pmatrix}\n",
    "\\_\\_\\_ & \\vec{c}^T_1 & \\_\\_\\_ \\\\ \n",
    "\\_\\_\\_ & \\vec{c}^T_2 & \\_\\_\\_ \\\\ \n",
    " & \\ldots & \\\\\n",
    "\\_\\_\\_ & \\vec{c}^T_n & \\_\\_\\_ \\\\ \n",
    "\\end{pmatrix}$"
   ]
  },
  {
   "cell_type": "markdown",
   "metadata": {},
   "source": [
    "$A^TA=\\begin{pmatrix}\n",
    "\\mid & \\mid &  & \\mid \\\\ \n",
    "A^T\\vec{c}_1 & A^T\\vec{c}_2 & \\ldots & A^T\\vec{c}_n \\\\ \n",
    "\\mid & \\mid &  & \\mid\\end{pmatrix}=\\begin{pmatrix}\n",
    "\\vec{c}^T_1\\vec{c}_1 & \\vec{c}^T_1\\vec{c}_2 & \\ldots & \\vec{c}^T_1\\vec{c}_n \\\\ \n",
    "\\vec{c}^T_2\\vec{c}_1 & \\vec{c}^T_2\\vec{c}_2 & \\ldots & \\vec{c}^T_2\\vec{c}_n \\\\ \n",
    "\\vdots & \\vdots & \\ddots & \\vdots \\\\ \n",
    "\\vec{c}^T_n\\vec{c}_1 & \\vec{c}^T_n\\vec{c}_2 & \\ldots & \\vec{c}^T_n\\vec{c}_n\n",
    "\\end{pmatrix}$"
   ]
  },
  {
   "cell_type": "markdown",
   "metadata": {},
   "source": [
    "$AA^T=\\begin{pmatrix}\n",
    "\\mid & \\mid &  & \\mid \\\\ \n",
    "A\\vec{r}_1 & A\\vec{r}_2 & \\ldots & A\\vec{r}_m \\\\ \n",
    "\\mid & \\mid &  & \\mid\\end{pmatrix}=\\begin{pmatrix}\n",
    "\\vec{r}^T_1\\vec{r}_1 & \\vec{r}^T_1\\vec{r}_2 & \\ldots & \\vec{r}^T_1\\vec{r}_m \\\\ \n",
    "\\vec{r}^T_2\\vec{r}_1 & \\vec{r}^T_2\\vec{r}_2 & \\ldots & \\vec{r}^T_2\\vec{r}_m \\\\ \n",
    "\\vdots & \\vdots & \\ddots & \\vdots \\\\ \n",
    "\\vec{r}^T_m\\vec{r}_1 & \\vec{r}^T_m\\vec{r}_2 & \\ldots & \\vec{r}^T_m\\vec{r}_m\n",
    "\\end{pmatrix}$"
   ]
  },
  {
   "cell_type": "markdown",
   "metadata": {},
   "source": [
    "### 1.9"
   ]
  },
  {
   "cell_type": "markdown",
   "metadata": {},
   "source": [
    "$\\Lambda(x,\\ \\lambda)=\\lVert A\\vec{x}\\lVert_2^2-\\lambda(\\lVert B\\vec{x}\\lVert _2^2-1) \\\\\n",
    "=\\vec{x}^TA^TA\\vec{x}+\\lambda-\\lambda\\vec{x}^TB^TB\\vec{x}\n",
    "$"
   ]
  },
  {
   "cell_type": "markdown",
   "metadata": {},
   "source": [
    "$\\frac{\\partial \\Lambda}{\\partial \\vec{x}}=2A^TA\\vec{x}-2\\lambda B^TB\\vec{x}=A^TA\\vec{x}-\\lambda B^TB\\vec{x}=0 \\\\\n",
    "\\frac{\\partial \\Lambda}{\\partial \\vec{\\lambda}}=1-\\vec{x}^TB^TB\\vec{x}=0\n",
    "$"
   ]
  },
  {
   "cell_type": "markdown",
   "metadata": {},
   "source": [
    "$\\lVert A\\vec{x}\\lVert_2^2=\\vec{x}^TA^TA\\vec{x}=\\vec{x}^T\\lambda B^TB\\vec{x} \\\\\n",
    "\\lVert A\\vec{x}\\lVert_2 = \\sqrt{\\lambda\\vec{x}^T B^TB\\vec{x}}$"
   ]
  },
  {
   "cell_type": "markdown",
   "metadata": {},
   "source": [
    "### 1.10"
   ]
  },
  {
   "cell_type": "markdown",
   "metadata": {},
   "source": [
    "$\\Lambda(\\vec{x}, \\lambda)=\\vec{a}.\\vec{x}-\\lambda(\\lVert \\vec{x}\\lVert_2-1)$"
   ]
  },
  {
   "cell_type": "markdown",
   "metadata": {},
   "source": [
    "$\\lVert \\vec{x}\\lVert_2=(\\vec{x}.\\vec{x})^\\frac{1}{2}$"
   ]
  },
  {
   "cell_type": "markdown",
   "metadata": {},
   "source": [
    "$\\frac{\\partial \\lVert \\vec{x}\\lVert_2}{\\partial \\vec{x}}=\\frac{1}{2}(\\vec{x}.\\vec{x})^{1/2}(2\\vec{x})=\\frac{\\vec{x}}{\\lVert \\vec{x}\\lVert_2}$"
   ]
  },
  {
   "cell_type": "markdown",
   "metadata": {},
   "source": [
    "$\\frac{\\partial \\Lambda}{\\partial \\vec{x}}=\\vec{a}-\\frac{\\lambda\\vec{x}}{\\lVert \\vec{x}\\lVert_2} \\rightarrow \\vec{x}=\\frac{\\vec{a}}{\\lambda \\lVert \\vec{x}\\lVert_2}$"
   ]
  },
  {
   "cell_type": "markdown",
   "metadata": {},
   "source": [
    "$\\frac{\\partial \\Lambda}{\\partial \\lambda}=\\lVert x\\lVert_2-1=0 \\rightarrow \\lVert x\\lVert_2=1$"
   ]
  },
  {
   "cell_type": "markdown",
   "metadata": {},
   "source": [
    "$\\vec{x}=\\frac{\\vec{a}}{\\lambda}$"
   ]
  },
  {
   "cell_type": "markdown",
   "metadata": {},
   "source": [
    "### 1.15\n",
    "#### (a)"
   ]
  },
  {
   "cell_type": "markdown",
   "metadata": {},
   "source": [
    "$X=B(B^TB)^{-1}B^T$"
   ]
  },
  {
   "cell_type": "markdown",
   "metadata": {},
   "source": [
    "$X^2=(B(B^TB)^{-1}B^T)(B(B^TB)^{-1}B^T) \\\\\n",
    "=B(B^TB)^{-1}(B^TB)(B^TB)^{-1}B^T$"
   ]
  },
  {
   "cell_type": "markdown",
   "metadata": {},
   "source": [
    "$X^2=X$"
   ]
  },
  {
   "cell_type": "markdown",
   "metadata": {},
   "source": [
    "#### (b)"
   ]
  },
  {
   "cell_type": "markdown",
   "metadata": {},
   "source": [
    "#### Aside"
   ]
  },
  {
   "cell_type": "markdown",
   "metadata": {},
   "source": [
    "$I^N=I$"
   ]
  },
  {
   "cell_type": "code",
   "execution_count": 45,
   "metadata": {},
   "outputs": [],
   "source": [
    "from functools import partial, reduce"
   ]
  },
  {
   "cell_type": "code",
   "execution_count": 33,
   "metadata": {},
   "outputs": [],
   "source": [
    "eye = lambda x: np.eye(x)"
   ]
  },
  {
   "cell_type": "code",
   "execution_count": 42,
   "metadata": {},
   "outputs": [],
   "source": [
    "for i in range(1, 5):\n",
    "    assert np.all(np.dot(eye(i), eye(i)) == eye(i))"
   ]
  },
  {
   "cell_type": "code",
   "execution_count": 57,
   "metadata": {},
   "outputs": [
    {
     "data": {
      "text/plain": [
       "True"
      ]
     },
     "execution_count": 57,
     "metadata": {},
     "output_type": "execute_result"
    }
   ],
   "source": [
    "all([\n",
    "    np.all(eye(i) == reduce(np.dot,\n",
    "                            [eye(i) for _ in range(n)]))\n",
    "    for i in range(1, 5)\n",
    "    for n in range(2, 10)\n",
    "])"
   ]
  },
  {
   "cell_type": "code",
   "execution_count": 75,
   "metadata": {},
   "outputs": [],
   "source": [
    "A = np.random.randint(1, 100, (3, 3))\n",
    "assert np.all(np.dot(A, eye(3)) == A)\n",
    "assert np.all(np.dot(eye(3), A) == A)"
   ]
  },
  {
   "cell_type": "markdown",
   "metadata": {},
   "source": [
    "$AA=A$"
   ]
  },
  {
   "cell_type": "markdown",
   "metadata": {},
   "source": [
    "$X=(I-A)$"
   ]
  },
  {
   "cell_type": "markdown",
   "metadata": {},
   "source": [
    "$X^2=(I-A)(I-A) \\\\\n",
    "=I - IA - AI + A^2 \\\\\n",
    "=I - 2A + AA\n",
    "$"
   ]
  },
  {
   "cell_type": "markdown",
   "metadata": {},
   "source": [
    "$X^2=I-2A+A \\\\\n",
    "=I-A=X\n",
    "$"
   ]
  },
  {
   "cell_type": "markdown",
   "metadata": {},
   "source": [
    "#### (c)"
   ]
  },
  {
   "cell_type": "markdown",
   "metadata": {},
   "source": [
    "$\\left(\\frac{1}{2}I_{n\\times n}-A\\right)\\left(\\alpha I_{n\\times  n}+\\beta A\\right)=I \\\\\n",
    "\\frac{\\alpha}{2}I + \\frac{\\beta}{2}A-\\alpha A-\\beta AA=I\n",
    "$"
   ]
  },
  {
   "cell_type": "markdown",
   "metadata": {},
   "source": [
    "$(\\frac{\\beta}{2}-\\alpha-\\beta)A + (\\frac{\\alpha}{2}-1)I=0$"
   ]
  },
  {
   "cell_type": "markdown",
   "metadata": {},
   "source": [
    "$\\frac{\\alpha}{2}-1=0 \\rightarrow \\alpha=2$"
   ]
  },
  {
   "cell_type": "markdown",
   "metadata": {},
   "source": [
    "$\\frac{\\beta}{2}-2-\\beta=0 \\rightarrow \\beta=-4$"
   ]
  },
  {
   "cell_type": "markdown",
   "metadata": {},
   "source": [
    "$X^{-1}=2I -4A$"
   ]
  },
  {
   "cell_type": "markdown",
   "metadata": {},
   "source": [
    "#### (d)"
   ]
  },
  {
   "cell_type": "markdown",
   "metadata": {},
   "source": [
    "$$\n",
    "\\begin{aligned}\n",
    "\\lambda\\vec{x} &= A\\vec{x} \\\\\n",
    "&= AA\\vec{x} \\\\\n",
    "&= A(A\\vec{x}) \\\\\n",
    "&= A(\\lambda \\vec{x}) \\\\\n",
    "&= \\lambda (A\\vec{x}) \\\\\n",
    "&= \\lambda (\\lambda \\vec{x}) \\\\\n",
    "&= \\lambda^2\\vec{x}\n",
    "\\end{aligned}\n",
    "$$"
   ]
  },
  {
   "cell_type": "markdown",
   "metadata": {},
   "source": [
    "$\\lambda^2\\vec{x}-\\lambda\\vec{x} = \\lambda(\\lambda-1)\\vec{x} = 0$"
   ]
  }
 ],
 "metadata": {
  "anaconda-cloud": {},
  "kernelspec": {
   "display_name": "Python [default]",
   "language": "python",
   "name": "python3"
  },
  "language_info": {
   "codemirror_mode": {
    "name": "ipython",
    "version": 3
   },
   "file_extension": ".py",
   "mimetype": "text/x-python",
   "name": "python",
   "nbconvert_exporter": "python",
   "pygments_lexer": "ipython3",
   "version": "3.5.4"
  }
 },
 "nbformat": 4,
 "nbformat_minor": 2
}
