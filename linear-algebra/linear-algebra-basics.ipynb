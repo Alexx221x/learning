{
 "cells": [
  {
   "cell_type": "markdown",
   "metadata": {},
   "source": [
    "# Linear Algebra Basics\n",
    "https://people.csail.mit.edu/jsolomon/share/book/numerical_book.pdf"
   ]
  },
  {
   "cell_type": "markdown",
   "metadata": {},
   "source": [
    "### Sets\n",
    "\n",
    "Natural numbers\n",
    "$$\\mathbb{N}=\\{n\\in\\mathbb{Z}: n>0\\}$$\n",
    "\n",
    "Euclidean product\n",
    "$$A\\times B=\\{(a, b): a\\in A\\ and\\ b \\in B\\}$$\n",
    "\n",
    "Power of sets\n",
    "$$A^n=\\underbrace{A\\times A \\times\\ \\ldots \\times A}_{n\\text{ times}}$$\n",
    "\n",
    "### Vector space\n",
    "A vector space over $\\mathbb{R}$ is a set $\\mathcal{V}$ closed under addition and scalar multiplication with:\n",
    "- Additive commutativity and associativity\n",
    "- Distributivity\n",
    "- Additive identity\n",
    "- Additive inverse\n",
    "- Multiplicative identity\n",
    "- Multiplicative compatibility\n",
    "\n",
    "A member $\\vec{v}\\in\\mathcal{V}$ is a vector\n",
    "\n",
    "### Span\n",
    "All the vectors we can reach with addition and scalar multiplication.\n",
    "\n",
    "The span of a set $S\\subseteq\\mathcal{V}$ is:\n",
    "$$spanS=\\{a_1\\vec{v_1}+\\ldots+a_k\\vec{v_k}: \\vec{v_i}\\in S\\ and\\ a_i\\in\\mathbb{R}\\ for\\ all\\ i\\}$$\n",
    "\n",
    "* Span $S$ is a subspace of $\\mathcal{V}$\n",
    "\n",
    "### Linear indepdence\n",
    "A set $S\\subseteq\\mathcal{V}$ is linearly dependent if:\n",
    "* One of the elements in $S$ can be written as a linear combination of the other elements\n",
    "* S contains zero\n",
    "* A linear combination of elements yields 0\n",
    "* There exists a $\\vec{v}\\in S$ that $S=spanS\\backslash\\{\\vec{v}\\}$\n",
    "\n",
    "### Basis and dimension\n",
    "- Basis: linearly independent set $S\\subset\\mathcal{V}$ such that $spanS=\\mathcal{V}$\n",
    "- Dimension: $|S|$\n",
    "- Standard basis: sets of vectors of $\\vec{e_k}$ where $\\vec{e_k}$ has all zeros except for a single one in the k-th position\n",
    "\n",
    "### $\\mathbb{R}^n$\n",
    "- Vector space structure\n",
    "- Dot product\n",
    "    - A metric\n",
    "    - Geometry\n",
    "    - $\\lVert \\mathbf{\\vec{a}} \\rVert_2 = \\sqrt{\\vec{a}.\\vec{a}}$\n",
    "    - $\\vec{a}.\\vec{b}=\\lVert \\mathbf{\\vec{a}} \\rVert_2\\lVert \\mathbf{\\vec{b}} \\rVert_2 \\cos{\\theta}$\n",
    "    - Cauchy-Schwarz inequality ensures $|\\vec{a}.\\vec{b}|\\leq \\lVert \\mathbf{\\vec{a}} \\rVert_2\\lVert \\mathbf{\\vec{b}} \\rVert_2$\n",
    "    - Two vectors orthogonal when $\\vec{a}.\\vec{b}=0$\n",
    "    \n",
    "### Matrix product\n",
    "- Product of matrix $M\\in\\mathbb{R}^{m\\times n}$ and another matrix in $\\mathbb{R}^{n\\times p}$\n",
    "$$M\\begin{pmatrix}\n",
    " \\mid  & \\mid  & & \\mid \\\\ \n",
    " \\vec{c_1}  & \\vec{c_2} & \\ldots & \\vec{c_p} \\\\ \n",
    " \\mid  & \\mid  & & \\mid\n",
    "\\end{pmatrix}=\\begin{pmatrix}\n",
    " \\mid  & \\mid  & & \\mid \\\\ \n",
    " M\\vec{c_1}  & M\\vec{c_2} & \\ldots & M\\vec{c_p} \\\\ \n",
    " \\mid  & \\mid  & & \\mid\n",
    "\\end{pmatrix}$$\n",
    "\n",
    "### Transpose\n",
    "- $\\vec{a}.\\vec{b}=\\vec{a}^T\\vec{b}$ where $\\vec{a}^T$ is a row vector\n",
    "- "
   ]
  },
  {
   "cell_type": "markdown",
   "metadata": {},
   "source": []
  },
  {
   "cell_type": "code",
   "execution_count": null,
   "metadata": {},
   "outputs": [],
   "source": []
  }
 ],
 "metadata": {
  "anaconda-cloud": {},
  "kernelspec": {
   "display_name": "Python [default]",
   "language": "python",
   "name": "python3"
  },
  "language_info": {
   "codemirror_mode": {
    "name": "ipython",
    "version": 3
   },
   "file_extension": ".py",
   "mimetype": "text/x-python",
   "name": "python",
   "nbconvert_exporter": "python",
   "pygments_lexer": "ipython3",
   "version": "3.5.4"
  }
 },
 "nbformat": 4,
 "nbformat_minor": 2
}
