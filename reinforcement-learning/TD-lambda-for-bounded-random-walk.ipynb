{
 "cells": [
  {
   "cell_type": "markdown",
   "metadata": {},
   "source": [
    "# TD(λ)"
   ]
  },
  {
   "cell_type": "markdown",
   "metadata": {},
   "source": [
    "Bounded random walk with TD(λ) from [Learning to Predict by the Methods of Temporal Dierences](http://citeseerx.ist.psu.edu/viewdoc/download?doi=10.1.1.132.7760&rep=rep1&type=pdf)"
   ]
  },
  {
   "cell_type": "markdown",
   "metadata": {},
   "source": [
    "### Random walk generation"
   ]
  },
  {
   "cell_type": "code",
   "execution_count": 10,
   "metadata": {
    "collapsed": true
   },
   "outputs": [],
   "source": [
    "def generate_random_walk():\n",
    "    \"\"\"\n",
    "    Generates a single walk\n",
    "    :return: array of states (strings)\n",
    "    \"\"\"\n",
    "\n",
    "    terminal_states = {'A', 'G'}\n",
    "    choices = {\n",
    "        'B': ['A', 'C'],\n",
    "        'C': ['B', 'D'],\n",
    "        'D': ['C', 'E'],\n",
    "        'E': ['D', 'F'],\n",
    "        'F': ['E', 'G']\n",
    "    }\n",
    "\n",
    "    # Start at state D\n",
    "    sequence = ['D']\n",
    "\n",
    "    while sequence[-1] not in terminal_states:\n",
    "        next_state = random.choice(choices[sequence[-1]])\n",
    "        sequence.append(next_state)\n",
    "\n",
    "    return sequence"
   ]
  },
  {
   "cell_type": "code",
   "execution_count": 15,
   "metadata": {
    "collapsed": true
   },
   "outputs": [],
   "source": [
    "def test_random_walk():\n",
    "    random.seed()\n",
    "    walks = [generate_random_walk() for _ in range(1000)]\n",
    "    all_first = all((walk[0] == 'D' for walk in walks))\n",
    "    all_last = all((walk[-1] in {'A', 'G'} for walk in walks))\n",
    "    all_len = all((len(walk) >= 4 for walk in walks))\n",
    "    all_middle = all((all([w not in {'A', 'G'} for w in walk[1:-1]]) for walk in walks))\n",
    "    actual = all([all_first, all_last, all_len, all_middle])\n",
    "    expected = True\n",
    "    assert expected == actual\n",
    "    print('✓ All tests successful')"
   ]
  },
  {
   "cell_type": "code",
   "execution_count": 16,
   "metadata": {
    "collapsed": false
   },
   "outputs": [
    {
     "name": "stdout",
     "output_type": "stream",
     "text": [
      "✓ All tests successful\n"
     ]
    }
   ],
   "source": [
    "test_random_walk()"
   ]
  },
  {
   "cell_type": "markdown",
   "metadata": {},
   "source": [
    "### Equation 4"
   ]
  },
  {
   "cell_type": "code",
   "execution_count": 19,
   "metadata": {
    "collapsed": true
   },
   "outputs": [],
   "source": [
    "def process_walk(walk, weights, alpha, lambda_, terminal_states):\n",
    "    \"\"\"\n",
    "    Calculate changes in weights (dw) for a single walk\n",
    "    :param walk: sequence of states\n",
    "    :param weights: current value of weights\n",
    "    :param alpha: learning rate\n",
    "    :param lambda_: \n",
    "    :param dict of (terminal state, reward)'s\n",
    "    :return: dw (dict)\n",
    "    \"\"\"\n",
    "    \n",
    "    def _clip(x, max_=1, min_=0):\n",
    "        return max(min_, min(x, max_))\n",
    "    \n",
    "    def _p(w, state):\n",
    "        # P_t\n",
    "        return _clip(w[state])\n",
    "\n",
    "    def _p_next(w, state):\n",
    "        # P_t+1\n",
    "        if state in terminal_states:\n",
    "            return terminal_states[state]\n",
    "        else:\n",
    "            return _clip(_p(w, state))\n",
    "        \n",
    "    def _add_dictionaries(a, b):\n",
    "        \"\"\"\n",
    "        Adds two dictionaries and returns a new dict \n",
    "        :param a: first dict\n",
    "        :param b: second dict\n",
    "        :return: new dictionary with common keys added and non-common keys from both dictionaries present\n",
    "        \"\"\"\n",
    "        return {k: a.get(k, 0) + b.get(k, 0) for k in set(a) | set(b)}\n",
    "    \n",
    "    def _get_delta_w(walk, t_index, error, alpha, lambda_):\n",
    "        \"\"\"\n",
    "        Calculate delta_w vector\n",
    "        :param walk: array of states/strings\n",
    "        :param t_index: t\n",
    "        :param error: P_t+1 - P_t\n",
    "        :param alpha: learning rate\n",
    "        :param lambda_: of TD(lambda)\n",
    "        :return: delta_w (dict)\n",
    "        \"\"\"\n",
    "        # Vector of delta_w's (by state)\n",
    "        states_vector = defaultdict(float)\n",
    "\n",
    "        # This is the sum over k=1 to t_index of lambda ** (t_index -k) in equation 4\n",
    "        for k in range(t_index + 1):\n",
    "            state_at_k = walk[k]\n",
    "            lambda_to_the_power = lambda_ ** (t_index - k)\n",
    "            if lambda_to_the_power > 0:\n",
    "                states_vector[state_at_k] += alpha * error * lambda_to_the_power\n",
    "\n",
    "        # Equation 4\n",
    "        result = {state: states_vector[state] for state in states_vector}\n",
    "        return result\n",
    "    \n",
    "    # Δw\n",
    "    dw = defaultdict(float)\n",
    "\n",
    "    # Go all the way up to (not including) the terminal state\n",
    "    for t_index in range(len(walk) - 1):\n",
    "        state_current = walk[t_index]\n",
    "        state_next = walk[t_index + 1]\n",
    "        p_t = _p(weights, state_current)\n",
    "        p_t_plus1 = _p_next(weights, state_next)\n",
    "        error = p_t_plus1 - p_t\n",
    "        dw_t = _get_delta_w(walk, t_index, error, alpha, lambda_)\n",
    "\n",
    "        # Add the current state t's Δw_t to the overall Δw\n",
    "        dw = _add_dictionaries(dw, dw_t)\n",
    "\n",
    "    return dw"
   ]
  },
  {
   "cell_type": "markdown",
   "metadata": {},
   "source": [
    "### Setup"
   ]
  },
  {
   "cell_type": "code",
   "execution_count": 24,
   "metadata": {
    "collapsed": false
   },
   "outputs": [
    {
     "data": {
      "text/plain": [
       "{'B': 0.5, 'C': 0.5, 'D': 0.5, 'E': 0.5, 'F': 0.5}"
      ]
     },
     "execution_count": 24,
     "metadata": {},
     "output_type": "execute_result"
    }
   ],
   "source": [
    "weight_initial = 0.5\n",
    "terminal_states = {'A': 0, 'G': 1}\n",
    "weights_initial = {state: weight_initial for state in 'BCDEF'}\n",
    "weights_initial"
   ]
  },
  {
   "cell_type": "markdown",
   "metadata": {},
   "source": [
    "### Weight updates"
   ]
  },
  {
   "cell_type": "code",
   "execution_count": 25,
   "metadata": {
    "collapsed": true
   },
   "outputs": [],
   "source": [
    "# Sample walks\n",
    "walk_right = ['D', 'E', 'F', 'G']\n",
    "walk_left  = ['D', 'C', 'B', 'A']"
   ]
  },
  {
   "cell_type": "code",
   "execution_count": 51,
   "metadata": {
    "collapsed": false
   },
   "outputs": [],
   "source": [
    "process_walk_partial = partial(process_walk,\n",
    "                               weights=weights_initial,\n",
    "                               terminal_states=terminal_states)"
   ]
  },
  {
   "cell_type": "code",
   "execution_count": 34,
   "metadata": {
    "collapsed": false
   },
   "outputs": [
    {
     "data": {
      "text/plain": [
       "{'D': 0.0, 'E': 0.0, 'F': 0.005}"
      ]
     },
     "execution_count": 34,
     "metadata": {},
     "output_type": "execute_result"
    }
   ],
   "source": [
    "# With λ=0 we're only updating the step\n",
    "process_walk_partial(walk=walk_right, alpha=0.01, lambda_=0)"
   ]
  },
  {
   "cell_type": "code",
   "execution_count": 35,
   "metadata": {
    "collapsed": false
   },
   "outputs": [
    {
     "data": {
      "text/plain": [
       "{'D': 0.00125, 'E': 0.0025, 'F': 0.005}"
      ]
     },
     "execution_count": 35,
     "metadata": {},
     "output_type": "execute_result"
    }
   ],
   "source": [
    "# With λ=0.5 the weight update is propagated\n",
    "process_walk_partial(walk=walk_right, alpha=0.01, lambda_=0.5)"
   ]
  },
  {
   "cell_type": "code",
   "execution_count": 36,
   "metadata": {
    "collapsed": false
   },
   "outputs": [
    {
     "data": {
      "text/plain": [
       "{'D': 0.005, 'E': 0.005, 'F': 0.005}"
      ]
     },
     "execution_count": 36,
     "metadata": {},
     "output_type": "execute_result"
    }
   ],
   "source": [
    "# With λ=1 the weight update is propagated equally\n",
    "process_walk_partial(walk=walk_right, alpha=0.01, lambda_=1)"
   ]
  },
  {
   "cell_type": "code",
   "execution_count": 52,
   "metadata": {
    "collapsed": false
   },
   "outputs": [
    {
     "data": {
      "text/plain": [
       "{'D': 0.0, 'E': 0.0, 'F': 0.05}"
      ]
     },
     "execution_count": 52,
     "metadata": {},
     "output_type": "execute_result"
    }
   ],
   "source": [
    "# Alpha controls the learning rate or how much we're updating the weights\n",
    "process_walk_partial(walk=walk_right, alpha=0.1, lambda_=0)"
   ]
  },
  {
   "cell_type": "code",
   "execution_count": 41,
   "metadata": {
    "collapsed": false
   },
   "outputs": [
    {
     "data": {
      "text/plain": [
       "{'B': -0.005, 'C': 0.0, 'D': 0.0}"
      ]
     },
     "execution_count": 41,
     "metadata": {},
     "output_type": "execute_result"
    }
   ],
   "source": [
    "# Walking to the left lowers the weights since reward of \n",
    "# landing in state A is 0\n",
    "process_walk_partial(walk=walk_left, alpha=0.01, lambda_=0)"
   ]
  },
  {
   "cell_type": "code",
   "execution_count": 42,
   "metadata": {
    "collapsed": false
   },
   "outputs": [
    {
     "data": {
      "text/plain": [
       "{'B': -0.05, 'C': -0.025, 'D': -0.0125}"
      ]
     },
     "execution_count": 42,
     "metadata": {},
     "output_type": "execute_result"
    }
   ],
   "source": [
    "# λ=0.5 propagates the weight change back\n",
    "process_walk_partial(walk=walk_left, alpha=0.1, lambda_=0.5)"
   ]
  },
  {
   "cell_type": "code",
   "execution_count": 53,
   "metadata": {
    "collapsed": false
   },
   "outputs": [
    {
     "data": {
      "text/plain": [
       "{'B': -0.05, 'C': -0.05, 'D': -0.05}"
      ]
     },
     "execution_count": 53,
     "metadata": {},
     "output_type": "execute_result"
    }
   ],
   "source": [
    "# λ=1 propagates the weight change back with equal weight for all steps\n",
    "process_walk_partial(walk=walk_left, alpha=0.1, lambda_=1)"
   ]
  },
  {
   "cell_type": "code",
   "execution_count": 48,
   "metadata": {
    "collapsed": false
   },
   "outputs": [
    {
     "data": {
      "text/plain": [
       "{'D': 0.25, 'E': 0.25, 'F': 0.05}"
      ]
     },
     "execution_count": 48,
     "metadata": {},
     "output_type": "execute_result"
    }
   ],
   "source": [
    "# With λ>0 repeated states become problematic, specially with a large alpha\n",
    "process_walk_partial(\n",
    "    walk=['D', 'E', 'D', 'E', 'D', 'E', 'D', 'E', 'D', 'E', 'F', 'G'],\n",
    "    alpha=0.1,\n",
    "    lambda_=1\n",
    ")"
   ]
  },
  {
   "cell_type": "code",
   "execution_count": 49,
   "metadata": {
    "collapsed": false
   },
   "outputs": [
    {
     "data": {
      "text/plain": [
       "{'D': 1.25, 'E': 1.25, 'F': 0.25}"
      ]
     },
     "execution_count": 49,
     "metadata": {},
     "output_type": "execute_result"
    }
   ],
   "source": [
    "# D and E are now larger than 1 which doesn't make sense\n",
    "process_walk_partial(\n",
    "    walk=['D', 'E', 'D', 'E', 'D', 'E', 'D', 'E', 'D', 'E', 'F', 'G'],\n",
    "    alpha=0.5,\n",
    "    lambda_=1\n",
    ")"
   ]
  }
 ],
 "metadata": {
  "anaconda-cloud": {},
  "kernelspec": {
   "display_name": "Python [default]",
   "language": "python",
   "name": "python3"
  },
  "language_info": {
   "codemirror_mode": {
    "name": "ipython",
    "version": 3
   },
   "file_extension": ".py",
   "mimetype": "text/x-python",
   "name": "python",
   "nbconvert_exporter": "python",
   "pygments_lexer": "ipython3",
   "version": "3.5.2"
  }
 },
 "nbformat": 4,
 "nbformat_minor": 2
}
