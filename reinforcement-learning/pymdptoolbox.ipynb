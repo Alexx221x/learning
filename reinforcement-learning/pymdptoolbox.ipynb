{
 "cells": [
  {
   "cell_type": "markdown",
   "metadata": {},
   "source": [
    "# pymdptoolbox"
   ]
  },
  {
   "cell_type": "markdown",
   "metadata": {},
   "source": [
    "- https://github.com/sawcordwell/pymdptoolbox\n",
    "- https://github.com/cvxopt/cvxopt"
   ]
  },
  {
   "cell_type": "code",
   "execution_count": 49,
   "metadata": {
    "collapsed": false
   },
   "outputs": [],
   "source": [
    "from mdptoolbox.mdp import ValueIteration\n",
    "from mdptoolbox.example import forest, small\n",
    "\n",
    "def value_iteration(example, gamma = 0.9):\n",
    "    # Need probability (transition) and reward matrices\n",
    "    probability_matrix, reward_matrix = example()\n",
    "    \n",
    "    # Setup value iteration\n",
    "    vi = ValueIteration(probability_matrix,\n",
    "                        reward_matrix,\n",
    "                        gamma)\n",
    "    vi.run()\n",
    "    print('Optimal policy : {}'.format(vi.policy))\n",
    "    print('Expected value : {}'.format(vi.V))"
   ]
  },
  {
   "cell_type": "code",
   "execution_count": 50,
   "metadata": {
    "collapsed": false
   },
   "outputs": [
    {
     "name": "stdout",
     "output_type": "stream",
     "text": [
      "Optimal policy : (0, 0, 0)\n",
      "Expected value : (5.051970000000001, 8.291970000000001, 12.291970000000001)\n"
     ]
    }
   ],
   "source": [
    "value_iteration(forest)"
   ]
  },
  {
   "cell_type": "code",
   "execution_count": 51,
   "metadata": {
    "collapsed": false
   },
   "outputs": [
    {
     "name": "stdout",
     "output_type": "stream",
     "text": [
      "Optimal policy : (1, 0)\n",
      "Expected value : (40.048625392716815, 33.65371175967546)\n"
     ]
    }
   ],
   "source": [
    "value_iteration(small)"
   ]
  },
  {
   "cell_type": "markdown",
   "metadata": {},
   "source": [
    "Here's a good example: https://github.com/rldm/rldm_tutorials/blob/master/pymdptoolbox_example/pymdptoolbox_example.ipynb"
   ]
  }
 ],
 "metadata": {
  "anaconda-cloud": {},
  "kernelspec": {
   "display_name": "Python [default]",
   "language": "python",
   "name": "python3"
  },
  "language_info": {
   "codemirror_mode": {
    "name": "ipython",
    "version": 3
   },
   "file_extension": ".py",
   "mimetype": "text/x-python",
   "name": "python",
   "nbconvert_exporter": "python",
   "pygments_lexer": "ipython3",
   "version": "3.5.2"
  }
 },
 "nbformat": 4,
 "nbformat_minor": 2
}
