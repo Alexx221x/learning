{
 "cells": [
  {
   "cell_type": "markdown",
   "metadata": {},
   "source": [
    "# Vectorized epsilon-greedy bandits"
   ]
  },
  {
   "cell_type": "code",
   "execution_count": 147,
   "metadata": {
    "collapsed": true
   },
   "outputs": [],
   "source": [
    "%matplotlib inline\n",
    "import numpy as np\n",
    "import pandas as pd\n",
    "import seaborn"
   ]
  },
  {
   "cell_type": "code",
   "execution_count": 142,
   "metadata": {
    "collapsed": false
   },
   "outputs": [
    {
     "name": "stdout",
     "output_type": "stream",
     "text": [
      "CPU times: user 1min 5s, sys: 1.11 s, total: 1min 6s\n",
      "Wall time: 1min 7s\n"
     ]
    }
   ],
   "source": [
    "%%time\n",
    "number_arms = 100\n",
    "number_pulls = 50000\n",
    "number_bandits = 2000  # number of randomly generated bandit configurations\n",
    "\n",
    "epsilon = 0.1\n",
    "\n",
    "q_star = np.random.normal(5, 1, (number_bandits, number_arms))  # Q* with mean 5 and var 1\n",
    "q = np.zeros((number_bandits, number_arms))\n",
    "counts = np.zeros((number_bandits, number_arms))\n",
    "rand = np.random.rand(number_pulls, number_bandits)  # random values for epsilon-greedy\n",
    "range_bandits = np.arange(number_bandits)  # TODO: this is a hack to get slicing working, is there a better way?\n",
    "rewards_global = np.zeros((number_bandits, number_pulls))\n",
    "\n",
    "for p in range(number_pulls):\n",
    "    # select an arm\n",
    "    r = rand[p]\n",
    "    arms = np.where(r < epsilon, np.random.choice(number_arms), np.argmax(q, axis=1))\n",
    "    \n",
    "    # Get a reward based on arm\n",
    "    rewards = np.random.normal(q_star[range_bandits, arms], 1)\n",
    "    rewards_global[:, p] = rewards\n",
    "    \n",
    "    # Update\n",
    "    tmp = np.zeros_like(counts)\n",
    "    tmp[range_bandits, arms] = 1  # TODO: don't like these tmp stuff, can we get rid of them?\n",
    "    counts += tmp\n",
    "    tmp = np.zeros_like(q)\n",
    "    tmp[range_bandits, arms] = (1 / counts[range_bandits, arms]) * (rewards - q[range_bandits, arms])\n",
    "    q += tmp"
   ]
  },
  {
   "cell_type": "code",
   "execution_count": 148,
   "metadata": {
    "collapsed": false
   },
   "outputs": [
    {
     "data": {
      "text/plain": [
       "<matplotlib.axes._subplots.AxesSubplot at 0x108b487f0>"
      ]
     },
     "execution_count": 148,
     "metadata": {},
     "output_type": "execute_result"
    },
    {
     "data": {
      "image/png": "[encoded data removed]",
      "text/plain": [
       "<matplotlib.figure.Figure at 0x103d0dd30>"
      ]
     },
     "metadata": {},
     "output_type": "display_data"
    }
   ],
   "source": [
    "pd.Series(rewards_global.mean(axis=0)).plot()"
   ]
  },
  {
   "cell_type": "markdown",
   "metadata": {},
   "source": [
    "### References\n",
    "- http://incompleteideas.net/sutton/book/ebook/node19.html"
   ]
  }
 ],
 "metadata": {
  "anaconda-cloud": {},
  "kernelspec": {
   "display_name": "Python [default]",
   "language": "python",
   "name": "python3"
  },
  "language_info": {
   "codemirror_mode": {
    "name": "ipython",
    "version": 3
   },
   "file_extension": ".py",
   "mimetype": "text/x-python",
   "name": "python",
   "nbconvert_exporter": "python",
   "pygments_lexer": "ipython3",
   "version": "3.5.4"
  }
 },
 "nbformat": 4,
 "nbformat_minor": 2
}
