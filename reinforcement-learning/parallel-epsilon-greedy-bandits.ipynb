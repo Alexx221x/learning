{
 "cells": [
  {
   "cell_type": "markdown",
   "metadata": {},
   "source": [
    "# Parallel epsilon-greedy bandits"
   ]
  },
  {
   "cell_type": "code",
   "execution_count": 3,
   "metadata": {
    "collapsed": true
   },
   "outputs": [],
   "source": [
    "%matplotlib inline\n",
    "import numpy as np\n",
    "import pandas as pd\n",
    "import seaborn\n",
    "from joblib import Parallel, delayed"
   ]
  },
  {
   "cell_type": "code",
   "execution_count": 4,
   "metadata": {
    "collapsed": true
   },
   "outputs": [],
   "source": [
    "k = 2\n",
    "bandits = 2000\n",
    "pulls = 20000\n",
    "epsilon = 0.1"
   ]
  },
  {
   "cell_type": "code",
   "execution_count": 5,
   "metadata": {
    "collapsed": false
   },
   "outputs": [
    {
     "name": "stdout",
     "output_type": "stream",
     "text": [
      "5.87409026552\n",
      "CPU times: user 1.64 s, sys: 596 ms, total: 2.23 s\n",
      "Wall time: 1min 45s\n"
     ]
    },
    {
     "data": {
      "image/png": "[encoded data removed]",
      "text/plain": [
       "<matplotlib.figure.Figure at 0x10bf69438>"
      ]
     },
     "metadata": {},
     "output_type": "display_data"
    }
   ],
   "source": [
    "%%time\n",
    "\n",
    "def run_bandit():\n",
    "    average_rewards = np.zeros(pulls)\n",
    "    q_star = np.random.normal(5, 1, k)\n",
    "    values = np.zeros(k)\n",
    "    counts = np.zeros(k)\n",
    "\n",
    "    for p in range(pulls):\n",
    "        if np.random.uniform() <= epsilon:\n",
    "            arm = np.random.choice(range(k))\n",
    "        else:\n",
    "            arm = np.argmax(values)\n",
    "\n",
    "        # Play that arm\n",
    "        reward = np.random.normal(q_star[arm], 1)\n",
    "        counts[arm] += 1\n",
    "\n",
    "        # Update\n",
    "        values[arm] += (1 / counts[arm]) * (reward - values[arm])\n",
    "        average_rewards[p] = reward\n",
    "\n",
    "    return average_rewards\n",
    "\n",
    "results = [Parallel(n_jobs=-1)(delayed(run_bandit)()\n",
    "                               for _ in range(bandits))]\n",
    "results = np.vstack(results[0])\n",
    "print(results.mean(axis=0).max())\n",
    "pd.Series(results.mean(axis=0)).plot()"
   ]
  }
 ],
 "metadata": {
  "anaconda-cloud": {},
  "kernelspec": {
   "display_name": "Python [default]",
   "language": "python",
   "name": "python3"
  },
  "language_info": {
   "codemirror_mode": {
    "name": "ipython",
    "version": 3
   },
   "file_extension": ".py",
   "mimetype": "text/x-python",
   "name": "python",
   "nbconvert_exporter": "python",
   "pygments_lexer": "ipython3",
   "version": "3.5.4"
  }
 },
 "nbformat": 4,
 "nbformat_minor": 2
}
