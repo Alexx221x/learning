{
 "cells": [
  {
   "cell_type": "markdown",
   "metadata": {},
   "source": [
    "# Widrow-Hoff\n",
    "### a.k.a. delta rule, the ADALINE, or LMS filter\n",
    "\n",
    "### Intuition"
   ]
  },
  {
   "cell_type": "code",
   "execution_count": 25,
   "metadata": {
    "collapsed": true
   },
   "outputs": [],
   "source": [
    "def widrow_hoff(x, actual, prediction, learning_rate = 1):\n",
    "    error = (actual - prediction)\n",
    "    delta_w = learning_rate * error * x\n",
    "    print('x       : {}'.format(x))\n",
    "    print('Error   : {}'.format(error))\n",
    "    print('delta_w : {}'.format(delta_w)) "
   ]
  },
  {
   "cell_type": "code",
   "execution_count": 26,
   "metadata": {
    "collapsed": false
   },
   "outputs": [
    {
     "name": "stdout",
     "output_type": "stream",
     "text": [
      "x       : 5\n",
      "Error   : 2\n",
      "delta_w : 10\n"
     ]
    }
   ],
   "source": [
    "widrow_hoff(5, 10, 8)"
   ]
  },
  {
   "cell_type": "markdown",
   "metadata": {},
   "source": [
    "If actual > predicted (**error > 0**) and **x > 0** then we need a larger weight to make up for the difference"
   ]
  },
  {
   "cell_type": "code",
   "execution_count": 27,
   "metadata": {
    "collapsed": false
   },
   "outputs": [
    {
     "name": "stdout",
     "output_type": "stream",
     "text": [
      "x       : 5\n",
      "Error   : -2\n",
      "delta_w : -10\n"
     ]
    }
   ],
   "source": [
    "widrow_hoff(5, 8, 10)"
   ]
  },
  {
   "cell_type": "markdown",
   "metadata": {},
   "source": [
    "If actual < predicted (**error < 0**) and **x > 0** then we need to reduce the weight"
   ]
  },
  {
   "cell_type": "code",
   "execution_count": 28,
   "metadata": {
    "collapsed": false
   },
   "outputs": [
    {
     "name": "stdout",
     "output_type": "stream",
     "text": [
      "x       : -5\n",
      "Error   : 2\n",
      "delta_w : -10\n"
     ]
    }
   ],
   "source": [
    "widrow_hoff(-5, 10, 8)"
   ]
  },
  {
   "cell_type": "markdown",
   "metadata": {},
   "source": [
    "If actual < predicted (**error > 0**) and **x < 0** then we need to decrease the weight"
   ]
  },
  {
   "cell_type": "code",
   "execution_count": 29,
   "metadata": {
    "collapsed": false
   },
   "outputs": [
    {
     "name": "stdout",
     "output_type": "stream",
     "text": [
      "x       : -5\n",
      "Error   : -2\n",
      "delta_w : 10\n"
     ]
    }
   ],
   "source": [
    "widrow_hoff(-5, 8, 10)"
   ]
  },
  {
   "cell_type": "markdown",
   "metadata": {},
   "source": [
    "If actual < predicted (**error < 0**) and **x < 0** then we need to increase the weight"
   ]
  }
 ],
 "metadata": {
  "anaconda-cloud": {},
  "kernelspec": {
   "display_name": "Python [default]",
   "language": "python",
   "name": "python3"
  },
  "language_info": {
   "codemirror_mode": {
    "name": "ipython",
    "version": 3
   },
   "file_extension": ".py",
   "mimetype": "text/x-python",
   "name": "python",
   "nbconvert_exporter": "python",
   "pygments_lexer": "ipython3",
   "version": "3.5.2"
  }
 },
 "nbformat": 4,
 "nbformat_minor": 2
}
