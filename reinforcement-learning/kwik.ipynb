{
 "cells": [
  {
   "cell_type": "markdown",
   "metadata": {},
   "source": [
    "# Knows What It Knows (KWIK)\n",
    "A framework for self-aware learning\n",
    "\n",
    "- Combines elements of Probably Approximately Correct (PAC) and mistake-bound models\n",
    "- Useful for active learning\n",
    "\n",
    "### Motivation\n",
    "- Polynomial sample complexity guarantee algorithms\n",
    "    - Rmax algorithm that estimates transition probabilities for each state-action-next action of MDP\n",
    "    - Accuracy bound using Hoeffding bounds\n",
    "- KWIK\n",
    "    1. Only makes accurate predictions\n",
    "    2. Can opt-out of prediction by saying \"i don't know\", which is polynomially bound"
   ]
  },
  {
   "cell_type": "code",
   "execution_count": null,
   "metadata": {
    "collapsed": true
   },
   "outputs": [],
   "source": []
  },
  {
   "cell_type": "code",
   "execution_count": null,
   "metadata": {
    "collapsed": true
   },
   "outputs": [],
   "source": []
  },
  {
   "cell_type": "markdown",
   "metadata": {},
   "source": [
    "### References\n",
    "- http://icml2008.cs.helsinki.fi/papers/627.pdf"
   ]
  }
 ],
 "metadata": {
  "anaconda-cloud": {},
  "kernelspec": {
   "display_name": "Python [default]",
   "language": "python",
   "name": "python3"
  },
  "language_info": {
   "codemirror_mode": {
    "name": "ipython",
    "version": 3
   },
   "file_extension": ".py",
   "mimetype": "text/x-python",
   "name": "python",
   "nbconvert_exporter": "python",
   "pygments_lexer": "ipython3",
   "version": "3.5.4"
  }
 },
 "nbformat": 4,
 "nbformat_minor": 2
}
