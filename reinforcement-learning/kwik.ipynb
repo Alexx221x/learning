{
 "cells": [
  {
   "cell_type": "markdown",
   "metadata": {},
   "source": [
    "# Knows What It Knows (KWIK)\n",
    "A framework for self-aware learning\n",
    "\n",
    "- Combines elements of Probably Approximately Correct (PAC) and mistake-bound models\n",
    "- Useful for active learning\n",
    "\n",
    "### Motivation\n",
    "- Polynomial sample complexity guarantee algorithms\n",
    "    - Rmax algorithm that estimates transition probabilities for each state-action-next action of MDP\n",
    "    - Accuracy bound using Hoeffding bounds\n",
    "- KWIK\n",
    "    1. Only makes accurate predictions\n",
    "    2. Can opt-out of prediction by saying \"i don't know\", which is polynomially bound"
   ]
  },
  {
   "cell_type": "markdown",
   "metadata": {},
   "source": [
    "### Example 1"
   ]
  },
  {
   "cell_type": "code",
   "execution_count": 28,
   "metadata": {
    "collapsed": false
   },
   "outputs": [],
   "source": [
    "from collections import Counter\n",
    "\n",
    "\n",
    "class Kwik:\n",
    "    def __init__(self, number_of_patrons):\n",
    "        # Init\n",
    "        self.current_i_do_not_knows = 0\n",
    "        self.number_of_patrons = number_of_patrons\n",
    "        self.max_i_do_not_knows = self.number_of_patrons * (self.number_of_patrons - 1)\n",
    "        self.instigator = None\n",
    "        self.peacemaker = None\n",
    "        self.candidates = {candidate_type: set(range(self.number_of_patrons))\n",
    "                           for candidate_type in ['instigator', 'peacemaker']}\n",
    "        self.peacemaker_candidates = set(range(self.number_of_patrons))\n",
    "        self.solved = False\n",
    "        self.memory = {}\n",
    "\n",
    "    def _remove_candidate(self, patron_index, candidate_type):\n",
    "        if not self.solved and not (candidate_type == 'instigator' and self.instigator is not None) \\\n",
    "                and not (candidate_type == 'peacemaker' and self.peacemaker is not None):\n",
    "            candidates_for_type = self.candidates[candidate_type]\n",
    "            candidates_for_type.discard(patron_index)\n",
    "\n",
    "            if len(candidates_for_type) == 1:\n",
    "                remaining = candidates_for_type.pop()\n",
    "                if candidate_type == 'instigator':\n",
    "                    self.instigator = remaining\n",
    "                    if self.peacemaker is not None:\n",
    "                        self.solved = True\n",
    "                    else:\n",
    "                        self._remove_candidate(remaining, 'peacemaker')\n",
    "                else:\n",
    "                    self.peacemaker = remaining\n",
    "                    if self.instigator is not None:\n",
    "                        self.solved = True\n",
    "                    else:\n",
    "                        self._remove_candidate(remaining, 'instigator')\n",
    "\n",
    "    def _learn(self, at_establishment, fight_occurred, counts):\n",
    "        if counts[True] == 1 and fight_occurred:\n",
    "            # If only one person is there and a fight breaks out -> he's the instigator\n",
    "            instigator = at_establishment.index(True)\n",
    "            self.instigator = instigator\n",
    "            self.candidates['instigator'] = set()\n",
    "            self._remove_candidate(instigator, 'peacemaker')\n",
    "        elif counts[True] == 1 and not fight_occurred:\n",
    "            # If only one person is there and no fight breaks out -> he's NOT the instigator\n",
    "            # remove him from the list of instigators\n",
    "            index = at_establishment.index(True)\n",
    "            self._remove_candidate(index, 'instigator')\n",
    "        else:\n",
    "            # Some people are present, eliminate candidates\n",
    "            for patron_index, patron_present in enumerate(at_establishment):\n",
    "                # If the patron was present\n",
    "                if patron_present:\n",
    "                    if fight_occurred:\n",
    "                        # The patron is not a peacemaker\n",
    "                        self._remove_candidate(patron_index, 'peacemaker')\n",
    "                    else:\n",
    "                        # The patron is not an instigator\n",
    "                        self._remove_candidate(patron_index, 'instigator')\n",
    "\n",
    "    def _all_known(self, at_establishment):\n",
    "        if at_establishment[self.instigator]:\n",
    "            if at_establishment[self.peacemaker]:\n",
    "                return 0\n",
    "            else:\n",
    "                return 1\n",
    "        else:\n",
    "            return 0\n",
    "\n",
    "    def _determine_and_learn(self, at_establishment, fight_occurred):\n",
    "        counts = Counter(at_establishment)\n",
    "\n",
    "        if len(counts) == 1:\n",
    "            # Everyone is present so no fight and nothing to learn\n",
    "            return 0\n",
    "        else:\n",
    "            self._learn(at_establishment, fight_occurred, counts)\n",
    "            if self.current_i_do_not_knows == self.max_i_do_not_knows:\n",
    "                raise ValueError(\"Exhausted ⟂\")\n",
    "            else:\n",
    "                self.current_i_do_not_knows += 1\n",
    "                return -1\n",
    "\n",
    "    def run_instance(self, at_establishment, fight_occurred):\n",
    "        # Make it hashable\n",
    "        at_establishment = tuple(at_establishment)\n",
    "\n",
    "        if at_establishment in self.memory:\n",
    "            # We've seen this before, return from memory\n",
    "            return int(self.memory[at_establishment])\n",
    "        else:\n",
    "            self.memory[at_establishment] = fight_occurred\n",
    "            if self.solved:\n",
    "                # Instigator and peacemaker are already known\n",
    "                return self._all_known(at_establishment)\n",
    "            else:\n",
    "                # Another case\n",
    "                return self._determine_and_learn(at_establishment, fight_occurred)"
   ]
  },
  {
   "cell_type": "markdown",
   "metadata": {},
   "source": [
    "### Example 1\n",
    "2 patrons"
   ]
  },
  {
   "cell_type": "code",
   "execution_count": 33,
   "metadata": {
    "collapsed": false
   },
   "outputs": [
    {
     "data": {
      "text/plain": [
       "{'instigator': {0, 1}, 'peacemaker': {0, 1}}"
      ]
     },
     "execution_count": 33,
     "metadata": {},
     "output_type": "execute_result"
    }
   ],
   "source": [
    "learner = Kwik(number_of_patrons=2)\n",
    "# both patrons 0 and 1 are candidates of being both I and P\n",
    "learner.candidates  "
   ]
  },
  {
   "cell_type": "code",
   "execution_count": 34,
   "metadata": {
    "collapsed": false
   },
   "outputs": [
    {
     "data": {
      "text/plain": [
       "{}"
      ]
     },
     "execution_count": 34,
     "metadata": {},
     "output_type": "execute_result"
    }
   ],
   "source": [
    "# We haven't memorized anything\n",
    "learner.memory"
   ]
  },
  {
   "cell_type": "code",
   "execution_count": 35,
   "metadata": {
    "collapsed": false
   },
   "outputs": [
    {
     "data": {
      "text/plain": [
       "0"
      ]
     },
     "execution_count": 35,
     "metadata": {},
     "output_type": "execute_result"
    }
   ],
   "source": [
    "# P and I present and no fight\n",
    "# Since we know that there's at least one I and one P\n",
    "# if everyone is present or absent we haven't learned anything\n",
    "# and we know that there's no fight\n",
    "learner.run_instance([True, True], False)"
   ]
  },
  {
   "cell_type": "code",
   "execution_count": 36,
   "metadata": {
    "collapsed": false
   },
   "outputs": [
    {
     "data": {
      "text/plain": [
       "{(True, True): False}"
      ]
     },
     "execution_count": 36,
     "metadata": {},
     "output_type": "execute_result"
    }
   ],
   "source": [
    "# Memorize this instance\n",
    "learner.memory"
   ]
  },
  {
   "cell_type": "code",
   "execution_count": 37,
   "metadata": {
    "collapsed": false
   },
   "outputs": [
    {
     "data": {
      "text/plain": [
       "{'instigator': {0, 1}, 'peacemaker': {0, 1}}"
      ]
     },
     "execution_count": 37,
     "metadata": {},
     "output_type": "execute_result"
    }
   ],
   "source": [
    "# Nothing was learnt from this case\n",
    "learner.candidates"
   ]
  },
  {
   "cell_type": "code",
   "execution_count": 38,
   "metadata": {
    "collapsed": false
   },
   "outputs": [
    {
     "data": {
      "text/plain": [
       "-1"
      ]
     },
     "execution_count": 38,
     "metadata": {},
     "output_type": "execute_result"
    }
   ],
   "source": [
    "# Patron 1 present and patron 0 absent\n",
    "# We still don't know who is who so return -1 (don't know)\n",
    "learner.run_instance([True, False], True)"
   ]
  },
  {
   "cell_type": "code",
   "execution_count": 39,
   "metadata": {
    "collapsed": false
   },
   "outputs": [
    {
     "data": {
      "text/plain": [
       "{(True, False): True, (True, True): False}"
      ]
     },
     "execution_count": 39,
     "metadata": {},
     "output_type": "execute_result"
    }
   ],
   "source": [
    "# Memorize\n",
    "learner.memory"
   ]
  },
  {
   "cell_type": "code",
   "execution_count": 40,
   "metadata": {
    "collapsed": false
   },
   "outputs": [
    {
     "data": {
      "text/plain": [
       "{'instigator': set(), 'peacemaker': set()}"
      ]
     },
     "execution_count": 40,
     "metadata": {},
     "output_type": "execute_result"
    }
   ],
   "source": [
    "# Since a fight broke out we know 0 was the I\n",
    "# and we can infer that 1 is P\n",
    "learner.candidates"
   ]
  },
  {
   "cell_type": "code",
   "execution_count": 41,
   "metadata": {
    "collapsed": false
   },
   "outputs": [
    {
     "data": {
      "text/plain": [
       "0"
      ]
     },
     "execution_count": 41,
     "metadata": {},
     "output_type": "execute_result"
    }
   ],
   "source": [
    "learner.instigator"
   ]
  },
  {
   "cell_type": "code",
   "execution_count": 42,
   "metadata": {
    "collapsed": false
   },
   "outputs": [
    {
     "data": {
      "text/plain": [
       "1"
      ]
     },
     "execution_count": 42,
     "metadata": {},
     "output_type": "execute_result"
    }
   ],
   "source": [
    "learner.peacemaker"
   ]
  },
  {
   "cell_type": "markdown",
   "metadata": {},
   "source": [
    "### Example 2\n",
    "3 patrons"
   ]
  },
  {
   "cell_type": "code",
   "execution_count": 43,
   "metadata": {
    "collapsed": false
   },
   "outputs": [
    {
     "data": {
      "text/plain": [
       "{'instigator': {0, 1, 2}, 'peacemaker': {0, 1, 2}}"
      ]
     },
     "execution_count": 43,
     "metadata": {},
     "output_type": "execute_result"
    }
   ],
   "source": [
    "learner = Kwik(3)\n",
    "learner.candidates"
   ]
  },
  {
   "cell_type": "code",
   "execution_count": 45,
   "metadata": {
    "collapsed": false
   },
   "outputs": [
    {
     "data": {
      "text/plain": [
       "0"
      ]
     },
     "execution_count": 45,
     "metadata": {},
     "output_type": "execute_result"
    }
   ],
   "source": [
    "learner.run_instance([True, True, True], False)"
   ]
  },
  {
   "cell_type": "code",
   "execution_count": 46,
   "metadata": {
    "collapsed": false
   },
   "outputs": [
    {
     "data": {
      "text/plain": [
       "-1"
      ]
     },
     "execution_count": 46,
     "metadata": {},
     "output_type": "execute_result"
    }
   ],
   "source": [
    "learner.run_instance([False, False, True], False)"
   ]
  },
  {
   "cell_type": "code",
   "execution_count": 47,
   "metadata": {
    "collapsed": false
   },
   "outputs": [
    {
     "data": {
      "text/plain": [
       "{'instigator': {0, 1}, 'peacemaker': {0, 1, 2}}"
      ]
     },
     "execution_count": 47,
     "metadata": {},
     "output_type": "execute_result"
    }
   ],
   "source": [
    "learner.candidates"
   ]
  },
  {
   "cell_type": "code",
   "execution_count": 48,
   "metadata": {
    "collapsed": false
   },
   "outputs": [
    {
     "data": {
      "text/plain": [
       "-1"
      ]
     },
     "execution_count": 48,
     "metadata": {},
     "output_type": "execute_result"
    }
   ],
   "source": [
    "learner.run_instance([True, True, False], True)"
   ]
  },
  {
   "cell_type": "code",
   "execution_count": 49,
   "metadata": {
    "collapsed": false
   },
   "outputs": [
    {
     "data": {
      "text/plain": [
       "{'instigator': {0, 1}, 'peacemaker': set()}"
      ]
     },
     "execution_count": 49,
     "metadata": {},
     "output_type": "execute_result"
    }
   ],
   "source": [
    "learner.candidates"
   ]
  },
  {
   "cell_type": "code",
   "execution_count": 50,
   "metadata": {
    "collapsed": false
   },
   "outputs": [
    {
     "data": {
      "text/plain": [
       "2"
      ]
     },
     "execution_count": 50,
     "metadata": {},
     "output_type": "execute_result"
    }
   ],
   "source": [
    "learner.peacemaker"
   ]
  },
  {
   "cell_type": "code",
   "execution_count": 51,
   "metadata": {
    "collapsed": false
   },
   "outputs": [
    {
     "data": {
      "text/plain": [
       "-1"
      ]
     },
     "execution_count": 51,
     "metadata": {},
     "output_type": "execute_result"
    }
   ],
   "source": [
    "learner.run_instance([False, True, True], False)"
   ]
  },
  {
   "cell_type": "code",
   "execution_count": 52,
   "metadata": {
    "collapsed": false
   },
   "outputs": [
    {
     "data": {
      "text/plain": [
       "{'instigator': set(), 'peacemaker': set()}"
      ]
     },
     "execution_count": 52,
     "metadata": {},
     "output_type": "execute_result"
    }
   ],
   "source": [
    "learner.candidates"
   ]
  },
  {
   "cell_type": "code",
   "execution_count": 53,
   "metadata": {
    "collapsed": false
   },
   "outputs": [
    {
     "data": {
      "text/plain": [
       "0"
      ]
     },
     "execution_count": 53,
     "metadata": {},
     "output_type": "execute_result"
    }
   ],
   "source": [
    "learner.instigator"
   ]
  },
  {
   "cell_type": "code",
   "execution_count": 54,
   "metadata": {
    "collapsed": false
   },
   "outputs": [
    {
     "data": {
      "text/plain": [
       "0"
      ]
     },
     "execution_count": 54,
     "metadata": {},
     "output_type": "execute_result"
    }
   ],
   "source": [
    "learner.run_instance([True, False, True], False)"
   ]
  },
  {
   "cell_type": "code",
   "execution_count": 55,
   "metadata": {
    "collapsed": false
   },
   "outputs": [
    {
     "data": {
      "text/plain": [
       "1"
      ]
     },
     "execution_count": 55,
     "metadata": {},
     "output_type": "execute_result"
    }
   ],
   "source": [
    "learner.run_instance([True, False, False], True)"
   ]
  },
  {
   "cell_type": "code",
   "execution_count": 56,
   "metadata": {
    "collapsed": false
   },
   "outputs": [
    {
     "data": {
      "text/plain": [
       "1"
      ]
     },
     "execution_count": 56,
     "metadata": {},
     "output_type": "execute_result"
    }
   ],
   "source": [
    "learner.run_instance([True, False, False], True)"
   ]
  },
  {
   "cell_type": "markdown",
   "metadata": {},
   "source": [
    "### References\n",
    "- http://icml2008.cs.helsinki.fi/papers/627.pdf"
   ]
  }
 ],
 "metadata": {
  "anaconda-cloud": {},
  "kernelspec": {
   "display_name": "Python [default]",
   "language": "python",
   "name": "python3"
  },
  "language_info": {
   "codemirror_mode": {
    "name": "ipython",
    "version": 3
   },
   "file_extension": ".py",
   "mimetype": "text/x-python",
   "name": "python",
   "nbconvert_exporter": "python",
   "pygments_lexer": "ipython3",
   "version": "3.5.4"
  }
 },
 "nbformat": 4,
 "nbformat_minor": 2
}
