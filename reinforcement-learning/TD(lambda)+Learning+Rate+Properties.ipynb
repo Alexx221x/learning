{
 "cells": [
  {
   "cell_type": "markdown",
   "metadata": {},
   "source": [
    "# Reinforcement Learning\n",
    "### Temporal Difference $ TD(\\lambda) $\n",
    "\n",
    "1. $\\sum \\alpha = \\infty $\n",
    "\n",
    "2. $\\sum \\alpha ^ 2 < \\infty $"
   ]
  },
  {
   "cell_type": "code",
   "execution_count": 12,
   "metadata": {
    "collapsed": true
   },
   "outputs": [],
   "source": [
    "import math"
   ]
  },
  {
   "cell_type": "code",
   "execution_count": 24,
   "metadata": {
    "collapsed": true
   },
   "outputs": [],
   "source": [
    "# Which one of these satisfied the above two conditions?\n",
    "functions = [\n",
    "    lambda x: 1 / x,\n",
    "    lambda x: 1 / (x ** 2),\n",
    "    lambda x: 1 / (x ** (2 / 3)),\n",
    "    lambda x: 1 / (x ** (1 / 2)),\n",
    "    lambda x: 1 / 100\n",
    "]"
   ]
  },
  {
   "cell_type": "markdown",
   "metadata": {},
   "source": [
    "### Condition 1\n",
    "$\\sum \\alpha = \\infty $"
   ]
  },
  {
   "cell_type": "code",
   "execution_count": 25,
   "metadata": {
    "collapsed": true
   },
   "outputs": [],
   "source": [
    "large_ns = [1000000, 2000000]\n",
    "\n",
    "values = [\n",
    "    [\n",
    "        sum((function(x) for x in range(1, large_n + 1)))\n",
    "        for function in functions\n",
    "    ]\n",
    "    for large_n in large_ns\n",
    "]"
   ]
  },
  {
   "cell_type": "code",
   "execution_count": 26,
   "metadata": {
    "collapsed": false
   },
   "outputs": [
    {
     "name": "stdout",
     "output_type": "stream",
     "text": [
      "Function indexed 1 stopped growing\n"
     ]
    }
   ],
   "source": [
    "# If a function's sum doesn't grow between two runs\n",
    "# then it doesn't satisfy the first criteria\n",
    "for index, (value_large, value_larger) in enumerate(zip(*values)):\n",
    "    if math.isclose(value_large,\n",
    "                    value_larger,\n",
    "                   rel_tol=1e-4):\n",
    "        print('Function indexed {} stopped growing'.format(index))"
   ]
  },
  {
   "cell_type": "markdown",
   "metadata": {},
   "source": [
    "### Condition 2\n",
    "$\\sum \\alpha ^ 2 < \\infty $"
   ]
  },
  {
   "cell_type": "code",
   "execution_count": 27,
   "metadata": {
    "collapsed": true
   },
   "outputs": [],
   "source": [
    "values_squared = [\n",
    "    [\n",
    "        sum((function(x) ** 2 for x in range(1, large_n + 1)))\n",
    "        for function in functions\n",
    "    ]\n",
    "    for large_n in large_ns\n",
    "]"
   ]
  },
  {
   "cell_type": "code",
   "execution_count": 28,
   "metadata": {
    "collapsed": false
   },
   "outputs": [
    {
     "name": "stdout",
     "output_type": "stream",
     "text": [
      "Function indexed 2 stopped growing\n",
      "Function indexed 3 stopped growing\n",
      "Function indexed 4 stopped growing\n"
     ]
    }
   ],
   "source": [
    "# If a function's keeps between two runs\n",
    "# then it doesn't satisfy the second criteria\n",
    "for index, (value_large, value_larger) in enumerate(zip(*values_squared)):\n",
    "    if not math.isclose(value_large,\n",
    "                    value_larger,\n",
    "                   rel_tol=1e-4):\n",
    "        print('Function indexed {} stopped growing'.format(index))"
   ]
  }
 ],
 "metadata": {
  "kernelspec": {
   "display_name": "Python [default]",
   "language": "python",
   "name": "python3"
  },
  "language_info": {
   "codemirror_mode": {
    "name": "ipython",
    "version": 3
   },
   "file_extension": ".py",
   "mimetype": "text/x-python",
   "name": "python",
   "nbconvert_exporter": "python",
   "pygments_lexer": "ipython3",
   "version": "3.5.2"
  }
 },
 "nbformat": 4,
 "nbformat_minor": 2
}
