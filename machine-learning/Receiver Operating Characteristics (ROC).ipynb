{
 "cells": [
  {
   "cell_type": "markdown",
   "metadata": {},
   "source": [
    "# Receiver Operating Characteristics (ROC)"
   ]
  },
  {
   "cell_type": "code",
   "execution_count": 1,
   "metadata": {
    "collapsed": true
   },
   "outputs": [],
   "source": [
    "%matplotlib inline"
   ]
  },
  {
   "cell_type": "code",
   "execution_count": 85,
   "metadata": {
    "collapsed": false
   },
   "outputs": [],
   "source": [
    "from IPython.display import Image\n",
    "\n",
    "import numpy as np\n",
    "import matplotlib.pyplot as plt\n",
    "\n",
    "# some classification metrics\n",
    "# more here: \n",
    "# http://scikit-learn.org/stable/modules/classes.html#module-sklearn.metrics\n",
    "from sklearn.metrics import (auc, roc_curve, roc_auc_score,\n",
    "                             accuracy_score, precision_score,\n",
    "                             recall_score, f1_score, )\n",
    "\n",
    "from sklearn.cross_validation import train_test_split\n",
    "\n",
    "\n",
    "\n",
    "# a few classifiers\n",
    "from sklearn.linear_model import LogisticRegression\n",
    "from sklearn.tree import DecisionTreeClassifier\n",
    "from sklearn.ensemble import RandomForestClassifier\n",
    "from sklearn.svm import SVC"
   ]
  },
  {
   "cell_type": "markdown",
   "metadata": {},
   "source": [
    "# 1. Binary classification"
   ]
  },
  {
   "cell_type": "code",
   "execution_count": 25,
   "metadata": {
    "collapsed": true
   },
   "outputs": [],
   "source": [
    "# breast cancer dataset, a binary classification task\n",
    "from sklearn.datasets import load_breast_cancer\n",
    "cancer = load_breast_cancer()\n",
    "\n",
    "x_train, x_test, y_train, y_test = train_test_split(cancer.data,\n",
    "                                                    cancer.target,\n",
    "                                                    test_size=0.4,\n",
    "                                                    random_state=0)"
   ]
  },
  {
   "cell_type": "code",
   "execution_count": 43,
   "metadata": {
    "collapsed": false
   },
   "outputs": [
    {
     "data": {
      "text/plain": [
       "(341, 30)"
      ]
     },
     "execution_count": 43,
     "metadata": {},
     "output_type": "execute_result"
    }
   ],
   "source": [
    "x_train.shape"
   ]
  },
  {
   "cell_type": "code",
   "execution_count": 26,
   "metadata": {
    "collapsed": false
   },
   "outputs": [
    {
     "data": {
      "text/plain": [
       "{0, 1}"
      ]
     },
     "execution_count": 26,
     "metadata": {},
     "output_type": "execute_result"
    }
   ],
   "source": [
    "# only two class, 0 and 1\n",
    "set(y_train)"
   ]
  },
  {
   "cell_type": "code",
   "execution_count": 30,
   "metadata": {
    "collapsed": false
   },
   "outputs": [
    {
     "data": {
      "text/plain": [
       "LogisticRegression(C=1.0, class_weight=None, dual=False, fit_intercept=True,\n",
       "          intercept_scaling=1, max_iter=100, multi_class='ovr', n_jobs=1,\n",
       "          penalty='l2', random_state=None, solver='liblinear', tol=0.0001,\n",
       "          verbose=0, warm_start=False)"
      ]
     },
     "execution_count": 30,
     "metadata": {},
     "output_type": "execute_result"
    }
   ],
   "source": [
    "clf = LogisticRegression()\n",
    "clf.fit(x_train, y_train)"
   ]
  },
  {
   "cell_type": "markdown",
   "metadata": {},
   "source": [
    "### Accuracy, precision, recall"
   ]
  },
  {
   "cell_type": "code",
   "execution_count": 46,
   "metadata": {
    "collapsed": false
   },
   "outputs": [
    {
     "name": "stdout",
     "output_type": "stream",
     "text": [
      "      Default score (accuracy): 0.958944281525\n"
     ]
    }
   ],
   "source": [
    "# score by default calculate the accuracy for a classifier\n",
    "print '%30s: %s' % ('Default score (accuracy)', clf.score(x_train, y_train))"
   ]
  },
  {
   "cell_type": "code",
   "execution_count": 34,
   "metadata": {
    "collapsed": false
   },
   "outputs": [
    {
     "data": {
      "text/plain": [
       "array([1, 0, 1, 1, 1])"
      ]
     },
     "execution_count": 34,
     "metadata": {},
     "output_type": "execute_result"
    }
   ],
   "source": [
    "# predict outputs the predicted class label given the dataset features\n",
    "# this might seem odd given that the model has already seen all of x_train\n",
    "# however most of the time models do not fit the training data perfectly\n",
    "# therefore you didn't see 100% accuracy above\n",
    "# as you increase the model complexity (e.g. random forest, neural network, etc.)\n",
    "# there's a higher likelihood that your model will fit the training data perfectly\n",
    "# but as you'll learn this is most likely not a good thing (i.e. overfit)\n",
    "\n",
    "predicted_labels = clf.predict(x_train)\n",
    "predicted_labels[:5]"
   ]
  },
  {
   "cell_type": "code",
   "execution_count": 48,
   "metadata": {
    "collapsed": false
   },
   "outputs": [
    {
     "name": "stdout",
     "output_type": "stream",
     "text": [
      "                      Accuracy: 0.958944281525\n"
     ]
    }
   ],
   "source": [
    "# notice that this is the same as what we computed earlier\n",
    "print '%30s: %s' % ('Accuracy', accuracy_score(y_train, predicted_labels))"
   ]
  },
  {
   "cell_type": "code",
   "execution_count": 49,
   "metadata": {
    "collapsed": false
   },
   "outputs": [
    {
     "name": "stdout",
     "output_type": "stream",
     "text": [
      "                     Precision: 0.958333333333\n"
     ]
    }
   ],
   "source": [
    "# precision is calculated as the ratio of true positives\n",
    "# over the sum of true positives and false positives\n",
    "# we'll come back to this later\n",
    "\n",
    "print '%30s: %s' % ('Precision', precision_score(y_train, predicted_labels))"
   ]
  },
  {
   "cell_type": "code",
   "execution_count": 50,
   "metadata": {
    "collapsed": false
   },
   "outputs": [
    {
     "name": "stdout",
     "output_type": "stream",
     "text": [
      "                        Recall: 0.97641509434\n"
     ]
    }
   ],
   "source": [
    "# recall or sensitivity is the ratio of true positives\n",
    "# over the sum of true positives and false negatives\n",
    "# we'll come back to this later\n",
    "\n",
    "print '%30s: %s' % ('Recall', recall_score(y_train, predicted_labels))"
   ]
  },
  {
   "cell_type": "markdown",
   "metadata": {},
   "source": [
    "**Note: ** These are considered VERY good quality metrics in most cases which should raise suspicision. In this case the problem is that we're training and calculating scores on the same dataset.\n",
    "\n",
    "**Quiz:** Why is training and testing on the same dataset a bad idea?"
   ]
  },
  {
   "cell_type": "markdown",
   "metadata": {},
   "source": [
    "### AUC score"
   ]
  },
  {
   "cell_type": "markdown",
   "metadata": {},
   "source": [
    "Looking at the **roc_auc_score** signature from the sklearn <a href=\"http://scikit-learn.org/stable/modules/generated/sklearn.metrics.roc_auc_score.html\">documentation</a>:\n",
    "\n",
    "```roc_auc_score(y_true, y_score, average='macro')```\n",
    "\n",
    "\n",
    "One might be tempted to try the following:"
   ]
  },
  {
   "cell_type": "code",
   "execution_count": 54,
   "metadata": {
    "collapsed": false
   },
   "outputs": [
    {
     "name": "stdout",
     "output_type": "stream",
     "text": [
      "             AUC (not correct): 0.95332382624\n"
     ]
    }
   ],
   "source": [
    "print '%30s: %s' % ('AUC (not correct)', roc_auc_score(y_train, predicted_labels))"
   ]
  },
  {
   "cell_type": "markdown",
   "metadata": {},
   "source": [
    "The problem here is that we're not passing the correct second argument.\n",
    "\n",
    "**y_score** has to be:\n",
    "> Target scores, can either be probability estimates of the positive class, confidence values, or non-thresholded measure of decisions (as returned by “decision_function” on some classifiers).\n",
    "\n",
    "Let's calculate the probability estimates. With most classifiers you can get this using **predict_proba**."
   ]
  },
  {
   "cell_type": "code",
   "execution_count": 55,
   "metadata": {
    "collapsed": true
   },
   "outputs": [],
   "source": [
    "predicted_probabilities = clf.predict_proba(x_train)"
   ]
  },
  {
   "cell_type": "code",
   "execution_count": 56,
   "metadata": {
    "collapsed": false
   },
   "outputs": [
    {
     "data": {
      "text/plain": [
       "array([[  4.34552482e-03,   9.95654475e-01],\n",
       "       [  1.00000000e+00,   7.11019374e-16],\n",
       "       [  1.21951155e-02,   9.87804885e-01],\n",
       "       [  1.08264238e-02,   9.89173576e-01],\n",
       "       [  8.19547425e-03,   9.91804526e-01]])"
      ]
     },
     "execution_count": 56,
     "metadata": {},
     "output_type": "execute_result"
    }
   ],
   "source": [
    "predicted_probabilities[:5]"
   ]
  },
  {
   "cell_type": "markdown",
   "metadata": {},
   "source": [
    "For each record in the training dataset **predict_proba** outputs a probabilty per class. In our example this takes the form of:\n",
    "\n",
    "```[probability of class 1, probability of class 2]```\n",
    "\n",
    "These two probabilities sum to one. For example the first row (4.34552482e-03 + 9.95654475e-01 ~=1)."
   ]
  },
  {
   "cell_type": "code",
   "execution_count": 57,
   "metadata": {
    "collapsed": false
   },
   "outputs": [
    {
     "data": {
      "text/plain": [
       "(341, 2)"
      ]
     },
     "execution_count": 57,
     "metadata": {},
     "output_type": "execute_result"
    }
   ],
   "source": [
    "predicted_probabilities.shape"
   ]
  },
  {
   "cell_type": "markdown",
   "metadata": {},
   "source": [
    "Make sure that all rows sum to 1."
   ]
  },
  {
   "cell_type": "code",
   "execution_count": 76,
   "metadata": {
    "collapsed": false
   },
   "outputs": [],
   "source": [
    "assert all(predicted_probabilities.sum(axis=1) == 1), \"At least one row is not summing to one\""
   ]
  },
  {
   "cell_type": "markdown",
   "metadata": {},
   "source": [
    "**Quiz:** what is `assert`? what is `all`? what is `axis=1` doing? why is there no output?"
   ]
  },
  {
   "cell_type": "markdown",
   "metadata": {},
   "source": [
    "Let's calculate the the AUC score by passing the correct metric. We have to pass the probability for the positive class which corresponds to the 2nd column."
   ]
  },
  {
   "cell_type": "code",
   "execution_count": 72,
   "metadata": {
    "collapsed": false
   },
   "outputs": [
    {
     "name": "stdout",
     "output_type": "stream",
     "text": [
      "                           AUC: 0.991955536054\n"
     ]
    }
   ],
   "source": [
    "print '%30s: %s' % ('AUC', roc_auc_score(y_train, predicted_probabilities[:, 1]))"
   ]
  },
  {
   "cell_type": "markdown",
   "metadata": {},
   "source": [
    "Passing the wrong column (negative class) result in 1-AUC."
   ]
  },
  {
   "cell_type": "code",
   "execution_count": 74,
   "metadata": {
    "collapsed": false
   },
   "outputs": [
    {
     "name": "stdout",
     "output_type": "stream",
     "text": [
      "                       1 - AUC: 0.00804446394618\n"
     ]
    }
   ],
   "source": [
    "print '%30s: %s' % ('1 - AUC', roc_auc_score(y_train, predicted_probabilities[:, 0]))"
   ]
  },
  {
   "cell_type": "markdown",
   "metadata": {},
   "source": [
    "#### Does this work with decision trees?"
   ]
  },
  {
   "cell_type": "code",
   "execution_count": 77,
   "metadata": {
    "collapsed": false
   },
   "outputs": [
    {
     "data": {
      "text/plain": [
       "DecisionTreeClassifier(class_weight=None, criterion='gini', max_depth=None,\n",
       "            max_features=None, max_leaf_nodes=None, min_samples_leaf=1,\n",
       "            min_samples_split=2, min_weight_fraction_leaf=0.0,\n",
       "            presort=False, random_state=None, splitter='best')"
      ]
     },
     "execution_count": 77,
     "metadata": {},
     "output_type": "execute_result"
    }
   ],
   "source": [
    "clf = DecisionTreeClassifier()\n",
    "clf.fit(x_train, y_train)"
   ]
  },
  {
   "cell_type": "code",
   "execution_count": 80,
   "metadata": {
    "collapsed": false
   },
   "outputs": [
    {
     "name": "stdout",
     "output_type": "stream",
     "text": [
      "                      Accuracy: 1.0\n"
     ]
    }
   ],
   "source": [
    "predicted_labels = clf.predict(x_train)\n",
    "print '%30s: %s' % ('Accuracy', accuracy_score(y_train, predicted_labels))"
   ]
  },
  {
   "cell_type": "code",
   "execution_count": 78,
   "metadata": {
    "collapsed": false
   },
   "outputs": [
    {
     "name": "stdout",
     "output_type": "stream",
     "text": [
      "                           AUC: 1.0\n"
     ]
    }
   ],
   "source": [
    "predicted_probabilities = clf.predict_proba(x_train)\n",
    "print '%30s: %s' % ('AUC', roc_auc_score(y_train, predicted_probabilities[:, 1]))"
   ]
  },
  {
   "cell_type": "markdown",
   "metadata": {},
   "source": [
    "#### Accuracy and AUC score of 1???\n",
    "**Quiz:** why are we getting perfect accuracy and AUC?"
   ]
  },
  {
   "cell_type": "markdown",
   "metadata": {},
   "source": [
    "In fact we can calcualte all these metrics for any classifer (except for ROC/AUC). So let's refactor the code and make it more generic."
   ]
  },
  {
   "cell_type": "code",
   "execution_count": 81,
   "metadata": {
    "collapsed": true
   },
   "outputs": [],
   "source": [
    "def classifier_metrics(model):\n",
    "    clf = model()\n",
    "    clf.fit(x_train, y_train)\n",
    "    print '%30s: %s' % ('Default score (accuracy)', clf.score(x_train, y_train))\n",
    "    predicted_labels = clf.predict(x_train)\n",
    "    print '%30s: %s' % ('Accuracy', accuracy_score(y_train, predicted_labels))\n",
    "    print '%30s: %s' % ('Precision', accuracy_score(y_train, predicted_labels))\n",
    "    print '%30s: %s' % ('Recall', accuracy_score(y_train, predicted_labels))\n",
    "    print '%30s: %s' % ('F1', f1_score(y_train, predicted_labels))\n",
    "    \n",
    "    try:\n",
    "        predicted_probabilities = clf.predict_proba(x_train)\n",
    "        print '%30s: %s' % ('AUC', roc_auc_score(y_train, predicted_probabilities[:, 1]))\n",
    "    except:\n",
    "        print '*** predict_proba failed for %s' % model.__name__"
   ]
  },
  {
   "cell_type": "markdown",
   "metadata": {},
   "source": [
    "#### Let's try the following models:\n",
    "- LogisticRegression\n",
    "- DecisionTreeClassifier\n",
    "- RandomForestClassifier\n",
    "- SVC (Support Vector Classification)"
   ]
  },
  {
   "cell_type": "code",
   "execution_count": 88,
   "metadata": {
    "collapsed": false
   },
   "outputs": [
    {
     "name": "stdout",
     "output_type": "stream",
     "text": [
      "Metrics for LogisticRegression\n",
      "==================================================\n",
      "      Default score (accuracy): 0.958944281525\n",
      "                      Accuracy: 0.958944281525\n",
      "                     Precision: 0.958944281525\n",
      "                        Recall: 0.958944281525\n",
      "                            F1: 0.967289719626\n",
      "                           AUC: 0.991955536054\n",
      "\n",
      "\n",
      "Metrics for DecisionTreeClassifier\n",
      "==================================================\n",
      "      Default score (accuracy): 1.0\n",
      "                      Accuracy: 1.0\n",
      "                     Precision: 1.0\n",
      "                        Recall: 1.0\n",
      "                            F1: 1.0\n",
      "                           AUC: 1.0\n",
      "\n",
      "\n",
      "Metrics for RandomForestClassifier\n",
      "==================================================\n",
      "      Default score (accuracy): 1.0\n",
      "                      Accuracy: 1.0\n",
      "                     Precision: 1.0\n",
      "                        Recall: 1.0\n",
      "                            F1: 1.0\n",
      "                           AUC: 1.0\n",
      "\n",
      "\n",
      "Metrics for SVC\n",
      "==================================================\n",
      "      Default score (accuracy): 1.0\n",
      "                      Accuracy: 1.0\n",
      "                     Precision: 1.0\n",
      "                        Recall: 1.0\n",
      "                            F1: 1.0\n",
      "*** predict_proba failed for SVC\n",
      "\n",
      "\n"
     ]
    }
   ],
   "source": [
    "for model in [LogisticRegression, DecisionTreeClassifier, RandomForestClassifier, SVC]:\n",
    "    print 'Metrics for %s' % model.__name__\n",
    "    print '=' * 50\n",
    "    classifier_metrics(model)\n",
    "    print '\\n'"
   ]
  },
  {
   "cell_type": "markdown",
   "metadata": {},
   "source": [
    "#### No AUC for SVC?\n",
    "Suffice it to say right now that SVC by default does not generate probabilities. We'll come back to this later. The point is that **not all classifiers output probabilities** and therefore we can't always calculate AUC."
   ]
  },
  {
   "cell_type": "markdown",
   "metadata": {},
   "source": [
    "### ROC curve\n",
    "\n",
    "Let's say that our \"cancer\" classifier is predicting the following probabilities for patients A, B, C, D, and E:\n",
    "- A, 50% chance of having cancer\n",
    "- B, 99% chance of having cancer\n",
    "- C, 80% chance of having cancer\n",
    "- D, 40% chance of having cancer\n",
    "- E, 2% chance of having cancer\n",
    "\n",
    "Which patients should we call in for further screening?\n",
    "\n",
    "Before we proceed here's some terminology:\n",
    "- The **positive class** (since we want to predict it) is \"having cancer\".\n",
    "- The **negative class** is not having cancer.\n",
    "- A **false positive** means predicting someone has cancer who does not.\n",
    "- A **false negative** means predicting someone doesn't have cancer when they actually do.\n",
    "\n",
    "Here are a few different ways to go about it:\n",
    "- Let's call in everyone, even 2% means there's a chance and we don't want to risk missing someone. If we decide to proceed this way we're going to have zero false negatives, but probably a lot of false positives. Do we really want to put everyone through all the screening and incur the cost?\n",
    "- Let's call in patients with probability > 95%. This way we're going to have very little false positives, assuming the model probabilities map to reality (they're calibrated). But we're going to miss many actual patients. So low false positives at the expense of high false negatives.\n",
    "- Let's call people with probability > 50%. Since this is really a trade-off a simple answer is to pick the most intuitive probability (50%). \n",
    "\n",
    "This is the essence of the ROC curve. The number you pick as the threshold gives you one point on the ROC curve. Plotting the ROC curve involves changing the threshold from 1 to 0 in small increments and plotting the corresponding points (more details to follow).\n",
    "\n",
    "<img src=\"https://upload.wikimedia.org/wikipedia/commons/thumb/3/36/ROC_space-2.png/640px-ROC_space-2.png\">"
   ]
  },
  {
   "cell_type": "markdown",
   "metadata": {},
   "source": [
    "### Plotting the ROC curve"
   ]
  },
  {
   "cell_type": "code",
   "execution_count": 115,
   "metadata": {
    "collapsed": false
   },
   "outputs": [],
   "source": [
    "# same as before\n",
    "clf = LogisticRegression()\n",
    "clf.fit(x_train, y_train)\n",
    "predicted_probabilities = clf.predict_proba(x_train)\n",
    "roc_auc = roc_auc_score(y_train, predicted_probabilities[:, 1])"
   ]
  },
  {
   "cell_type": "markdown",
   "metadata": {},
   "source": [
    "`roc_curve` generates the coordinates of the ROC curve (fpr and tpr) that are needed for plotting it. It also generates the "
   ]
  },
  {
   "cell_type": "code",
   "execution_count": null,
   "metadata": {
    "collapsed": true
   },
   "outputs": [],
   "source": [
    "fpr, tpr, thresholds = roc_curve(y_train,\n",
    "                                 predicted_probabilities[:, 1])"
   ]
  },
  {
   "cell_type": "markdown",
   "metadata": {},
   "source": [
    "Note that the thresholds are not equi-distance. This has to do with removing redundant coordinates."
   ]
  },
  {
   "cell_type": "code",
   "execution_count": 129,
   "metadata": {
    "collapsed": false
   },
   "outputs": [
    {
     "data": {
      "image/png": "[encoded data removed]",
      "text/plain": [
       "<matplotlib.figure.Figure at 0x114504250>"
      ]
     },
     "metadata": {},
     "output_type": "display_data"
    }
   ],
   "source": [
    "# distance between consequtive thresholds\n",
    "# x-axis is diff index, y axis is difference\n",
    "plt.plot(np.abs(np.diff(thresholds)));"
   ]
  },
  {
   "cell_type": "markdown",
   "metadata": {},
   "source": [
    "### The actual plot\n",
    "Now we have everything we need.\n",
    "\n",
    "**Quiz:** why is thresholds not used for plotting?"
   ]
  },
  {
   "cell_type": "code",
   "execution_count": 108,
   "metadata": {
    "collapsed": false
   },
   "outputs": [
    {
     "data": {
      "image/png": "[encoded data removed]",
      "text/plain": [
       "<matplotlib.figure.Figure at 0x112bc4e10>"
      ]
     },
     "metadata": {},
     "output_type": "display_data"
    }
   ],
   "source": [
    "plt.title('Receiver Operating Characteristic (ROC)')\n",
    "plt.plot(fpr, tpr, 'b',\n",
    "        label='AUC = %0.2f'% roc_auc)\n",
    "plt.plot([0,1],[0,1],'k--')\n",
    "plt.xlim([-0.1,1.2])\n",
    "plt.ylim([-0.1,1.2])\n",
    "plt.ylabel('True Positive Rate')\n",
    "plt.xlabel('False Positive Rate')\n",
    "plt.legend(loc='lower right')\n",
    "plt.show()"
   ]
  },
  {
   "cell_type": "markdown",
   "metadata": {},
   "source": [
    "# 2. Multi-class classification"
   ]
  },
  {
   "cell_type": "markdown",
   "metadata": {},
   "source": [
    "Coming soon"
   ]
  },
  {
   "cell_type": "markdown",
   "metadata": {},
   "source": [
    "Page 197-"
   ]
  },
  {
   "cell_type": "markdown",
   "metadata": {},
   "source": [
    "# 3. Confusion matrix"
   ]
  },
  {
   "cell_type": "markdown",
   "metadata": {},
   "source": [
    "Coming soon"
   ]
  },
  {
   "cell_type": "markdown",
   "metadata": {},
   "source": [
    "- http://www.dataschool.io/simple-guide-to-confusion-matrix-terminology/\n",
    "- https://www.wikiwand.com/en/Confusion_matrix"
   ]
  },
  {
   "cell_type": "markdown",
   "metadata": {},
   "source": [
    "# Other stuff"
   ]
  },
  {
   "cell_type": "markdown",
   "metadata": {},
   "source": [
    "### Missing values\n",
    "\n",
    "https://github.com/Quartz/bad-data-guide/blob/master/README.md\n",
    "\n",
    "https://www.quora.com/What-are-the-best-ways-to-account-for-missing-data-in-machine-learning\n",
    "\n",
    "http://diggdata.in/post/90435663721/dealing-with-missing-values-introduction\n",
    "\n",
    "http://scikit-learn.org/stable/auto_examples/missing_values.html#sphx-glr-auto-examples-missing-values-py\n",
    "\n",
    "http://nerds.airbnb.com/overcoming-missing-values-in-a-rfc/ (fill using KNN)\n",
    "\n",
    "https://www.wikiwand.com/en/Imputation_(statistics)\n",
    "\n",
    "How does CART deal with missing values?\n",
    "\n",
    "https://www.quora.com/How-does-XGBoost-treat-missing-values-during-training-and-prediction\n",
    "\n",
    "https://github.com/dmlc/xgboost/issues/21\n",
    "\n",
    "http://stats.stackexchange.com/questions/96025/how-do-decision-tree-learning-algorithms-deal-with-missing-values-under-the-hoo\n",
    "\n",
    "1. Missing Completely At Random (MCAR)\n",
    "There may be no particular reason why some respondents told you their weights and others didn’t. That is, the probability that Y is missing may has no relationship to X or Y. In this case our data is missing completely at random (MCAR).\n",
    "2. Missing At Random (MAR)\n",
    "One gender may be less likely to disclose its weight. That is, the probability that Y is missing depends only on the value of X. Such data are missing at random (MAR)\n",
    "3. Missing Not At Random (MNAR)\n",
    "Heavy (or light) people or rich females may be less likely to disclose their weight. That is, the probability that Y is missing depends on the unobserved value of Y itself. Such data are not missing at random or missing not at random (MNAR)\n",
    "\n",
    "\n",
    "### Imbalanced datasets\n",
    "\n",
    "https://github.com/scikit-learn-contrib/imbalanced-learn\n",
    "\n",
    "http://www.fundraisingwithr.com/solutions-for-modeling-imbalanced-data/\n",
    "\n",
    "### Grid search pipeline\n",
    "\n",
    "http://sebastianraschka.com/blog/2016/model-evaluation-selection-part3.html\n",
    "    \n",
    "https://github.com/rasbt/python-machine-learning-book"
   ]
  }
 ],
 "metadata": {
  "anaconda-cloud": {},
  "kernelspec": {
   "display_name": "Python [default]",
   "language": "python",
   "name": "python3"
  },
  "language_info": {
   "codemirror_mode": {
    "name": "ipython",
    "version": 3
   },
   "file_extension": ".py",
   "mimetype": "text/x-python",
   "name": "python",
   "nbconvert_exporter": "python",
   "pygments_lexer": "ipython3",
   "version": "3.5.2"
  }
 },
 "nbformat": 4,
 "nbformat_minor": 0
}
