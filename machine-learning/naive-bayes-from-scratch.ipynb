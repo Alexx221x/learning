{
 "cells": [
  {
   "cell_type": "markdown",
   "metadata": {},
   "source": [
    "# Naive Bayes from scratch"
   ]
  },
  {
   "cell_type": "code",
   "execution_count": 2,
   "metadata": {},
   "outputs": [],
   "source": [
    "import pandas as pd\n",
    "import numpy as np"
   ]
  },
  {
   "cell_type": "code",
   "execution_count": 3,
   "metadata": {},
   "outputs": [],
   "source": [
    "def get_accuracy(x: pd.DataFrame, y: pd.Series, y_hat: pd.Series):\n",
    "    correct = y_hat == y\n",
    "    acc = np.sum(correct) / len(y)\n",
    "    cond = y == 1\n",
    "    y1 = len(y[cond])\n",
    "    y0 = len(y[~cond])\n",
    "\n",
    "    print(f'Class 0: tested {y0}, correctly classified {correct[~cond].sum()}')\n",
    "    print(f'Class 1: tested {y1}, correctly classified {correct[cond].sum()}')\n",
    "    print(f'Overall: tested {len(y)}, correctly classified {correct.sum()}')\n",
    "    print(f'Accuracy = {acc:.2f}')"
   ]
  },
  {
   "cell_type": "code",
   "execution_count": 4,
   "metadata": {},
   "outputs": [],
   "source": [
    "class Classifier:\n",
    "    def __init__(self, dataset: str = None, mle: bool=True):\n",
    "        if dataset:\n",
    "            x_train, y_train = reader(f'datasets/{dataset}-train.txt')\n",
    "            x_test, y_test = reader(f'datasets/{dataset}-test.txt')\n",
    "            self.train(x_train, y_train, mle)\n",
    "            print('Training accuracy')\n",
    "            print('=' * 10)\n",
    "            self.accuracy(x_train, y_train)\n",
    "            print('Test accuracy')\n",
    "            print('=' * 10)\n",
    "            self.accuracy(x_test, y_test)\n",
    "            \n",
    "    def accuracy(self, x: pd.DataFrame, y: pd.DataFrame) -> None:\n",
    "        y_hat = self.predict(x)\n",
    "        get_accuracy(x, y, y_hat)"
   ]
  },
  {
   "cell_type": "code",
   "execution_count": 5,
   "metadata": {},
   "outputs": [],
   "source": [
    "class NB(Classifier):\n",
    "    def __init__(self, dataset: str = None, mle: bool=True):\n",
    "        self.prior = None\n",
    "        self.p_xi_given_y = {0: {}, 1: {}}\n",
    "        self.prior_x = {}\n",
    "        self.cols = None\n",
    "        super().__init__(dataset, mle)\n",
    "    \n",
    "    def train(self, x: pd.DataFrame, y: pd.Series, mle: bool=True):\n",
    "        adj_den = 0 if mle else 2\n",
    "        adj_num = 0 if mle else 1\n",
    "        self.prior = y.value_counts().to_dict()\n",
    "        for c in [0, 1]:\n",
    "            self.prior[c] += adj_num\n",
    "            self.prior[c] /= (len(y) + adj_den)\n",
    "        \n",
    "        self.cols = x.columns\n",
    "        for col in x.columns:\n",
    "            self.prior_x[col] = (x[col].value_counts() / len(y)).to_dict()\n",
    "        \n",
    "        cond = y == 1\n",
    "        y1 = np.sum(cond)\n",
    "        y0 = len(y) - y1\n",
    "        y1 += adj_den\n",
    "        y0 += adj_den\n",
    "        x_pos = x[cond]\n",
    "        x_neg = x[~cond]\n",
    "        for cls in [0, 1]:\n",
    "            for col in x.columns:\n",
    "                x_cls = x_pos if cls == 1 else x_neg\n",
    "                y_cls = y1 if cls == 1 else y0\n",
    "                x1 = len(x_cls.query(f'{col} == 1'))\n",
    "                x0 = len(x_cls.query(f'{col} == 0'))\n",
    "                \n",
    "                x1 += adj_num\n",
    "                x0 += adj_num\n",
    "                \n",
    "                self.p_xi_given_y[cls][col] = {\n",
    "                    0: x0 / y_cls,\n",
    "                    1: x1 / y_cls\n",
    "                }\n",
    "    \n",
    "    def predict(self, x: pd.DataFrame) -> pd.Series:\n",
    "        out = []\n",
    "        for _, row in x.iterrows():\n",
    "            m = {}\n",
    "            for cls in [0, 1]:\n",
    "                m[cls] = np.log([self.prior[0]] + [\n",
    "                    self.p_xi_given_y[cls][col][row[col]]\n",
    "                    for col in x.columns\n",
    "                ]).sum()\n",
    "            out.append(1 if m[1] >= m[0] else 0)\n",
    "        return pd.Series(out)\n",
    "    \n",
    "    def _get_ind(self, col):\n",
    "        num = self.prior_x[col][0] * self.p_xi_given_y[1][col][1]\n",
    "        den = self.prior_x[col][1] * self.p_xi_given_y[1][col][0]\n",
    "        return num / den\n",
    "    \n",
    "    def most_indicative(self):\n",
    "        return pd.Series({\n",
    "            col: self._get_ind(col)\n",
    "            for col in self.cols\n",
    "        }).sort_values(ascending=False)"
   ]
  },
  {
   "cell_type": "code",
   "execution_count": 6,
   "metadata": {},
   "outputs": [],
   "source": [
    "x = pd.DataFrame({'x1': [0, 0, 1, 1], 'x2': [0, 1, 0, 1]})\n",
    "y = pd.Series([0, 0, 1, 1])"
   ]
  },
  {
   "cell_type": "code",
   "execution_count": 8,
   "metadata": {},
   "outputs": [
    {
     "data": {
      "text/html": [
       "<div>\n",
       "<style scoped>\n",
       "    .dataframe tbody tr th:only-of-type {\n",
       "        vertical-align: middle;\n",
       "    }\n",
       "\n",
       "    .dataframe tbody tr th {\n",
       "        vertical-align: top;\n",
       "    }\n",
       "\n",
       "    .dataframe thead th {\n",
       "        text-align: right;\n",
       "    }\n",
       "</style>\n",
       "<table border=\"1\" class=\"dataframe\">\n",
       "  <thead>\n",
       "    <tr style=\"text-align: right;\">\n",
       "      <th></th>\n",
       "      <th>x1</th>\n",
       "      <th>x2</th>\n",
       "    </tr>\n",
       "  </thead>\n",
       "  <tbody>\n",
       "    <tr>\n",
       "      <th>0</th>\n",
       "      <td>0</td>\n",
       "      <td>0</td>\n",
       "    </tr>\n",
       "    <tr>\n",
       "      <th>1</th>\n",
       "      <td>0</td>\n",
       "      <td>1</td>\n",
       "    </tr>\n",
       "    <tr>\n",
       "      <th>2</th>\n",
       "      <td>1</td>\n",
       "      <td>0</td>\n",
       "    </tr>\n",
       "    <tr>\n",
       "      <th>3</th>\n",
       "      <td>1</td>\n",
       "      <td>1</td>\n",
       "    </tr>\n",
       "  </tbody>\n",
       "</table>\n",
       "</div>"
      ],
      "text/plain": [
       "   x1  x2\n",
       "0   0   0\n",
       "1   0   1\n",
       "2   1   0\n",
       "3   1   1"
      ]
     },
     "execution_count": 8,
     "metadata": {},
     "output_type": "execute_result"
    }
   ],
   "source": [
    "x"
   ]
  },
  {
   "cell_type": "code",
   "execution_count": 10,
   "metadata": {},
   "outputs": [
    {
     "name": "stdout",
     "output_type": "stream",
     "text": [
      "Class 0: tested 2, correctly classified 2\n",
      "Class 1: tested 2, correctly classified 2\n",
      "Overall: tested 4, correctly classified 4\n",
      "Accuracy = 1.00\n"
     ]
    },
    {
     "name": "stderr",
     "output_type": "stream",
     "text": [
      "/anaconda3/lib/python3.7/site-packages/ipykernel_launcher.py:50: RuntimeWarning: divide by zero encountered in log\n"
     ]
    }
   ],
   "source": [
    "nb = NB()\n",
    "nb.train(x, y)\n",
    "nb.accuracy(x, y)"
   ]
  }
 ],
 "metadata": {
  "kernelspec": {
   "display_name": "Python 3",
   "language": "python",
   "name": "python3"
  },
  "language_info": {
   "codemirror_mode": {
    "name": "ipython",
    "version": 3
   },
   "file_extension": ".py",
   "mimetype": "text/x-python",
   "name": "python",
   "nbconvert_exporter": "python",
   "pygments_lexer": "ipython3",
   "version": "3.7.2"
  }
 },
 "nbformat": 4,
 "nbformat_minor": 2
}
