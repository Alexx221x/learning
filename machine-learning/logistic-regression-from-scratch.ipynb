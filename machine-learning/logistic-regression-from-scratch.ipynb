{
 "cells": [
  {
   "cell_type": "markdown",
   "metadata": {},
   "source": [
    "# Logistic regression from scratch"
   ]
  },
  {
   "cell_type": "code",
   "execution_count": 1,
   "metadata": {},
   "outputs": [],
   "source": [
    "import pandas as pd\n",
    "import numpy as np"
   ]
  },
  {
   "cell_type": "code",
   "execution_count": 2,
   "metadata": {},
   "outputs": [],
   "source": [
    "def get_accuracy(x: pd.DataFrame, y: pd.Series, y_hat: pd.Series):\n",
    "    correct = y_hat == y\n",
    "    acc = np.sum(correct) / len(y)\n",
    "    cond = y == 1\n",
    "    y1 = len(y[cond])\n",
    "    y0 = len(y[~cond])\n",
    "\n",
    "    print(f'Class 0: tested {y0}, correctly classified {correct[~cond].sum()}')\n",
    "    print(f'Class 1: tested {y1}, correctly classified {correct[cond].sum()}')\n",
    "    print(f'Overall: tested {len(y)}, correctly classified {correct.sum()}')\n",
    "    print(f'Accuracy = {acc:.2f}')"
   ]
  },
  {
   "cell_type": "code",
   "execution_count": 3,
   "metadata": {},
   "outputs": [],
   "source": [
    "class Classifier:\n",
    "    def __init__(self, dataset: str = None, mle: bool=True):\n",
    "        if dataset:\n",
    "            x_train, y_train = reader(f'datasets/{dataset}-train.txt')\n",
    "            x_test, y_test = reader(f'datasets/{dataset}-test.txt')\n",
    "            self.train(x_train, y_train, mle)\n",
    "            print('Training accuracy')\n",
    "            print('=' * 10)\n",
    "            self.accuracy(x_train, y_train)\n",
    "            print('Test accuracy')\n",
    "            print('=' * 10)\n",
    "            self.accuracy(x_test, y_test)\n",
    "            \n",
    "    def accuracy(self, x: pd.DataFrame, y: pd.DataFrame) -> None:\n",
    "        y_hat = self.predict(x)\n",
    "        get_accuracy(x, y, y_hat)"
   ]
  },
  {
   "cell_type": "code",
   "execution_count": 4,
   "metadata": {},
   "outputs": [],
   "source": [
    "class LR(Classifier):\n",
    "    def __init__(self,\n",
    "                 eta: float = 1e-4,\n",
    "                 epochs: int = int(1e4),\n",
    "                 dataset: str = None):\n",
    "        self.ws = None\n",
    "        self.eta = eta\n",
    "        self.epochs = epochs\n",
    "        \n",
    "        super().__init__(dataset, mle=True)\n",
    "        \n",
    "    @staticmethod\n",
    "    def _sigmoid(x: np.array):\n",
    "        return 1 / (1 + np.exp(-x))\n",
    "        \n",
    "    @staticmethod\n",
    "    def _prepend_intercept(x: pd.DataFrame) -> pd.DataFrame:\n",
    "        return pd.concat([pd.DataFrame([1] * len(x),\n",
    "                                       columns=['intercept']), x], axis=1)\n",
    "    \n",
    "    def train(self, x: pd.DataFrame, y: pd.Series, mle=None) -> None:\n",
    "        xx = self._prepend_intercept(x)\n",
    "        self.ws = np.zeros(xx.shape[1])\n",
    "        for _ in range(self.epochs):\n",
    "            gs = (y - self._sigmoid(xx @ self.ws)) @ xx\n",
    "            self.ws += self.eta * gs.values\n",
    "    \n",
    "    def predict(self, x: pd.DataFrame) -> pd.Series:\n",
    "        xx = self._prepend_intercept(x)\n",
    "        return (xx @ self.ws) > 0.5\n",
    "    \n",
    "    def _ll(self, x: pd.DataFrame,\n",
    "            y: pd.DataFrame, ws: np.array) -> float:\n",
    "        s = self._sigmoid(x @ ws)\n",
    "        return y @ np.log(s) + (1 - y) @ np.log(1 - s)\n",
    "    \n",
    "    def ll(self, x: pd.DataFrame, y: pd.Series) -> float:\n",
    "        xx = self._prepend_intercept(x)\n",
    "        return self._ll(xx, y, self.ws)\n",
    "    \n",
    "    def ll_all_zero(self, x: pd.DataFrame, y: pd.Series) -> float:\n",
    "        xx = self._prepend_intercept(x)\n",
    "        ws_zero = np.zeros(xx.shape[1])\n",
    "        return self._ll(xx, y, ws_zero)"
   ]
  },
  {
   "cell_type": "code",
   "execution_count": 5,
   "metadata": {},
   "outputs": [],
   "source": [
    "x = pd.DataFrame({'x1': [0, 0, 1, 1], 'x2': [0, 1, 0, 1]})\n",
    "y = pd.Series([0, 0, 1, 1])"
   ]
  },
  {
   "cell_type": "code",
   "execution_count": 6,
   "metadata": {},
   "outputs": [
    {
     "data": {
      "text/html": [
       "<div>\n",
       "<style scoped>\n",
       "    .dataframe tbody tr th:only-of-type {\n",
       "        vertical-align: middle;\n",
       "    }\n",
       "\n",
       "    .dataframe tbody tr th {\n",
       "        vertical-align: top;\n",
       "    }\n",
       "\n",
       "    .dataframe thead th {\n",
       "        text-align: right;\n",
       "    }\n",
       "</style>\n",
       "<table border=\"1\" class=\"dataframe\">\n",
       "  <thead>\n",
       "    <tr style=\"text-align: right;\">\n",
       "      <th></th>\n",
       "      <th>x1</th>\n",
       "      <th>x2</th>\n",
       "    </tr>\n",
       "  </thead>\n",
       "  <tbody>\n",
       "    <tr>\n",
       "      <th>0</th>\n",
       "      <td>0</td>\n",
       "      <td>0</td>\n",
       "    </tr>\n",
       "    <tr>\n",
       "      <th>1</th>\n",
       "      <td>0</td>\n",
       "      <td>1</td>\n",
       "    </tr>\n",
       "    <tr>\n",
       "      <th>2</th>\n",
       "      <td>1</td>\n",
       "      <td>0</td>\n",
       "    </tr>\n",
       "    <tr>\n",
       "      <th>3</th>\n",
       "      <td>1</td>\n",
       "      <td>1</td>\n",
       "    </tr>\n",
       "  </tbody>\n",
       "</table>\n",
       "</div>"
      ],
      "text/plain": [
       "   x1  x2\n",
       "0   0   0\n",
       "1   0   1\n",
       "2   1   0\n",
       "3   1   1"
      ]
     },
     "execution_count": 6,
     "metadata": {},
     "output_type": "execute_result"
    }
   ],
   "source": [
    "x"
   ]
  },
  {
   "cell_type": "code",
   "execution_count": 7,
   "metadata": {},
   "outputs": [
    {
     "data": {
      "text/plain": [
       "0    0\n",
       "1    0\n",
       "2    1\n",
       "3    1\n",
       "dtype: int64"
      ]
     },
     "execution_count": 7,
     "metadata": {},
     "output_type": "execute_result"
    }
   ],
   "source": [
    "y"
   ]
  },
  {
   "cell_type": "code",
   "execution_count": 17,
   "metadata": {},
   "outputs": [
    {
     "name": "stdout",
     "output_type": "stream",
     "text": [
      "Class 0: tested 2, correctly classified 2\n",
      "Class 1: tested 2, correctly classified 2\n",
      "Overall: tested 4, correctly classified 4\n",
      "Accuracy = 1.00\n",
      "CPU times: user 18.6 ms, sys: 2.61 ms, total: 21.2 ms\n",
      "Wall time: 18.8 ms\n"
     ]
    }
   ],
   "source": [
    "%%time\n",
    "lr = LR(epochs=10, eta=1e-1)\n",
    "lr.train(x, y)\n",
    "lr.accuracy(x, y)"
   ]
  },
  {
   "cell_type": "code",
   "execution_count": 18,
   "metadata": {},
   "outputs": [
    {
     "data": {
      "text/plain": [
       "array([-0.14223617,  0.83037099, -0.06601339])"
      ]
     },
     "execution_count": 18,
     "metadata": {},
     "output_type": "execute_result"
    }
   ],
   "source": [
    "lr.ws"
   ]
  }
 ],
 "metadata": {
  "kernelspec": {
   "display_name": "Python 3",
   "language": "python",
   "name": "python3"
  },
  "language_info": {
   "codemirror_mode": {
    "name": "ipython",
    "version": 3
   },
   "file_extension": ".py",
   "mimetype": "text/x-python",
   "name": "python",
   "nbconvert_exporter": "python",
   "pygments_lexer": "ipython3",
   "version": "3.7.2"
  }
 },
 "nbformat": 4,
 "nbformat_minor": 2
}
