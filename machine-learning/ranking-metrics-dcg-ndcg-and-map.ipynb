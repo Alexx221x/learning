{
 "cells": [
  {
   "cell_type": "markdown",
   "metadata": {},
   "source": [
    "# Ranking Metrics: DCG, NDCG, and MAP"
   ]
  },
  {
   "cell_type": "code",
   "execution_count": 43,
   "metadata": {},
   "outputs": [],
   "source": [
    "import numpy as np"
   ]
  },
  {
   "cell_type": "code",
   "execution_count": 55,
   "metadata": {},
   "outputs": [],
   "source": [
    "y1 = [True, True, True, True, True]\n",
    "y2 = [False, True, True, True, True]\n",
    "y3 = [True, False, True, True, True]\n",
    "y4 = [True, True, False, True, True]\n",
    "y5 = [True, True, False, False, True]\n",
    "y6 = [True, True, False, True, False]"
   ]
  },
  {
   "cell_type": "code",
   "execution_count": 67,
   "metadata": {},
   "outputs": [],
   "source": [
    "def ap(rel):\n",
    "    k = len(rel)\n",
    "    return 1 / k * sum([\n",
    "        (1 / (i + 1)) * sum(rel[:i+1])\n",
    "        for i in range(k)\n",
    "    ])\n",
    "\n",
    "def ndcg(rel):\n",
    "    k = len(rel)\n",
    "    best = dcg([True] * k, k)\n",
    "    dcg_ = dcg(rel, k)\n",
    "    return dcg_ / best\n",
    "\n",
    "def dcg(rel, k):\n",
    "    return sum([rel[r] / np.log(r + 1 + 1)\n",
    "               for r in range(k)])\n",
    "\n",
    "def compare(y):\n",
    "    print('NDCG: {:.3f}, AP: {:.3f}'.format(ndcg(y), ap(y)))"
   ]
  },
  {
   "cell_type": "code",
   "execution_count": 68,
   "metadata": {},
   "outputs": [
    {
     "name": "stdout",
     "output_type": "stream",
     "text": [
      "NDCG: 1.000, AP: 1.000\n"
     ]
    }
   ],
   "source": [
    "compare(y1)"
   ]
  },
  {
   "cell_type": "code",
   "execution_count": 69,
   "metadata": {},
   "outputs": [
    {
     "name": "stdout",
     "output_type": "stream",
     "text": [
      "NDCG: 0.661, AP: 0.543\n"
     ]
    }
   ],
   "source": [
    "compare(y2)"
   ]
  },
  {
   "cell_type": "code",
   "execution_count": 70,
   "metadata": {},
   "outputs": [
    {
     "name": "stdout",
     "output_type": "stream",
     "text": [
      "NDCG: 0.786, AP: 0.743\n"
     ]
    }
   ],
   "source": [
    "compare(y3)"
   ]
  },
  {
   "cell_type": "code",
   "execution_count": 71,
   "metadata": {},
   "outputs": [
    {
     "name": "stdout",
     "output_type": "stream",
     "text": [
      "NDCG: 0.786, AP: 0.743\n"
     ]
    }
   ],
   "source": [
    "compare(y3)"
   ]
  },
  {
   "cell_type": "code",
   "execution_count": 73,
   "metadata": {},
   "outputs": [
    {
     "name": "stdout",
     "output_type": "stream",
     "text": [
      "NDCG: 0.954, AP: 0.950\n"
     ]
    }
   ],
   "source": [
    "compare(y2 + [True] * 100)"
   ]
  },
  {
   "cell_type": "code",
   "execution_count": 74,
   "metadata": {},
   "outputs": [
    {
     "name": "stdout",
     "output_type": "stream",
     "text": [
      "NDCG: 0.957, AP: 0.932\n"
     ]
    }
   ],
   "source": [
    "compare(y5 + [True] * 100)"
   ]
  },
  {
   "cell_type": "code",
   "execution_count": 75,
   "metadata": {},
   "outputs": [
    {
     "name": "stdout",
     "output_type": "stream",
     "text": [
      "NDCG: 0.136, AP: 0.188\n"
     ]
    }
   ],
   "source": [
    "compare(y1 + [False] * 100)"
   ]
  },
  {
   "cell_type": "code",
   "execution_count": 80,
   "metadata": {},
   "outputs": [
    {
     "name": "stdout",
     "output_type": "stream",
     "text": [
      "NDCG: 0.003, AP: 0.004\n"
     ]
    }
   ],
   "source": [
    "compare(y1 + [False] * 10000)"
   ]
  },
  {
   "cell_type": "markdown",
   "metadata": {},
   "source": [
    "<img src=\"resources/map_dcg.png\">"
   ]
  },
  {
   "cell_type": "markdown",
   "metadata": {},
   "source": [
    "### References"
   ]
  },
  {
   "cell_type": "markdown",
   "metadata": {},
   "source": [
    "- https://www.youtube.com/watch?v=qm1In7NH8WE"
   ]
  }
 ],
 "metadata": {
  "anaconda-cloud": {},
  "kernelspec": {
   "display_name": "Python [default]",
   "language": "python",
   "name": "python3"
  },
  "language_info": {
   "codemirror_mode": {
    "name": "ipython",
    "version": 3
   },
   "file_extension": ".py",
   "mimetype": "text/x-python",
   "name": "python",
   "nbconvert_exporter": "python",
   "pygments_lexer": "ipython3",
   "version": "3.5.4"
  }
 },
 "nbformat": 4,
 "nbformat_minor": 2
}
