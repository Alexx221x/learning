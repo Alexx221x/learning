{
 "cells": [
  {
   "cell_type": "markdown",
   "metadata": {},
   "source": [
    "# Gaussian Naive Bayes"
   ]
  },
  {
   "cell_type": "code",
   "execution_count": 112,
   "metadata": {
    "collapsed": true
   },
   "outputs": [],
   "source": [
    "from collections import defaultdict\n",
    "import numpy as np"
   ]
  },
  {
   "cell_type": "code",
   "execution_count": 271,
   "metadata": {
    "collapsed": false
   },
   "outputs": [],
   "source": [
    "class GaussianNaiveBayes:\n",
    "    def __init__(self):\n",
    "        self.trained = defaultdict(bool)\n",
    "        self.stats = defaultdict(dict)\n",
    "        \n",
    "    def _update_stats(self, datum, label):\n",
    "        if len(datum) > len(self.stats[label]):\n",
    "            self.stats[label]['n'] = 1\n",
    "            self.stats[label]['sum'] = datum\n",
    "            self.stats[label]['sum_squared'] = datum ** 2\n",
    "            self.stats[label]['mean'] = datum\n",
    "            self.stats[label]['std'] = np.zeros(len(datum))\n",
    "        else:\n",
    "            stats = self.stats[label]\n",
    "            self.stats[label]['n'] += 1\n",
    "            self.stats[label]['sum'] += datum\n",
    "            self.stats[label]['sum_squared'] += datum ** 2\n",
    "            self.stats[label]['mean'] =  stats['sum'] / stats['n']\n",
    "            self.stats[label]['std'] = (stats['sum_squared'] - (stats['sum'] ** 2 / stats['n'])) / stats['n']\n",
    "            self.trained[label] = True\n",
    "        \n",
    "    def train_incremental(self, data, labels):\n",
    "        data_array = np.array(data)\n",
    "        labels_array = np.array(labels)\n",
    "        \n",
    "        for datum, label in zip(data_array, labels_array):\n",
    "            self._update_stats(datum, label)    \n",
    "                \n",
    "    def train_batch(self, data, labels):\n",
    "        pass\n",
    "    \n",
    "    def _gaussian(self, x, mu, sigma):\n",
    "        num = (x - mu) ** 2\n",
    "        denum = 2 * sigma ** 2\n",
    "        norm = 1 / np.sqrt(2 * np.pi * sigma ** 2)\n",
    "        return norm * np.exp(-num / denum)\n",
    "        \n",
    "    def predict(self, data):\n",
    "        if len(data) == 1:\n",
    "            data = [data]\n",
    "            \n",
    "        output = []\n",
    "        \n",
    "        for datum in data:\n",
    "            best = (-1, None)\n",
    "            for label in self.stats.keys():\n",
    "                if self.trained[label]:\n",
    "                    value = self._gaussian(np.array(datum), self.stats[label]['mean'], self.stats[label]['std'])\n",
    "                    likelihood = np.nanprod(value)\n",
    "                    if likelihood > best[0]:\n",
    "                        best = (likelihood, label)\n",
    "                else:\n",
    "                    print('Not even training data for {}'.format(label))\n",
    "                \n",
    "            output.append(best[1])    \n",
    "                \n",
    "        return output"
   ]
  },
  {
   "cell_type": "code",
   "execution_count": 272,
   "metadata": {
    "collapsed": true
   },
   "outputs": [],
   "source": [
    "data = [\n",
    "    [1, 2, 3, 4],\n",
    "    [10, 20, 30, 40],\n",
    "    [1.2, 1.9, 3.1, 4.5],\n",
    "    [10.1, 20.2, 29.8, 42]\n",
    "]\n",
    "\n",
    "labels = ['x', 'y', 'x', 'y']"
   ]
  },
  {
   "cell_type": "code",
   "execution_count": 273,
   "metadata": {
    "collapsed": false
   },
   "outputs": [],
   "source": [
    "nb = GaussianNaiveBayes()"
   ]
  },
  {
   "cell_type": "code",
   "execution_count": 274,
   "metadata": {
    "collapsed": false
   },
   "outputs": [],
   "source": [
    "nb.train_incremental(data, labels)"
   ]
  },
  {
   "cell_type": "code",
   "execution_count": 275,
   "metadata": {
    "collapsed": false
   },
   "outputs": [
    {
     "data": {
      "text/plain": [
       "defaultdict(dict,\n",
       "            {'x': {'mean': array([ 1.1 ,  1.95,  3.05,  4.25]),\n",
       "              'n': 2,\n",
       "              'std': array([ 0.01  ,  0.0025,  0.0025,  0.0625]),\n",
       "              'sum': array([ 2.2,  3.9,  6.1,  8.5]),\n",
       "              'sum_squared': array([  2.44,   7.61,  18.61,  36.25])},\n",
       "             'y': {'mean': array([ 10.05,  20.1 ,  29.9 ,  41.  ]),\n",
       "              'n': 2,\n",
       "              'std': array([ 0.0025,  0.01  ,  0.01  ,  1.    ]),\n",
       "              'sum': array([ 20.1,  40.2,  59.8,  82. ]),\n",
       "              'sum_squared': array([  202.01,   808.04,  1788.04,  3364.  ])}})"
      ]
     },
     "execution_count": 275,
     "metadata": {},
     "output_type": "execute_result"
    }
   ],
   "source": [
    "nb.stats"
   ]
  },
  {
   "cell_type": "code",
   "execution_count": 276,
   "metadata": {
    "collapsed": false
   },
   "outputs": [
    {
     "data": {
      "text/plain": [
       "['x', 'y', 'x', 'y']"
      ]
     },
     "execution_count": 276,
     "metadata": {},
     "output_type": "execute_result"
    }
   ],
   "source": [
    "nb.predict(data)"
   ]
  },
  {
   "cell_type": "code",
   "execution_count": 277,
   "metadata": {
    "collapsed": false
   },
   "outputs": [],
   "source": [
    "nb.train_incremental([[100, 200, 300, 400]], ['z'])"
   ]
  },
  {
   "cell_type": "code",
   "execution_count": 278,
   "metadata": {
    "collapsed": false
   },
   "outputs": [
    {
     "data": {
      "text/plain": [
       "defaultdict(dict,\n",
       "            {'x': {'mean': array([ 1.1 ,  1.95,  3.05,  4.25]),\n",
       "              'n': 2,\n",
       "              'std': array([ 0.01  ,  0.0025,  0.0025,  0.0625]),\n",
       "              'sum': array([ 2.2,  3.9,  6.1,  8.5]),\n",
       "              'sum_squared': array([  2.44,   7.61,  18.61,  36.25])},\n",
       "             'y': {'mean': array([ 10.05,  20.1 ,  29.9 ,  41.  ]),\n",
       "              'n': 2,\n",
       "              'std': array([ 0.0025,  0.01  ,  0.01  ,  1.    ]),\n",
       "              'sum': array([ 20.1,  40.2,  59.8,  82. ]),\n",
       "              'sum_squared': array([  202.01,   808.04,  1788.04,  3364.  ])},\n",
       "             'z': {'mean': array([100, 200, 300, 400]),\n",
       "              'n': 1,\n",
       "              'std': array([ 0.,  0.,  0.,  0.]),\n",
       "              'sum': array([100, 200, 300, 400]),\n",
       "              'sum_squared': array([ 10000,  40000,  90000, 160000])}})"
      ]
     },
     "execution_count": 278,
     "metadata": {},
     "output_type": "execute_result"
    }
   ],
   "source": [
    "nb.stats"
   ]
  },
  {
   "cell_type": "code",
   "execution_count": 279,
   "metadata": {
    "collapsed": false
   },
   "outputs": [
    {
     "name": "stdout",
     "output_type": "stream",
     "text": [
      "Not even training data for z\n"
     ]
    },
    {
     "data": {
      "text/plain": [
       "['x']"
      ]
     },
     "execution_count": 279,
     "metadata": {},
     "output_type": "execute_result"
    }
   ],
   "source": [
    "nb.predict([[101, 198, 305, 401]])"
   ]
  },
  {
   "cell_type": "code",
   "execution_count": 280,
   "metadata": {
    "collapsed": false
   },
   "outputs": [],
   "source": [
    "nb.train_incremental([[103, 205, 299, 412]], ['z'])"
   ]
  },
  {
   "cell_type": "code",
   "execution_count": 281,
   "metadata": {
    "collapsed": false
   },
   "outputs": [
    {
     "data": {
      "text/plain": [
       "['z']"
      ]
     },
     "execution_count": 281,
     "metadata": {},
     "output_type": "execute_result"
    }
   ],
   "source": [
    "nb.predict([[101, 198, 305, 401]])"
   ]
  },
  {
   "cell_type": "code",
   "execution_count": 282,
   "metadata": {
    "collapsed": false
   },
   "outputs": [
    {
     "data": {
      "text/plain": [
       "['x']"
      ]
     },
     "execution_count": 282,
     "metadata": {},
     "output_type": "execute_result"
    }
   ],
   "source": [
    "nb.predict([[1,2,3,4]])"
   ]
  },
  {
   "cell_type": "code",
   "execution_count": 283,
   "metadata": {
    "collapsed": false
   },
   "outputs": [
    {
     "data": {
      "text/plain": [
       "defaultdict(dict,\n",
       "            {'x': {'mean': array([ 1.1 ,  1.95,  3.05,  4.25]),\n",
       "              'n': 2,\n",
       "              'std': array([ 0.01  ,  0.0025,  0.0025,  0.0625]),\n",
       "              'sum': array([ 2.2,  3.9,  6.1,  8.5]),\n",
       "              'sum_squared': array([  2.44,   7.61,  18.61,  36.25])},\n",
       "             'y': {'mean': array([ 10.05,  20.1 ,  29.9 ,  41.  ]),\n",
       "              'n': 2,\n",
       "              'std': array([ 0.0025,  0.01  ,  0.01  ,  1.    ]),\n",
       "              'sum': array([ 20.1,  40.2,  59.8,  82. ]),\n",
       "              'sum_squared': array([  202.01,   808.04,  1788.04,  3364.  ])},\n",
       "             'z': {'mean': array([ 101.5,  202.5,  299.5,  406. ]),\n",
       "              'n': 2,\n",
       "              'std': array([  2.25,   6.25,   0.25,  36.  ]),\n",
       "              'sum': array([203, 405, 599, 812]),\n",
       "              'sum_squared': array([ 20609,  82025, 179401, 329744])}})"
      ]
     },
     "execution_count": 283,
     "metadata": {},
     "output_type": "execute_result"
    }
   ],
   "source": [
    "nb.stats"
   ]
  }
 ],
 "metadata": {
  "anaconda-cloud": {},
  "kernelspec": {
   "display_name": "Python [default]",
   "language": "python",
   "name": "python3"
  },
  "language_info": {
   "codemirror_mode": {
    "name": "ipython",
    "version": 3
   },
   "file_extension": ".py",
   "mimetype": "text/x-python",
   "name": "python",
   "nbconvert_exporter": "python",
   "pygments_lexer": "ipython3",
   "version": "3.5.4"
  }
 },
 "nbformat": 4,
 "nbformat_minor": 2
}
