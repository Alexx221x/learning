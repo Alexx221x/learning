{
 "cells": [
  {
   "cell_type": "markdown",
   "metadata": {},
   "source": [
    "# Trie"
   ]
  },
  {
   "cell_type": "markdown",
   "metadata": {},
   "source": [
    "### Single-bit trie"
   ]
  },
  {
   "cell_type": "code",
   "execution_count": 60,
   "metadata": {
    "collapsed": true
   },
   "outputs": [],
   "source": [
    "class Trie:\n",
    "    def _construct(self, input_):\n",
    "        for key, value in input_.items():\n",
    "            base = self.trie\n",
    "            for index, char in enumerate(value):\n",
    "                if self._is_last(char, index, value):\n",
    "                    base[char] = key\n",
    "                else:\n",
    "                    if char not in base:\n",
    "                        base[char] = {}\n",
    "                    \n",
    "                base = base[char]\n",
    "        \n",
    "    def __init__(self, input_):\n",
    "        self.trie = {}\n",
    "        self._construct(input_)\n",
    "        \n",
    "    @staticmethod\n",
    "    def _is_last(char, index, key):\n",
    "        return char == '*' or index == len(key) - 1\n",
    "        \n",
    "    def lookup(self, input_):\n",
    "        base = self.trie\n",
    "        for index, char in enumerate(input_):\n",
    "            try:\n",
    "                if self._is_last(char, index, input_):\n",
    "                    return base[char]\n",
    "                else:\n",
    "                    base = base[char]\n",
    "            except Exception as e:\n",
    "                return base"
   ]
  },
  {
   "cell_type": "code",
   "execution_count": 61,
   "metadata": {
    "collapsed": false
   },
   "outputs": [],
   "source": [
    "trie = Trie({\n",
    "    'P1': '111*',\n",
    "    'P2': '11*',\n",
    "    'P3': '1010*',\n",
    "    'P4': '10101'\n",
    "})"
   ]
  },
  {
   "cell_type": "code",
   "execution_count": 62,
   "metadata": {
    "collapsed": false
   },
   "outputs": [
    {
     "data": {
      "text/plain": [
       "'P1'"
      ]
     },
     "execution_count": 62,
     "metadata": {},
     "output_type": "execute_result"
    }
   ],
   "source": [
    "trie.lookup('111*')"
   ]
  },
  {
   "cell_type": "code",
   "execution_count": 66,
   "metadata": {
    "collapsed": false
   },
   "outputs": [
    {
     "data": {
      "text/plain": [
       "'P1'"
      ]
     },
     "execution_count": 66,
     "metadata": {},
     "output_type": "execute_result"
    }
   ],
   "source": [
    "trie.lookup('111*')"
   ]
  },
  {
   "cell_type": "code",
   "execution_count": 65,
   "metadata": {
    "collapsed": false
   },
   "outputs": [
    {
     "data": {
      "text/plain": [
       "{'*': 'P1'}"
      ]
     },
     "execution_count": 65,
     "metadata": {},
     "output_type": "execute_result"
    }
   ],
   "source": [
    "trie.lookup('1111')"
   ]
  },
  {
   "cell_type": "code",
   "execution_count": 67,
   "metadata": {
    "collapsed": false
   },
   "outputs": [
    {
     "data": {
      "text/plain": [
       "{'*': 'P2', '1': {'*': 'P1'}}"
      ]
     },
     "execution_count": 67,
     "metadata": {},
     "output_type": "execute_result"
    }
   ],
   "source": [
    "trie.lookup('11')"
   ]
  },
  {
   "cell_type": "code",
   "execution_count": null,
   "metadata": {
    "collapsed": true
   },
   "outputs": [],
   "source": []
  }
 ],
 "metadata": {
  "anaconda-cloud": {},
  "kernelspec": {
   "display_name": "Python [default]",
   "language": "python",
   "name": "python3"
  },
  "language_info": {
   "codemirror_mode": {
    "name": "ipython",
    "version": 3
   },
   "file_extension": ".py",
   "mimetype": "text/x-python",
   "name": "python",
   "nbconvert_exporter": "python",
   "pygments_lexer": "ipython3",
   "version": "3.5.4"
  }
 },
 "nbformat": 4,
 "nbformat_minor": 2
}
