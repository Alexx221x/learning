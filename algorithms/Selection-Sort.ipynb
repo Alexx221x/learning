{
 "cells": [
  {
   "cell_type": "markdown",
   "metadata": {},
   "source": [
    "# Selection Sort"
   ]
  },
  {
   "cell_type": "markdown",
   "metadata": {},
   "source": [
    "### Step 0- Testing utilities\n",
    "Take a look at `resources/utils.py` if you're curious."
   ]
  },
  {
   "cell_type": "code",
   "execution_count": 4,
   "metadata": {
    "collapsed": false
   },
   "outputs": [],
   "source": [
    "from resources.utils import run_tests"
   ]
  },
  {
   "cell_type": "markdown",
   "metadata": {},
   "source": [
    "### Step 1- Selection sort"
   ]
  },
  {
   "cell_type": "code",
   "execution_count": 31,
   "metadata": {
    "collapsed": true
   },
   "outputs": [],
   "source": [
    "def selection_sort(input_list):\n",
    "    def replace_min(current, index):\n",
    "        min_ = current\n",
    "        min_index = index - 1\n",
    "        for i, val in enumerate(input_list[index:]):\n",
    "            if val < min_:\n",
    "                min_ = val\n",
    "                min_index = index + i\n",
    "            \n",
    "        if min_ != current:\n",
    "            # swap\n",
    "            input_list[index -1], input_list[min_index] = input_list[min_index], input_list[index -1]\n",
    "    \n",
    "    for index in range(len(input_list)):\n",
    "        replace_min(input_list[index], index + 1)\n",
    "            \n",
    "    return input_list"
   ]
  },
  {
   "cell_type": "code",
   "execution_count": 33,
   "metadata": {
    "collapsed": true
   },
   "outputs": [],
   "source": [
    "tests = [\n",
    "    ({'input_list': [5,4,3,2,1]}, [1,2,3,4,5]),\n",
    "    ({'input_list': [1,10,2,9,3,5]}, [1,2,3,5,9,10]),\n",
    "    ({'input_list': [1]}, [1]),\n",
    "    ({'input_list': [3,1]}, [1,3]),\n",
    "    ({'input_list': [1000,-1,0]}, [-1,0,1000]),\n",
    "    ({'input_list': [1,2,100]}, [1,2,100]),\n",
    "]"
   ]
  },
  {
   "cell_type": "code",
   "execution_count": 35,
   "metadata": {
    "collapsed": false
   },
   "outputs": [
    {
     "name": "stdout",
     "output_type": "stream",
     "text": [
      "✓ All tests successful\n"
     ]
    }
   ],
   "source": [
    "run_tests(tests, selection_sort)"
   ]
  }
 ],
 "metadata": {
  "kernelspec": {
   "display_name": "Python [conda root]",
   "language": "python",
   "name": "conda-root-py"
  },
  "language_info": {
   "codemirror_mode": {
    "name": "ipython",
    "version": 3
   },
   "file_extension": ".py",
   "mimetype": "text/x-python",
   "name": "python",
   "nbconvert_exporter": "python",
   "pygments_lexer": "ipython3",
   "version": "3.5.2"
  }
 },
 "nbformat": 4,
 "nbformat_minor": 2
}
