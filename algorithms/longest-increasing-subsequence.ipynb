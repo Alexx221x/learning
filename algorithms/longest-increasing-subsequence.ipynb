{
 "cells": [
  {
   "cell_type": "markdown",
   "metadata": {},
   "source": [
    "# Longest Increasing Subsequence"
   ]
  },
  {
   "cell_type": "code",
   "execution_count": 11,
   "metadata": {},
   "outputs": [],
   "source": [
    "def lis(l_in):\n",
    "    l = [0] * len(l_in)\n",
    "    \n",
    "    l[0] = 1\n",
    "    \n",
    "    for i in range(1, len(l)):\n",
    "        qualifying = [\n",
    "            l[j]\n",
    "            for j in range(i)\n",
    "            if l_in[j] < l_in[i]\n",
    "        ]\n",
    "        # print(i, qualifying, l)\n",
    "        l[i] = 1 + (max(qualifying) if len(qualifying) > 0 else 0)\n",
    "        \n",
    "    return max(l)"
   ]
  },
  {
   "cell_type": "code",
   "execution_count": 12,
   "metadata": {},
   "outputs": [
    {
     "data": {
      "text/plain": [
       "True"
      ]
     },
     "execution_count": 12,
     "metadata": {},
     "output_type": "execute_result"
    }
   ],
   "source": [
    "lis([5, 2, 8, 6, 3, 6, 9, 7]) == 4"
   ]
  }
 ],
 "metadata": {
  "kernelspec": {
   "display_name": "Python 3",
   "language": "python",
   "name": "python3"
  },
  "language_info": {
   "codemirror_mode": {
    "name": "ipython",
    "version": 3
   },
   "file_extension": ".py",
   "mimetype": "text/x-python",
   "name": "python",
   "nbconvert_exporter": "python",
   "pygments_lexer": "ipython3",
   "version": "3.7.2"
  }
 },
 "nbformat": 4,
 "nbformat_minor": 2
}
