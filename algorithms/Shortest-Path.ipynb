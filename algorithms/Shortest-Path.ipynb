{
 "cells": [
  {
   "cell_type": "markdown",
   "metadata": {},
   "source": [
    "# Shortest path\n",
    "https://www.wikiwand.com/en/Shortest_path_problem\n",
    "\n",
    "- ### Single-source\n",
    "    - Dijkstra's\n",
    "    - Bellman-Ford\n",
    "    - Breadth-first (unweighted)\n",
    "    - Topological sorting (weighted DAGs)\n",
    "- ### Single pair\n",
    "    - A* (using heuristics)\n",
    "- ### All pairs\n",
    "    - Floyd-Warshall\n",
    "    - Johnson's (potentially faster on sparse graphs)\n",
    "- ### Stochastic\n",
    "    - Viterbi"
   ]
  },
  {
   "cell_type": "code",
   "execution_count": null,
   "metadata": {
    "collapsed": true
   },
   "outputs": [],
   "source": []
  }
 ],
 "metadata": {
  "anaconda-cloud": {},
  "kernelspec": {
   "display_name": "Python [default]",
   "language": "python",
   "name": "python3"
  },
  "language_info": {
   "codemirror_mode": {
    "name": "ipython",
    "version": 3
   },
   "file_extension": ".py",
   "mimetype": "text/x-python",
   "name": "python",
   "nbconvert_exporter": "python",
   "pygments_lexer": "ipython3",
   "version": "3.5.2"
  }
 },
 "nbformat": 4,
 "nbformat_minor": 2
}
