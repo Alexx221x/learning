{
 "cells": [
  {
   "cell_type": "markdown",
   "metadata": {},
   "source": [
    "# Dynamic Programming"
   ]
  },
  {
   "cell_type": "markdown",
   "metadata": {},
   "source": [
    "### Mandatory coin change problem\n",
    "http://interactivepython.org/runestone/static/pythonds/Recursion/DynamicProgramming.html#fig-dpcoins"
   ]
  },
  {
   "cell_type": "code",
   "execution_count": 28,
   "metadata": {},
   "outputs": [],
   "source": [
    "def recursive(coins, change):\n",
    "    if change in coins:\n",
    "        return 1\n",
    "    else:\n",
    "        return min([\n",
    "            1 + recursive(coins, change - coin)\n",
    "            for coin in coins\n",
    "        ])"
   ]
  },
  {
   "cell_type": "code",
   "execution_count": 36,
   "metadata": {},
   "outputs": [
    {
     "data": {
      "text/plain": [
       "3"
      ]
     },
     "execution_count": 36,
     "metadata": {},
     "output_type": "execute_result"
    }
   ],
   "source": [
    "recursive([1, 2], 5)"
   ]
  },
  {
   "cell_type": "code",
   "execution_count": 51,
   "metadata": {},
   "outputs": [],
   "source": [
    "test_cases = [\n",
    "    (([1, 2, 3], 3), 1),\n",
    "    (([1, 2, 3], 2), 1),\n",
    "    (([1, 2, 3], 5), 2),\n",
    "    (([1, 2, 3], 10), 4),\n",
    "    (([25, 21, 10, 5, 1], 63), 3),  # max depth exceeded\n",
    "    (([25, 10, 5, 1], 63), 6)  # max depth exceeded\n",
    "]"
   ]
  },
  {
   "cell_type": "code",
   "execution_count": 199,
   "metadata": {},
   "outputs": [],
   "source": [
    "def run_test_cases(f, n=None):\n",
    "    if n is None:\n",
    "        n = len(test_cases)\n",
    "    return all([f(*input_) == expected for input_, expected in test_cases[:n]])"
   ]
  },
  {
   "cell_type": "code",
   "execution_count": 200,
   "metadata": {},
   "outputs": [],
   "source": [
    "assert run_test_cases(recursive, 4)"
   ]
  },
  {
   "cell_type": "code",
   "execution_count": 201,
   "metadata": {},
   "outputs": [],
   "source": [
    "def recursive_memory(coins, change):\n",
    "    results = {}\n",
    "    \n",
    "    def recurse(change):\n",
    "        if change in results:\n",
    "            return results[change]\n",
    "        else:\n",
    "            if change in coins:\n",
    "                results[change] = 1\n",
    "                return 1\n",
    "            else:\n",
    "                min_ = change\n",
    "                for coin in [c for c in coins if c <= change]:\n",
    "                    diff = change - coin\n",
    "                    n = 1 + (results[diff] if diff in results else recurse(diff))\n",
    "                    min_ = min(min_, n)\n",
    "\n",
    "                results[change] = min_\n",
    "                return min_\n",
    "    \n",
    "    return recurse(change)"
   ]
  },
  {
   "cell_type": "code",
   "execution_count": 204,
   "metadata": {},
   "outputs": [],
   "source": [
    "assert run_test_cases(recursive_memory)"
   ]
  },
  {
   "cell_type": "code",
   "execution_count": 228,
   "metadata": {},
   "outputs": [],
   "source": [
    "def dynamic_programming(coins, n):\n",
    "    results = [0] * (n + 1)\n",
    "    for i in range(1, n + 1):\n",
    "        min_ = i\n",
    "        for c in coins:\n",
    "            if c <= i:\n",
    "                tmp = 1 + results[i - c]\n",
    "                min_ = min(min_, tmp)\n",
    "                \n",
    "        results[i] = min_\n",
    "            \n",
    "    return results[-1]"
   ]
  },
  {
   "cell_type": "code",
   "execution_count": 229,
   "metadata": {},
   "outputs": [],
   "source": [
    "assert run_test_cases(dp)"
   ]
  }
 ],
 "metadata": {
  "anaconda-cloud": {},
  "kernelspec": {
   "display_name": "Python [default]",
   "language": "python",
   "name": "python3"
  },
  "language_info": {
   "codemirror_mode": {
    "name": "ipython",
    "version": 3
   },
   "file_extension": ".py",
   "mimetype": "text/x-python",
   "name": "python",
   "nbconvert_exporter": "python",
   "pygments_lexer": "ipython3",
   "version": "3.5.4"
  }
 },
 "nbformat": 4,
 "nbformat_minor": 2
}
