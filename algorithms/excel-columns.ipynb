{
 "cells": [
  {
   "cell_type": "markdown",
   "metadata": {},
   "source": [
    "# Excel Columns"
   ]
  },
  {
   "cell_type": "code",
   "execution_count": 1,
   "metadata": {
    "collapsed": true
   },
   "outputs": [],
   "source": [
    "import string"
   ]
  },
  {
   "cell_type": "code",
   "execution_count": 197,
   "metadata": {
    "collapsed": true
   },
   "outputs": [],
   "source": [
    "def excel_column(n):\n",
    "    alphabet = string.ascii_uppercase\n",
    "    alphabet_len = len(alphabet)  # 26\n",
    "    \n",
    "    def convert(n):\n",
    "        if n < alphabet_len:    \n",
    "            return alphabet[n]\n",
    "        else:\n",
    "            mod = n % alphabet_len\n",
    "            first = excel_column(int(n / alphabet_len))\n",
    "            return first + convert(mod)\n",
    "        \n",
    "    # zero-indexed\n",
    "    return convert(n - 1)"
   ]
  },
  {
   "cell_type": "code",
   "execution_count": 198,
   "metadata": {
    "collapsed": false
   },
   "outputs": [
    {
     "data": {
      "text/plain": [
       "True"
      ]
     },
     "execution_count": 198,
     "metadata": {},
     "output_type": "execute_result"
    }
   ],
   "source": [
    "test_cases = [\n",
    "    (1, 'A'),\n",
    "    (27, 'AA'),\n",
    "    (700, 'ZX'),\n",
    "    (702, 'ZZ'),\n",
    "    (703, 'AAA'),\n",
    "    (729, 'ABA'),\n",
    "    (740, 'ABL'),\n",
    "    (486, 'RR'),\n",
    "    (440, 'PX'),\n",
    "    (378, 'NN'),\n",
    "    (53, 'BA'),\n",
    "    (1168, 'ARX'),\n",
    "    (1454, 'BCX')\n",
    "]\n",
    "\n",
    "all([excel_column(input_) == expected\n",
    "     for input_, expected in test_cases])"
   ]
  }
 ],
 "metadata": {
  "anaconda-cloud": {},
  "kernelspec": {
   "display_name": "Python [default]",
   "language": "python",
   "name": "python3"
  },
  "language_info": {
   "codemirror_mode": {
    "name": "ipython",
    "version": 3
   },
   "file_extension": ".py",
   "mimetype": "text/x-python",
   "name": "python",
   "nbconvert_exporter": "python",
   "pygments_lexer": "ipython3",
   "version": "3.5.4"
  }
 },
 "nbformat": 4,
 "nbformat_minor": 2
}
