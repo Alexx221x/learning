{
 "cells": [
  {
   "cell_type": "code",
   "execution_count": 72,
   "metadata": {
    "collapsed": false
   },
   "outputs": [],
   "source": [
    "def digit_mult_digit(digit1, digit2, carry):\n",
    "    assert (digit1 < 10 and digit2 < 10), \"Enter digits please\"\n",
    "    mult = digit1 * digit2 + carry\n",
    "    return mult % 10, mult // 10\n",
    "\n",
    "def get_nth_digit(number, n):\n",
    "    return number // (10 ** n) % 10\n",
    "\n",
    "def digit_mult_number(digit, number):\n",
    "    i = 0\n",
    "    cumsum = 0\n",
    "    carry = 0\n",
    "    while number // 10 ** i > 0:\n",
    "        nth_digit = get_nth_digit(number, i)\n",
    "        answer, carry = digit_mult_digit(nth_digit, digit, carry)\n",
    "        cumsum += answer * (10 ** i)\n",
    "        i += 1\n",
    "    return cumsum + carry * (10 ** i)\n",
    "\n",
    "def number_mult_number(number1, number2):\n",
    "    i = 0\n",
    "    cumsum = 0\n",
    "    while number2 // 10 ** i > 0:\n",
    "        nth_digit = get_nth_digit(number2, i)\n",
    "        cumsum += digit_mult_number(nth_digit, number1) * (10 ** i)\n",
    "        i += 1\n",
    "    return cumsum"
   ]
  },
  {
   "cell_type": "code",
   "execution_count": 76,
   "metadata": {
    "collapsed": true
   },
   "outputs": [],
   "source": [
    "import numpy as np"
   ]
  },
  {
   "cell_type": "code",
   "execution_count": 83,
   "metadata": {
    "collapsed": false
   },
   "outputs": [
    {
     "data": {
      "text/plain": [
       "True"
      ]
     },
     "execution_count": 83,
     "metadata": {},
     "output_type": "execute_result"
    }
   ],
   "source": [
    "# Tests\n",
    "n = 100\n",
    "ceiling = 1000\n",
    "results = [\n",
    "    number_mult_number(number1, number2) == number1 * number2\n",
    "    for number1 in np.random.randint(1, ceiling, n)\n",
    "    for number2 in np.random.randint(1, ceiling, n)\n",
    "]\n",
    "np.all(results)"
   ]
  },
  {
   "cell_type": "code",
   "execution_count": null,
   "metadata": {
    "collapsed": true
   },
   "outputs": [],
   "source": []
  }
 ],
 "metadata": {
  "anaconda-cloud": {},
  "kernelspec": {
   "display_name": "Python [default]",
   "language": "python",
   "name": "python3"
  },
  "language_info": {
   "codemirror_mode": {
    "name": "ipython",
    "version": 3
   },
   "file_extension": ".py",
   "mimetype": "text/x-python",
   "name": "python",
   "nbconvert_exporter": "python",
   "pygments_lexer": "ipython3",
   "version": "3.5.2"
  }
 },
 "nbformat": 4,
 "nbformat_minor": 2
}
