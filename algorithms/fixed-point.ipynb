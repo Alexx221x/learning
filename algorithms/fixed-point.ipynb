{
 "cells": [
  {
   "cell_type": "markdown",
   "metadata": {},
   "source": [
    "# Fixed point\n",
    "2.17 in DPV: fixed point"
   ]
  },
  {
   "cell_type": "code",
   "execution_count": 31,
   "metadata": {},
   "outputs": [],
   "source": [
    "from typing import List\n",
    "\n",
    "import numpy as np"
   ]
  },
  {
   "cell_type": "code",
   "execution_count": 40,
   "metadata": {},
   "outputs": [],
   "source": [
    "def find_index_equals_val(lst: List[int], b: int, e: int, depth: int=0) -> bool:\n",
    "    assert sorted(lst) == lst\n",
    "    assert len(set(lst)) == len(lst)\n",
    "    \n",
    "    m = b + (e - b) // 2\n",
    "    last = e - b == 1\n",
    "    \n",
    "    if m == lst[m]:\n",
    "        print(f'depth: {depth}, log2(n): {np.log2(len(lst))}')\n",
    "        return True\n",
    "    else:\n",
    "        if lst[m] < m:\n",
    "            # go right\n",
    "            if last:\n",
    "                print(f'depth: {depth}, log2(n): {np.log2(len(lst))}')\n",
    "                return lst[e] == e\n",
    "            return find_index_equals_val(lst, m, e, depth + 1)\n",
    "        else:\n",
    "            # go left\n",
    "            if last:\n",
    "                print(f'depth: {depth}, log2(n): {np.log2(len(lst))}')\n",
    "                return lst[b] == b\n",
    "            return find_index_equals_val(lst, b, m, depth + 1)"
   ]
  },
  {
   "cell_type": "code",
   "execution_count": 41,
   "metadata": {},
   "outputs": [
    {
     "name": "stdout",
     "output_type": "stream",
     "text": [
      "depth: 1, log2(n): 1.584962500721156\n"
     ]
    },
    {
     "data": {
      "text/plain": [
       "True"
      ]
     },
     "execution_count": 41,
     "metadata": {},
     "output_type": "execute_result"
    }
   ],
   "source": [
    "find_index_equals_val([1, 2, 3], 0, 2) == False"
   ]
  },
  {
   "cell_type": "code",
   "execution_count": 42,
   "metadata": {},
   "outputs": [
    {
     "name": "stdout",
     "output_type": "stream",
     "text": [
      "depth: 0, log2(n): 1.584962500721156\n"
     ]
    },
    {
     "data": {
      "text/plain": [
       "True"
      ]
     },
     "execution_count": 42,
     "metadata": {},
     "output_type": "execute_result"
    }
   ],
   "source": [
    "find_index_equals_val([0, 1, 3], 0, 2) == True"
   ]
  },
  {
   "cell_type": "code",
   "execution_count": 43,
   "metadata": {},
   "outputs": [
    {
     "name": "stdout",
     "output_type": "stream",
     "text": [
      "depth: 0, log2(n): 2.0\n"
     ]
    },
    {
     "data": {
      "text/plain": [
       "True"
      ]
     },
     "execution_count": 43,
     "metadata": {},
     "output_type": "execute_result"
    }
   ],
   "source": [
    "find_index_equals_val([-1, 1, 2, 3], 0, 3) == True"
   ]
  },
  {
   "cell_type": "code",
   "execution_count": 44,
   "metadata": {},
   "outputs": [
    {
     "name": "stdout",
     "output_type": "stream",
     "text": [
      "depth: 1, log2(n): 2.0\n"
     ]
    },
    {
     "data": {
      "text/plain": [
       "True"
      ]
     },
     "execution_count": 44,
     "metadata": {},
     "output_type": "execute_result"
    }
   ],
   "source": [
    "find_index_equals_val([-1, 0, 2, 3], 0, 3) == True"
   ]
  },
  {
   "cell_type": "code",
   "execution_count": 48,
   "metadata": {},
   "outputs": [
    {
     "data": {
      "text/plain": [
       "111"
      ]
     },
     "execution_count": 48,
     "metadata": {},
     "output_type": "execute_result"
    }
   ],
   "source": [
    "len(list(range(-1, 10)) + list(range(100, 200)))"
   ]
  },
  {
   "cell_type": "code",
   "execution_count": 50,
   "metadata": {},
   "outputs": [
    {
     "name": "stdout",
     "output_type": "stream",
     "text": [
      "depth: 7, log2(n): 6.794415866350106\n"
     ]
    },
    {
     "data": {
      "text/plain": [
       "True"
      ]
     },
     "execution_count": 50,
     "metadata": {},
     "output_type": "execute_result"
    }
   ],
   "source": [
    "find_index_equals_val(list(range(-1, 10)) + list(range(100, 200)), 0, 110) == False"
   ]
  },
  {
   "cell_type": "code",
   "execution_count": 59,
   "metadata": {},
   "outputs": [
    {
     "name": "stdout",
     "output_type": "stream",
     "text": [
      "depth: 7, log2(n): 9.98299357469431\n"
     ]
    },
    {
     "data": {
      "text/plain": [
       "True"
      ]
     },
     "execution_count": 59,
     "metadata": {},
     "output_type": "execute_result"
    }
   ],
   "source": [
    "find_index_equals_val(list(range(-1, 10)) + [11] + list(range(1000, 2000)), 0, 1010) == True"
   ]
  }
 ],
 "metadata": {
  "kernelspec": {
   "display_name": "Python 3",
   "language": "python",
   "name": "python3"
  },
  "language_info": {
   "codemirror_mode": {
    "name": "ipython",
    "version": 3
   },
   "file_extension": ".py",
   "mimetype": "text/x-python",
   "name": "python",
   "nbconvert_exporter": "python",
   "pygments_lexer": "ipython3",
   "version": "3.7.2"
  }
 },
 "nbformat": 4,
 "nbformat_minor": 2
}
