{
 "cells": [
  {
   "cell_type": "markdown",
   "metadata": {},
   "source": [
    "# Online mean and variance"
   ]
  },
  {
   "cell_type": "markdown",
   "metadata": {},
   "source": [
    "Single-pass algorithm for calculating mean and variance"
   ]
  },
  {
   "cell_type": "markdown",
   "metadata": {},
   "source": [
    "https://en.wikipedia.org/wiki/Algorithms_for_calculating_variance"
   ]
  },
  {
   "cell_type": "code",
   "execution_count": 1,
   "metadata": {
    "collapsed": true
   },
   "outputs": [],
   "source": [
    "from resources.utils import run_tests"
   ]
  },
  {
   "cell_type": "code",
   "execution_count": 45,
   "metadata": {
    "collapsed": true
   },
   "outputs": [],
   "source": [
    "tests = [\n",
    "    (dict(data=[1]), (1, 0)),\n",
    "    (dict(data=[1, 2]), (1.5, np.std([1, 2]))),\n",
    "    (dict(data=[1, 2, 3]), ((1 + 2 + 3) / 3, np.std([1, 2, 3]))),\n",
    "    (dict(data=[1, 2, 3, 4]), ((1 + 2 + 3 + 4) / 4, np.std([1, 2, 3, 4]))),\n",
    "    (dict(data=[1, -2, 3, -4]), ((1 + -2 + 3 + -4) / 4, np.std([1, -2, 3, -4]))),\n",
    "]"
   ]
  },
  {
   "cell_type": "code",
   "execution_count": 46,
   "metadata": {
    "collapsed": true
   },
   "outputs": [],
   "source": [
    "import numpy as np"
   ]
  },
  {
   "cell_type": "code",
   "execution_count": 47,
   "metadata": {
    "collapsed": true
   },
   "outputs": [],
   "source": [
    "def online_mean_and_variance(data):\n",
    "    n = 0\n",
    "    sum_ = 0\n",
    "    sum_squared = 0\n",
    "    for datum in data:\n",
    "        n += 1\n",
    "        sum_ += datum\n",
    "        sum_squared += datum ** 2\n",
    "    \n",
    "    mean = sum_ / n\n",
    "    variance = 0\n",
    "    if n > 1:\n",
    "        variance = (sum_squared - (sum_ ** 2) / n) / n\n",
    "    \n",
    "    return (sum_ / n, variance ** 0.5)"
   ]
  },
  {
   "cell_type": "code",
   "execution_count": 48,
   "metadata": {
    "collapsed": false
   },
   "outputs": [
    {
     "name": "stdout",
     "output_type": "stream",
     "text": [
      "✓ All tests successful\n"
     ]
    }
   ],
   "source": [
    "run_tests(tests, online_mean_and_variance)"
   ]
  }
 ],
 "metadata": {
  "anaconda-cloud": {},
  "kernelspec": {
   "display_name": "Python [default]",
   "language": "python",
   "name": "python3"
  },
  "language_info": {
   "codemirror_mode": {
    "name": "ipython",
    "version": 3
   },
   "file_extension": ".py",
   "mimetype": "text/x-python",
   "name": "python",
   "nbconvert_exporter": "python",
   "pygments_lexer": "ipython3",
   "version": "3.5.4"
  }
 },
 "nbformat": 4,
 "nbformat_minor": 2
}
