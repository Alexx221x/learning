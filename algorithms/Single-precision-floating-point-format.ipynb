{
 "cells": [
  {
   "cell_type": "markdown",
   "metadata": {},
   "source": [
    "# Single-precision floating-point format\n",
    "https://www.wikiwand.com/en/Single-precision_floating-point_format\n",
    ">The IEEE 754 standard specifies a binary32 as having:\n",
    ">* Sign bit: 1 bit\n",
    ">* Exponent width: 8 bits\n",
    ">* Significand precision: 24 bits (23 explicitly stored)"
   ]
  },
  {
   "cell_type": "code",
   "execution_count": 74,
   "metadata": {
    "collapsed": true
   },
   "outputs": [],
   "source": [
    "def calculate(bit_vector):\n",
    "    assert len(bit_vector) == 32\n",
    "    \n",
    "    fraction = bit_vector[:23]\n",
    "    exponent = bit_vector[23:31]\n",
    "    sign = bit_vector[-1]\n",
    "    \n",
    "    value_sign = sign ** 0\n",
    "    e = sum([val * (2 ** i)\n",
    "             for i, val in enumerate(exponent)])\n",
    "    value_exponent = 2 ** (e - 127)\n",
    "    value_fraction = 1 + sum([\n",
    "        fraction[len(fraction) - i] * (2 ** (-i))\n",
    "        for i in range(1, len(fraction) + 1)\n",
    "    ])\n",
    "    return value_sign * value_fraction * value_exponent"
   ]
  },
  {
   "cell_type": "code",
   "execution_count": 76,
   "metadata": {
    "collapsed": false
   },
   "outputs": [
    {
     "data": {
      "text/plain": [
       "0.15625"
      ]
     },
     "execution_count": 76,
     "metadata": {},
     "output_type": "execute_result"
    }
   ],
   "source": [
    "sign = [0]\n",
    "exponent = [0, 1, 1, 1, 1, 1, 0, 0]\n",
    "fraction = ([0, 1] + [0] * 21)\n",
    "bit_vector = (sign + exponent + fraction)[::-1]\n",
    "calculate(bit_vector)"
   ]
  }
 ],
 "metadata": {
  "anaconda-cloud": {},
  "kernelspec": {
   "display_name": "Python [default]",
   "language": "python",
   "name": "python3"
  },
  "language_info": {
   "codemirror_mode": {
    "name": "ipython",
    "version": 3
   },
   "file_extension": ".py",
   "mimetype": "text/x-python",
   "name": "python",
   "nbconvert_exporter": "python",
   "pygments_lexer": "ipython3",
   "version": "3.5.4"
  }
 },
 "nbformat": 4,
 "nbformat_minor": 2
}
