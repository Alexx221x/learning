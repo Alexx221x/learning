{
 "cells": [
  {
   "cell_type": "markdown",
   "metadata": {},
   "source": [
    "# finding $x$ in an infinite array\n",
    "2.16 in DPV"
   ]
  },
  {
   "cell_type": "code",
   "execution_count": 2,
   "metadata": {},
   "outputs": [],
   "source": [
    "import numpy as np"
   ]
  },
  {
   "cell_type": "code",
   "execution_count": 158,
   "metadata": {},
   "outputs": [],
   "source": [
    "# let's pretend that n is not known to us\n",
    "# n is the number of elements that are populated\n",
    "# the rest are infinity\n",
    "n = int(2e10)\n",
    "n = 10"
   ]
  },
  {
   "cell_type": "code",
   "execution_count": 159,
   "metadata": {},
   "outputs": [],
   "source": [
    "# we only have access to this function\n",
    "# which checks if the value at that index is infinity or not\n",
    "def val_inf(i):\n",
    "    return True if i >= n else False"
   ]
  },
  {
   "cell_type": "code",
   "execution_count": 167,
   "metadata": {},
   "outputs": [],
   "source": [
    "def find_n(b: int, e: int, depth: int=0) -> int:\n",
    "    \"\"\"\n",
    "    b: beginning of the range\n",
    "    e: end of the range\n",
    "    depth: keep track of recursion depth\n",
    "    \"\"\"\n",
    "    \n",
    "    # catch the case of n == 0\n",
    "    if val_inf(b):\n",
    "        return b\n",
    "    \n",
    "    # is the value of e\n",
    "    inf_e = val_inf(e)\n",
    "    \n",
    "    if inf_e:\n",
    "        m = (e - b) // 2 + b\n",
    "        inf_m = val_inf(m)\n",
    "        \n",
    "        # eureka\n",
    "        if not inf_m and e - m == 1:\n",
    "            print(f'depth: {depth}, log2(n): {np.log2(n)}')\n",
    "            return e\n",
    "        \n",
    "        if inf_m:\n",
    "            return find_n(b, m, depth + 1)\n",
    "        else:\n",
    "            return find_n(m, e, depth + 1)\n",
    "    else:\n",
    "        # expand the range\n",
    "        return find_n(e, e ** 2, depth + 1)"
   ]
  },
  {
   "cell_type": "code",
   "execution_count": 168,
   "metadata": {},
   "outputs": [
    {
     "name": "stdout",
     "output_type": "stream",
     "text": [
      "depth: 6, log2(n): 3.321928094887362\n"
     ]
    },
    {
     "data": {
      "text/plain": [
       "10"
      ]
     },
     "execution_count": 168,
     "metadata": {},
     "output_type": "execute_result"
    }
   ],
   "source": [
    "find_n(0, 100)"
   ]
  }
 ],
 "metadata": {
  "kernelspec": {
   "display_name": "Python 3",
   "language": "python",
   "name": "python3"
  },
  "language_info": {
   "codemirror_mode": {
    "name": "ipython",
    "version": 3
   },
   "file_extension": ".py",
   "mimetype": "text/x-python",
   "name": "python",
   "nbconvert_exporter": "python",
   "pygments_lexer": "ipython3",
   "version": "3.7.2"
  }
 },
 "nbformat": 4,
 "nbformat_minor": 2
}
