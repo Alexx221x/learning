{
 "cells": [
  {
   "cell_type": "markdown",
   "metadata": {},
   "source": [
    "# Insertion Sort"
   ]
  },
  {
   "cell_type": "markdown",
   "metadata": {},
   "source": [
    "### Step 0- Testing utilities\n",
    "Take a look at `resources/utils.py` if you're curious."
   ]
  },
  {
   "cell_type": "code",
   "execution_count": 2,
   "metadata": {
    "collapsed": false
   },
   "outputs": [],
   "source": [
    "from resources.utils import run_tests"
   ]
  },
  {
   "cell_type": "markdown",
   "metadata": {},
   "source": [
    "### Step 1- Insertion sort"
   ]
  },
  {
   "cell_type": "code",
   "execution_count": 33,
   "metadata": {
    "collapsed": true
   },
   "outputs": [],
   "source": [
    "def insertion_sort(input_list):\n",
    "    def swap(i, j):\n",
    "        input_list[i], input_list[j] = input_list[j], input_list[i]\n",
    "    \n",
    "    cursor = 1\n",
    "    \n",
    "    while cursor < len(input_list):\n",
    "        if input_list[cursor] < input_list[cursor - 1]:\n",
    "            swap(cursor, cursor - 1)\n",
    "            if cursor > 1:\n",
    "                cursor -= 1\n",
    "            else:\n",
    "                cursor += 1\n",
    "        else:\n",
    "            cursor += 1\n",
    "                \n",
    "    return input_list"
   ]
  },
  {
   "cell_type": "code",
   "execution_count": 34,
   "metadata": {
    "collapsed": true
   },
   "outputs": [],
   "source": [
    "tests = [\n",
    "    ({'input_list': [3,2,1]}, [1,2,3]),\n",
    "    ({'input_list': []}, []),\n",
    "    ({'input_list': [1,2]}, [1,2]),\n",
    "    ({'input_list': [5,1,4,2,3]}, [1,2,3,4,5]),\n",
    "    ({'input_list': []}, []),\n",
    "]"
   ]
  },
  {
   "cell_type": "code",
   "execution_count": 35,
   "metadata": {
    "collapsed": false
   },
   "outputs": [
    {
     "name": "stdout",
     "output_type": "stream",
     "text": [
      "✓ All tests successful\n"
     ]
    }
   ],
   "source": [
    "run_tests(tests, insertion_sort)"
   ]
  }
 ],
 "metadata": {
  "anaconda-cloud": {},
  "kernelspec": {
   "display_name": "Python [conda root]",
   "language": "python",
   "name": "conda-root-py"
  },
  "language_info": {
   "codemirror_mode": {
    "name": "ipython",
    "version": 3
   },
   "file_extension": ".py",
   "mimetype": "text/x-python",
   "name": "python",
   "nbconvert_exporter": "python",
   "pygments_lexer": "ipython3",
   "version": "3.5.4"
  }
 },
 "nbformat": 4,
 "nbformat_minor": 2
}
