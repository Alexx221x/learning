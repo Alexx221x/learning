{
 "cells": [
  {
   "cell_type": "markdown",
   "metadata": {},
   "source": [
    "# n-hotels\n",
    "\n",
    "Problem 6.2 from Dasgupta et al. algorithms book"
   ]
  },
  {
   "cell_type": "code",
   "execution_count": 2,
   "metadata": {},
   "outputs": [],
   "source": [
    "from typing import List"
   ]
  },
  {
   "cell_type": "code",
   "execution_count": 46,
   "metadata": {},
   "outputs": [],
   "source": [
    "def n_hotels(a: List[float]) -> List[int]:\n",
    "    # b holds the best penalty for hotel i at b[i]\n",
    "    b = [0] * len(a)\n",
    "    b[0] = (200 - a[0]) ** 2\n",
    "    \n",
    "    # p holds the best previous hotel\n",
    "    p = [0] * len(a)\n",
    "    # -1 means there's no hotel before, we've jumped here from the start position\n",
    "    p[0] = -1\n",
    "    \n",
    "    for i in range(1, len(a)):\n",
    "        b[i], best_j = min([\n",
    "            (b[j] + (200 - (a[i] - a[j])) ** 2, j)\n",
    "            for j in range(i)\n",
    "        ])\n",
    "        p[i] = best_j\n",
    "        # can just jump here from start directly\n",
    "        if (200 - a[i]) ** 2 < b[i]:\n",
    "            b[i] = (200 - a[i]) ** 2\n",
    "            p[i] = -1\n",
    "        \n",
    "    tmp = p[-1]\n",
    "    path = [tmp]\n",
    "    while True:\n",
    "        tmp = p[tmp]\n",
    "        if tmp != -1:\n",
    "            path.append(tmp)\n",
    "        else:\n",
    "            break\n",
    "        \n",
    "    return path[::-1] + [len(a) - 1]"
   ]
  },
  {
   "cell_type": "code",
   "execution_count": 47,
   "metadata": {},
   "outputs": [],
   "source": [
    "assert n_hotels([200, 400, 600]) == [0, 1, 2]\n",
    "assert n_hotels([200, 300, 400]) == [0, 2]\n",
    "assert n_hotels([100, 200, 400]) == [1, 2]"
   ]
  }
 ],
 "metadata": {
  "kernelspec": {
   "display_name": "Python 3",
   "language": "python",
   "name": "python3"
  },
  "language_info": {
   "codemirror_mode": {
    "name": "ipython",
    "version": 3
   },
   "file_extension": ".py",
   "mimetype": "text/x-python",
   "name": "python",
   "nbconvert_exporter": "python",
   "pygments_lexer": "ipython3",
   "version": "3.7.2"
  }
 },
 "nbformat": 4,
 "nbformat_minor": 2
}
