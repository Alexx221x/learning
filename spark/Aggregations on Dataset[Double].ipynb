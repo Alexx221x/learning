{
 "cells": [
  {
   "cell_type": "markdown",
   "metadata": {},
   "source": [
    "# Aggregations on Dataset[Double]"
   ]
  },
  {
   "cell_type": "markdown",
   "metadata": {},
   "source": [
    "### Getting `spark` up and running"
   ]
  },
  {
   "cell_type": "code",
   "execution_count": 1,
   "metadata": {
    "collapsed": false
   },
   "outputs": [
    {
     "name": "stdout",
     "output_type": "stream",
     "text": [
      "143 new artifact(s)\n"
     ]
    },
    {
     "name": "stderr",
     "output_type": "stream",
     "text": [
      "143 new artifacts in macro\n",
      "143 new artifacts in runtime\n",
      "143 new artifacts in compile\n"
     ]
    },
    {
     "data": {
      "text/plain": []
     },
     "metadata": {},
     "output_type": "display_data"
    }
   ],
   "source": [
    "classpath.add(\n",
    "  \"org.apache.spark\" %% \"spark-core\" % \"2.0.2\",\n",
    "  \"org.apache.spark\" %% \"spark-sql\" % \"2.0.2\",\n",
    "  \"org.apache.spark\" %% \"spark-mllib\" % \"2.0.2\"\n",
    ");"
   ]
  },
  {
   "cell_type": "code",
   "execution_count": 2,
   "metadata": {
    "collapsed": false
   },
   "outputs": [
    {
     "data": {
      "text/plain": [
       "\u001b[32mimport \u001b[36morg.apache.spark.sql.{SparkSession, DataFrame, Dataset}\u001b[0m"
      ]
     },
     "metadata": {},
     "output_type": "display_data"
    }
   ],
   "source": [
    "import org.apache.spark.sql.{SparkSession, DataFrame, Dataset}"
   ]
  },
  {
   "cell_type": "code",
   "execution_count": 3,
   "metadata": {
    "collapsed": false
   },
   "outputs": [
    {
     "name": "stderr",
     "output_type": "stream",
     "text": [
      "Using Spark's default log4j profile: org/apache/spark/log4j-defaults.properties\n",
      "17/08/02 19:31:09 INFO SparkContext: Running Spark version 2.0.2\n",
      "17/08/02 19:31:09 WARN NativeCodeLoader: Unable to load native-hadoop library for your platform... using builtin-java classes where applicable\n",
      "17/08/02 19:31:09 INFO SecurityManager: Changing view acls to: amir.ziai\n",
      "17/08/02 19:31:09 INFO SecurityManager: Changing modify acls to: amir.ziai\n",
      "17/08/02 19:31:09 INFO SecurityManager: Changing view acls groups to: \n",
      "17/08/02 19:31:09 INFO SecurityManager: Changing modify acls groups to: \n",
      "17/08/02 19:31:09 INFO SecurityManager: SecurityManager: authentication disabled; ui acls disabled; users  with view permissions: Set(amir.ziai); groups with view permissions: Set(); users  with modify permissions: Set(amir.ziai); groups with modify permissions: Set()\n",
      "17/08/02 19:31:10 INFO Utils: Successfully started service 'sparkDriver' on port 53745.\n",
      "17/08/02 19:31:10 INFO SparkEnv: Registering MapOutputTracker\n",
      "17/08/02 19:31:10 INFO SparkEnv: Registering BlockManagerMaster\n",
      "17/08/02 19:31:10 INFO DiskBlockManager: Created local directory at /private/var/folders/8n/xtn3n2c50tbgtcr2pnh21dl4002rn2/T/blockmgr-aeda5d2f-1877-43a3-9573-9a869e29ed79\n",
      "17/08/02 19:31:10 INFO MemoryStore: MemoryStore started with capacity 2004.6 MB\n",
      "17/08/02 19:31:10 INFO SparkEnv: Registering OutputCommitCoordinator\n",
      "17/08/02 19:31:10 INFO Utils: Successfully started service 'SparkUI' on port 4040.\n",
      "17/08/02 19:31:10 INFO SparkUI: Bound SparkUI to 0.0.0.0, and started at http://172.16.26.65:4040\n",
      "17/08/02 19:31:10 INFO Executor: Starting executor ID driver on host localhost\n",
      "17/08/02 19:31:10 INFO Utils: Successfully started service 'org.apache.spark.network.netty.NettyBlockTransferService' on port 53746.\n",
      "17/08/02 19:31:10 INFO NettyBlockTransferService: Server created on 172.16.26.65:53746\n",
      "17/08/02 19:31:10 INFO BlockManagerMaster: Registering BlockManager BlockManagerId(driver, 172.16.26.65, 53746)\n",
      "17/08/02 19:31:10 INFO BlockManagerMasterEndpoint: Registering block manager 172.16.26.65:53746 with 2004.6 MB RAM, BlockManagerId(driver, 172.16.26.65, 53746)\n",
      "17/08/02 19:31:10 INFO BlockManagerMaster: Registered BlockManager BlockManagerId(driver, 172.16.26.65, 53746)\n",
      "17/08/02 19:31:10 WARN SparkContext: Use an existing SparkContext, some configuration may not take effect.\n",
      "17/08/02 19:31:10 INFO SharedState: Warehouse path is 'file:/Users/amir.ziai/Dropbox/jupyter/spark-warehouse'.\n"
     ]
    },
    {
     "data": {
      "text/plain": [
       "\u001b[36mspark\u001b[0m: \u001b[32mSparkSession\u001b[0m = org.apache.spark.sql.SparkSession@171264db"
      ]
     },
     "metadata": {},
     "output_type": "display_data"
    }
   ],
   "source": [
    "val spark = SparkSession.builder().master(\"local[*]\").getOrCreate()"
   ]
  },
  {
   "cell_type": "code",
   "execution_count": 4,
   "metadata": {
    "collapsed": false
   },
   "outputs": [
    {
     "data": {
      "text/plain": [
       "\u001b[32mimport \u001b[36mspark.implicits._\u001b[0m"
      ]
     },
     "metadata": {},
     "output_type": "display_data"
    }
   ],
   "source": [
    "import spark.implicits._"
   ]
  },
  {
   "cell_type": "markdown",
   "metadata": {},
   "source": [
    "### Creating a `Dataset[Double]`"
   ]
  },
  {
   "cell_type": "code",
   "execution_count": 6,
   "metadata": {
    "collapsed": false
   },
   "outputs": [
    {
     "data": {
      "text/plain": [
       "\u001b[36mdata\u001b[0m: \u001b[32mDataset\u001b[0m[\u001b[32mDouble\u001b[0m] = [value: double]"
      ]
     },
     "metadata": {},
     "output_type": "display_data"
    }
   ],
   "source": [
    "val data = spark.createDataset(Seq(1, 2, 3, 4, 5)).map(_.toDouble)"
   ]
  },
  {
   "cell_type": "markdown",
   "metadata": {},
   "source": [
    "Implicit aggregations exist on `RDD`s"
   ]
  },
  {
   "cell_type": "code",
   "execution_count": 7,
   "metadata": {
    "collapsed": false
   },
   "outputs": [
    {
     "data": {
      "text/plain": [
       "\u001b[36mres6\u001b[0m: \u001b[32mDouble\u001b[0m = \u001b[32m3.0\u001b[0m"
      ]
     },
     "metadata": {},
     "output_type": "display_data"
    }
   ],
   "source": [
    "data.rdd.mean()"
   ]
  },
  {
   "cell_type": "code",
   "execution_count": 8,
   "metadata": {
    "collapsed": false
   },
   "outputs": [
    {
     "data": {
      "text/plain": [
       "\u001b[36mres7\u001b[0m: \u001b[32mDouble\u001b[0m = \u001b[32m1.4142135623730951\u001b[0m"
      ]
     },
     "metadata": {},
     "output_type": "display_data"
    }
   ],
   "source": [
    "data.rdd.stdev()"
   ]
  },
  {
   "cell_type": "markdown",
   "metadata": {},
   "source": [
    "But not on `Dataset[Double]`"
   ]
  },
  {
   "cell_type": "code",
   "execution_count": 8,
   "metadata": {
    "collapsed": false
   },
   "outputs": [
    {
     "ename": "",
     "evalue": "",
     "output_type": "error",
     "traceback": [
      "\u001b[31mMain.scala:66: value mean is not a member of org.apache.spark.sql.Dataset[Double]",
      "data.mean()",
      "     ^\u001b[0m"
     ]
    }
   ],
   "source": [
    "data.mean()"
   ]
  },
  {
   "cell_type": "markdown",
   "metadata": {},
   "source": [
    "### Need to use `sql.functions`"
   ]
  },
  {
   "cell_type": "code",
   "execution_count": 14,
   "metadata": {
    "collapsed": false
   },
   "outputs": [
    {
     "data": {
      "text/plain": [
       "\u001b[32mimport \u001b[36morg.apache.spark.sql.Column\u001b[0m\n",
       "\u001b[32mimport \u001b[36morg.apache.spark.sql.functions.{mean, stddev, sum}\u001b[0m"
      ]
     },
     "metadata": {},
     "output_type": "display_data"
    }
   ],
   "source": [
    "import org.apache.spark.sql.Column\n",
    "import org.apache.spark.sql.functions.{mean, stddev, sum}"
   ]
  },
  {
   "cell_type": "markdown",
   "metadata": {},
   "source": [
    "Here's one way to to this directly with `Dataset`"
   ]
  },
  {
   "cell_type": "code",
   "execution_count": 15,
   "metadata": {
    "collapsed": false
   },
   "outputs": [
    {
     "data": {
      "text/plain": [
       "\u001b[36mres14\u001b[0m: \u001b[32mDouble\u001b[0m = \u001b[32m3.0\u001b[0m"
      ]
     },
     "metadata": {},
     "output_type": "display_data"
    }
   ],
   "source": [
    "data.agg(mean(data(\"value\"))).as[Double].collect().head"
   ]
  },
  {
   "cell_type": "markdown",
   "metadata": {},
   "source": [
    "Hideous, right? Let's make this a bit more generic"
   ]
  },
  {
   "cell_type": "code",
   "execution_count": 16,
   "metadata": {
    "collapsed": false
   },
   "outputs": [
    {
     "data": {
      "text/plain": [
       "defined \u001b[32mfunction \u001b[36mapplyFunctionToDatasetOfDouble\u001b[0m"
      ]
     },
     "metadata": {},
     "output_type": "display_data"
    }
   ],
   "source": [
    "def applyFunctionToDatasetOfDouble(data: Dataset[Double], function: (Column => Column)) = {\n",
    "    data.agg(function(data(\"value\"))).as[Double].collect().head\n",
    "}"
   ]
  },
  {
   "cell_type": "code",
   "execution_count": 17,
   "metadata": {
    "collapsed": false
   },
   "outputs": [
    {
     "data": {
      "text/plain": [
       "\u001b[36mres16\u001b[0m: \u001b[32mDouble\u001b[0m = \u001b[32m3.0\u001b[0m"
      ]
     },
     "metadata": {},
     "output_type": "display_data"
    }
   ],
   "source": [
    "applyFunctionToDatasetOfDouble(data, mean)"
   ]
  },
  {
   "cell_type": "markdown",
   "metadata": {},
   "source": [
    "Apparently stddev in `sql.functions` implements sample standard deviation, unlike the `RDD` case"
   ]
  },
  {
   "cell_type": "code",
   "execution_count": 19,
   "metadata": {
    "collapsed": false
   },
   "outputs": [
    {
     "data": {
      "text/plain": [
       "\u001b[36mres18\u001b[0m: \u001b[32mDouble\u001b[0m = \u001b[32m1.5811388300841898\u001b[0m"
      ]
     },
     "metadata": {},
     "output_type": "display_data"
    }
   ],
   "source": [
    "applyFunctionToDatasetOfDouble(data, stddev)"
   ]
  },
  {
   "cell_type": "markdown",
   "metadata": {},
   "source": [
    "Is this worth it? Is the conversion from `Dataset` to `RDD` expensive?"
   ]
  }
 ],
 "metadata": {
  "kernelspec": {
   "display_name": "Scala 2.11",
   "language": "scala211",
   "name": "scala211"
  },
  "language_info": {
   "codemirror_mode": "text/x-scala",
   "file_extension": ".scala",
   "mimetype": "text/x-scala",
   "name": "scala211",
   "pygments_lexer": "scala",
   "version": "2.11.8"
  }
 },
 "nbformat": 4,
 "nbformat_minor": 2
}
