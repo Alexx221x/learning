{
 "cells": [
  {
   "cell_type": "markdown",
   "metadata": {},
   "source": [
    "# Metropolis Hastings"
   ]
  },
  {
   "cell_type": "markdown",
   "metadata": {},
   "source": [
    "Taken from [CS228](https://cs.stanford.edu/~ermon/cs228/index.html)"
   ]
  },
  {
   "cell_type": "code",
   "execution_count": 3,
   "metadata": {},
   "outputs": [],
   "source": [
    "%matplotlib inline"
   ]
  },
  {
   "cell_type": "code",
   "execution_count": 4,
   "metadata": {},
   "outputs": [],
   "source": [
    "import numpy as np\n",
    "import matplotlib.pyplot as plt\n",
    "\n",
    "from scipy.stats import gamma"
   ]
  },
  {
   "cell_type": "code",
   "execution_count": 17,
   "metadata": {},
   "outputs": [],
   "source": [
    "def metropolis_hastings(p, q, q_draw, num_samples, x_init):\n",
    "    samples = []\n",
    "    x_prev = x_init\n",
    "    \n",
    "    for i in range(num_samples):\n",
    "        # 1. pdf ratio\n",
    "        # 2. proposal ratio\n",
    "        # 3. 1 + 2 -> acceptabnce ratio\n",
    "        x_star = q_draw(x_prev)\n",
    "        pdf_ratio = p(x_star) / p(x_prev)\n",
    "        proposal_ratio = q(x_prev, x_star) / q(x_star, x_prev)\n",
    "        acceptance_prob = min(1, pdf_ratio * proposal_ratio)\n",
    "        \n",
    "        # draw\n",
    "        u = np.random.uniform()\n",
    "        \n",
    "        # accept or reject\n",
    "        if u < acceptance_prob:\n",
    "            x_prev = x_star\n",
    "            samples.append(x_star)\n",
    "        else:\n",
    "            samples.append(x_prev)\n",
    "        \n",
    "    return samples, x_prev"
   ]
  },
  {
   "cell_type": "code",
   "execution_count": 22,
   "metadata": {},
   "outputs": [
    {
     "data": {
      "image/png": "[encoded data removed]",
      "text/plain": [
       "<matplotlib.figure.Figure at 0x11058fa20>"
      ]
     },
     "metadata": {},
     "output_type": "display_data"
    }
   ],
   "source": [
    "p = lambda x: 0.554 * x * np.exp(-(x / 1.9) ** 2)\n",
    "x = np.linspace(0, 10, 100)\n",
    "_ = plt.plot(x, p(x), 'r')"
   ]
  },
  {
   "cell_type": "code",
   "execution_count": 23,
   "metadata": {},
   "outputs": [],
   "source": [
    "t = 10.0\n",
    "\n",
    "def q(x_new, x_old):\n",
    "    return gamma.pdf(x_new, x_old * t, scale=1 / t)\n",
    "\n",
    "def q_draw(x_old):\n",
    "    return gamma.rvs(x_old * t, scale=1 / t)"
   ]
  },
  {
   "cell_type": "code",
   "execution_count": 24,
   "metadata": {},
   "outputs": [],
   "source": [
    "num_samples = 10000\n",
    "\n",
    "x_init = np.random.uniform()\n",
    "_, x_n = metropolis_hastings(p, q, q_draw, num_samples, x_init)\n",
    "\n",
    "samples, _ = metropolis_hastings(p, q, q_draw, num_samples, x_n)"
   ]
  },
  {
   "cell_type": "code",
   "execution_count": 33,
   "metadata": {},
   "outputs": [
    {
     "data": {
      "text/plain": [
       "[<matplotlib.lines.Line2D at 0x1115b2b70>]"
      ]
     },
     "execution_count": 33,
     "metadata": {},
     "output_type": "execute_result"
    },
    {
     "data": {
      "image/png": "[encoded data removed]",
      "text/plain": [
       "<matplotlib.figure.Figure at 0x1115b2c50>"
      ]
     },
     "metadata": {},
     "output_type": "display_data"
    }
   ],
   "source": [
    "plt.hist(samples, bins=100, normed=True, alpha=0.4);\n",
    "plt.plot(x, p(x), 'r')"
   ]
  },
  {
   "cell_type": "code",
   "execution_count": null,
   "metadata": {},
   "outputs": [],
   "source": []
  }
 ],
 "metadata": {
  "anaconda-cloud": {},
  "kernelspec": {
   "display_name": "Python [default]",
   "language": "python",
   "name": "python3"
  },
  "language_info": {
   "codemirror_mode": {
    "name": "ipython",
    "version": 3
   },
   "file_extension": ".py",
   "mimetype": "text/x-python",
   "name": "python",
   "nbconvert_exporter": "python",
   "pygments_lexer": "ipython3",
   "version": "3.5.4"
  }
 },
 "nbformat": 4,
 "nbformat_minor": 2
}
