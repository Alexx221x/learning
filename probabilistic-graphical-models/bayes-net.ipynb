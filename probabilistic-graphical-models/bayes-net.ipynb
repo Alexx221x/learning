{
 "cells": [
  {
   "cell_type": "code",
   "execution_count": 1,
   "metadata": {},
   "outputs": [],
   "source": [
    "import numpy as np\n",
    "import pandas as pd\n",
    "from itertools import product\n",
    "from functools import reduce"
   ]
  },
  {
   "cell_type": "code",
   "execution_count": 2,
   "metadata": {},
   "outputs": [],
   "source": [
    "variables = {\n",
    "    'I': ['h', 'vh'],\n",
    "    'G': ['A', 'B'],\n",
    "    'GPA': ['[0,3)', '[3,3.5)', '[3.5,4.0]']\n",
    "}"
   ]
  },
  {
   "cell_type": "code",
   "execution_count": 3,
   "metadata": {},
   "outputs": [
    {
     "data": {
      "text/html": [
       "<div>\n",
       "<style scoped>\n",
       "    .dataframe tbody tr th:only-of-type {\n",
       "        vertical-align: middle;\n",
       "    }\n",
       "\n",
       "    .dataframe tbody tr th {\n",
       "        vertical-align: top;\n",
       "    }\n",
       "\n",
       "    .dataframe thead th {\n",
       "        text-align: right;\n",
       "    }\n",
       "</style>\n",
       "<table border=\"1\" class=\"dataframe\">\n",
       "  <thead>\n",
       "    <tr style=\"text-align: right;\">\n",
       "      <th></th>\n",
       "      <th>G</th>\n",
       "      <th>GPA</th>\n",
       "      <th>I</th>\n",
       "      <th>prob</th>\n",
       "    </tr>\n",
       "  </thead>\n",
       "  <tbody>\n",
       "    <tr>\n",
       "      <th>0</th>\n",
       "      <td>A</td>\n",
       "      <td>[0,3)</td>\n",
       "      <td>h</td>\n",
       "      <td>0.035714</td>\n",
       "    </tr>\n",
       "    <tr>\n",
       "      <th>1</th>\n",
       "      <td>B</td>\n",
       "      <td>[0,3)</td>\n",
       "      <td>h</td>\n",
       "      <td>0.125000</td>\n",
       "    </tr>\n",
       "    <tr>\n",
       "      <th>2</th>\n",
       "      <td>A</td>\n",
       "      <td>[3,3.5)</td>\n",
       "      <td>h</td>\n",
       "      <td>0.071429</td>\n",
       "    </tr>\n",
       "    <tr>\n",
       "      <th>3</th>\n",
       "      <td>B</td>\n",
       "      <td>[3,3.5)</td>\n",
       "      <td>h</td>\n",
       "      <td>0.053571</td>\n",
       "    </tr>\n",
       "    <tr>\n",
       "      <th>4</th>\n",
       "      <td>A</td>\n",
       "      <td>[3.5,4.0]</td>\n",
       "      <td>h</td>\n",
       "      <td>0.071429</td>\n",
       "    </tr>\n",
       "    <tr>\n",
       "      <th>5</th>\n",
       "      <td>B</td>\n",
       "      <td>[3.5,4.0]</td>\n",
       "      <td>h</td>\n",
       "      <td>0.017857</td>\n",
       "    </tr>\n",
       "    <tr>\n",
       "      <th>6</th>\n",
       "      <td>A</td>\n",
       "      <td>[0,3)</td>\n",
       "      <td>vh</td>\n",
       "      <td>0.125000</td>\n",
       "    </tr>\n",
       "    <tr>\n",
       "      <th>7</th>\n",
       "      <td>B</td>\n",
       "      <td>[0,3)</td>\n",
       "      <td>vh</td>\n",
       "      <td>0.160714</td>\n",
       "    </tr>\n",
       "    <tr>\n",
       "      <th>8</th>\n",
       "      <td>A</td>\n",
       "      <td>[3,3.5)</td>\n",
       "      <td>vh</td>\n",
       "      <td>0.160714</td>\n",
       "    </tr>\n",
       "    <tr>\n",
       "      <th>9</th>\n",
       "      <td>B</td>\n",
       "      <td>[3,3.5)</td>\n",
       "      <td>vh</td>\n",
       "      <td>0.125000</td>\n",
       "    </tr>\n",
       "    <tr>\n",
       "      <th>10</th>\n",
       "      <td>A</td>\n",
       "      <td>[3.5,4.0]</td>\n",
       "      <td>vh</td>\n",
       "      <td>0.017857</td>\n",
       "    </tr>\n",
       "    <tr>\n",
       "      <th>11</th>\n",
       "      <td>B</td>\n",
       "      <td>[3.5,4.0]</td>\n",
       "      <td>vh</td>\n",
       "      <td>0.035714</td>\n",
       "    </tr>\n",
       "  </tbody>\n",
       "</table>\n",
       "</div>"
      ],
      "text/plain": [
       "    G        GPA   I      prob\n",
       "0   A      [0,3)   h  0.035714\n",
       "1   B      [0,3)   h  0.125000\n",
       "2   A    [3,3.5)   h  0.071429\n",
       "3   B    [3,3.5)   h  0.053571\n",
       "4   A  [3.5,4.0]   h  0.071429\n",
       "5   B  [3.5,4.0]   h  0.017857\n",
       "6   A      [0,3)  vh  0.125000\n",
       "7   B      [0,3)  vh  0.160714\n",
       "8   A    [3,3.5)  vh  0.160714\n",
       "9   B    [3,3.5)  vh  0.125000\n",
       "10  A  [3.5,4.0]  vh  0.017857\n",
       "11  B  [3.5,4.0]  vh  0.035714"
      ]
     },
     "execution_count": 3,
     "metadata": {},
     "output_type": "execute_result"
    }
   ],
   "source": [
    "df = pd.DataFrame([\n",
    "    dict(zip(variables.keys(), values))\n",
    "    for values in product(*variables.values())\n",
    "])\n",
    "df['prob'] = np.random.randint(1, 10, len(df))\n",
    "df['prob'] /= df['prob'].sum()\n",
    "df"
   ]
  },
  {
   "cell_type": "code",
   "execution_count": 4,
   "metadata": {},
   "outputs": [],
   "source": [
    "def joint_probability(df, y, xs):\n",
    "    df_y = df[df['G'] == y]\n",
    "    p_y = df_y['prob'].sum()\n",
    "        \n",
    "    df_ = df_y\n",
    "    l = []\n",
    "    for col in xs:\n",
    "        df_ = df_[df_[col] == xs[col]]\n",
    "        p = df_['prob'].sum()\n",
    "        l.append(p)\n",
    "    \n",
    "    return p_y * reduce(lambda x, y: x * y, l)\n",
    "\n",
    "def joint_probability_with_cond_ind(df, y, xs):\n",
    "    df_y = df[df['G'] == y]\n",
    "    p_y = df_y['prob'].sum()\n",
    "    \n",
    "    l = [\n",
    "        df_y[df_y[col] == xs[col]]['prob'].sum()\n",
    "        for col in xs\n",
    "    ]\n",
    "    \n",
    "    return p_y * reduce(lambda x, y: x * y, l)\n",
    "\n",
    "def naive_bayes(df, y, xs):\n",
    "    df_y = df[df['G'] == y]\n",
    "    p_y = df_y['prob'].sum()\n",
    "    \n",
    "    l = [\n",
    "        df_y[df_y[col] == xs[col]]['prob'].sum()\n",
    "        for col in xs\n",
    "    ]\n",
    "    \n",
    "    num = p_y * reduce(lambda x, y: x * y, l)\n",
    "    den = sum([\n",
    "        reduce(lambda x, y: x * y, [\n",
    "            df[(df['G'] == y_val) & (df[col] == xs[col])]['prob'].sum()\n",
    "            for col in xs\n",
    "        ])\n",
    "        for y_val in df['G'].unique()\n",
    "    ])\n",
    "    \n",
    "    return num / den"
   ]
  },
  {
   "cell_type": "markdown",
   "metadata": {},
   "source": [
    "### Joint distribution\n",
    "$$p(Y, X_1, ..., X_N)=p(Y)p(X_1|Y)\\prod_{i=2}^{n}(X_i|X_1, ..., X_{i-1}, y)$$"
   ]
  },
  {
   "cell_type": "code",
   "execution_count": 5,
   "metadata": {},
   "outputs": [
    {
     "data": {
      "text/plain": [
       "0.0026136570699708452"
      ]
     },
     "execution_count": 5,
     "metadata": {},
     "output_type": "execute_result"
    }
   ],
   "source": [
    "joint_probability(df, 'A', {'GPA': '[3.5,4.0]', 'I': 'vh'})"
   ]
  },
  {
   "cell_type": "code",
   "execution_count": 6,
   "metadata": {},
   "outputs": [
    {
     "data": {
      "text/plain": [
       "0.0061497813411078702"
      ]
     },
     "execution_count": 6,
     "metadata": {},
     "output_type": "execute_result"
    }
   ],
   "source": [
    "joint_probability(df, 'A', {'GPA': '[3.5,4.0]', 'I': 'h'})"
   ]
  },
  {
   "cell_type": "code",
   "execution_count": 7,
   "metadata": {},
   "outputs": [
    {
     "data": {
      "text/plain": [
       "0.0061497813411078702"
      ]
     },
     "execution_count": 7,
     "metadata": {},
     "output_type": "execute_result"
    }
   ],
   "source": [
    "joint_probability(df, 'A', {'GPA': '[3,3.5)', 'I': 'h'})"
   ]
  },
  {
   "cell_type": "code",
   "execution_count": 8,
   "metadata": {},
   "outputs": [
    {
     "data": {
      "text/plain": [
       "0.023522913629737612"
      ]
     },
     "execution_count": 8,
     "metadata": {},
     "output_type": "execute_result"
    }
   ],
   "source": [
    "joint_probability(df, 'A', {'GPA': '[3,3.5)', 'I': 'vh'})"
   ]
  },
  {
   "cell_type": "markdown",
   "metadata": {},
   "source": [
    "### With conditional independence\n",
    "$X_1, ..., X_n$ conditionally independent given $Y$\n",
    "\n",
    "$$p(Y, X_1, ..., X_N)=p(Y)\\prod_{i=1}^{n}(X_i|Y)$$\n",
    "\n",
    "Need `2n + 1` parameters: 1 for `Y~Ber(p)` and 2 for each variable because there are two possible values of `Y`"
   ]
  },
  {
   "cell_type": "code",
   "execution_count": 9,
   "metadata": {},
   "outputs": [
    {
     "data": {
      "text/plain": [
       "0.013068285349854226"
      ]
     },
     "execution_count": 9,
     "metadata": {},
     "output_type": "execute_result"
    }
   ],
   "source": [
    "joint_probability_with_cond_ind(df, 'A', {'GPA': '[3.5,4.0]', 'I': 'vh'})"
   ]
  },
  {
   "cell_type": "code",
   "execution_count": 10,
   "metadata": {},
   "outputs": [
    {
     "data": {
      "text/plain": [
       "0.007687226676384838"
      ]
     },
     "execution_count": 10,
     "metadata": {},
     "output_type": "execute_result"
    }
   ],
   "source": [
    "joint_probability_with_cond_ind(df, 'A', {'GPA': '[3.5,4.0]', 'I': 'h'})"
   ]
  },
  {
   "cell_type": "markdown",
   "metadata": {},
   "source": [
    "### Naive Bayes"
   ]
  },
  {
   "cell_type": "code",
   "execution_count": 11,
   "metadata": {},
   "outputs": [
    {
     "data": {
      "text/plain": [
       "0.2948355601233299"
      ]
     },
     "execution_count": 11,
     "metadata": {},
     "output_type": "execute_result"
    }
   ],
   "source": [
    "naive_bayes(df, 'A', {'GPA': '[3.5,4.0]', 'I': 'vh'})"
   ]
  },
  {
   "cell_type": "code",
   "execution_count": 12,
   "metadata": {},
   "outputs": [
    {
     "data": {
      "text/plain": [
       "0.20118191161356627"
      ]
     },
     "execution_count": 12,
     "metadata": {},
     "output_type": "execute_result"
    }
   ],
   "source": [
    "naive_bayes(df, 'B', {'GPA': '[3.5,4.0]', 'I': 'vh'})"
   ]
  },
  {
   "cell_type": "code",
   "execution_count": 13,
   "metadata": {},
   "outputs": [
    {
     "data": {
      "text/plain": [
       "0.29044750430292593"
      ]
     },
     "execution_count": 13,
     "metadata": {},
     "output_type": "execute_result"
    }
   ],
   "source": [
    "naive_bayes(df, 'A', {'GPA': '[3.5,4.0]', 'I': 'h'})"
   ]
  },
  {
   "cell_type": "code",
   "execution_count": 14,
   "metadata": {},
   "outputs": [
    {
     "data": {
      "text/plain": [
       "0.205895008605852"
      ]
     },
     "execution_count": 14,
     "metadata": {},
     "output_type": "execute_result"
    }
   ],
   "source": [
    "naive_bayes(df, 'B', {'GPA': '[3.5,4.0]', 'I': 'h'})"
   ]
  },
  {
   "cell_type": "code",
   "execution_count": 15,
   "metadata": {},
   "outputs": [
    {
     "data": {
      "text/plain": [
       "0.16313104189044036"
      ]
     },
     "execution_count": 15,
     "metadata": {},
     "output_type": "execute_result"
    }
   ],
   "source": [
    "naive_bayes(df, 'A', {'GPA': '[0,3)', 'I': 'h'})"
   ]
  },
  {
   "cell_type": "code",
   "execution_count": 16,
   "metadata": {},
   "outputs": [
    {
     "data": {
      "text/plain": [
       "0.34264232008592915"
      ]
     },
     "execution_count": 16,
     "metadata": {},
     "output_type": "execute_result"
    }
   ],
   "source": [
    "naive_bayes(df, 'B', {'GPA': '[0,3)', 'I': 'h'})"
   ]
  },
  {
   "cell_type": "code",
   "execution_count": null,
   "metadata": {},
   "outputs": [],
   "source": []
  }
 ],
 "metadata": {
  "anaconda-cloud": {},
  "kernelspec": {
   "display_name": "Python [default]",
   "language": "python",
   "name": "python3"
  },
  "language_info": {
   "codemirror_mode": {
    "name": "ipython",
    "version": 3
   },
   "file_extension": ".py",
   "mimetype": "text/x-python",
   "name": "python",
   "nbconvert_exporter": "python",
   "pygments_lexer": "ipython3",
   "version": "3.5.4"
  }
 },
 "nbformat": 4,
 "nbformat_minor": 2
}
