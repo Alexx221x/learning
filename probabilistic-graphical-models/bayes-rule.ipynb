{
 "cells": [
  {
   "cell_type": "code",
   "execution_count": 3,
   "metadata": {},
   "outputs": [
    {
     "data": {
      "text/plain": [
       "0.009803921568627442"
      ]
     },
     "execution_count": 3,
     "metadata": {},
     "output_type": "execute_result"
    }
   ],
   "source": [
    "p_pos_given_dis = 0.99\n",
    "p_pos_given_dis_not = 1 - p_pos_given_dis\n",
    "p_neg_given_dis = 0.99\n",
    "\n",
    "p_dis = 1 / 10000\n",
    "p_dis_not = 1 - p_dis\n",
    "\n",
    "p_pos = p_pos_given_dis * p_dis + p_pos_given_dis_not * p_dis_not\n",
    "\n",
    "p_dis * p_pos_given_dis / p_pos"
   ]
  },
  {
   "cell_type": "code",
   "execution_count": null,
   "metadata": {},
   "outputs": [],
   "source": []
  }
 ],
 "metadata": {
  "anaconda-cloud": {},
  "kernelspec": {
   "display_name": "Python [default]",
   "language": "python",
   "name": "python3"
  },
  "language_info": {
   "codemirror_mode": {
    "name": "ipython",
    "version": 3
   },
   "file_extension": ".py",
   "mimetype": "text/x-python",
   "name": "python",
   "nbconvert_exporter": "python",
   "pygments_lexer": "ipython3",
   "version": "3.5.4"
  }
 },
 "nbformat": 4,
 "nbformat_minor": 2
}
