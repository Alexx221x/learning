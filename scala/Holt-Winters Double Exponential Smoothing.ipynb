{
 "cells": [
  {
   "cell_type": "markdown",
   "metadata": {},
   "source": [
    "# Holt-Winters Double Exponential Smoothing"
   ]
  },
  {
   "cell_type": "markdown",
   "metadata": {},
   "source": [
    "https://labs.omniti.com/people/jesus/papers/holtwinters.pdf"
   ]
  },
  {
   "cell_type": "code",
   "execution_count": 9,
   "metadata": {
    "collapsed": false
   },
   "outputs": [
    {
     "data": {
      "text/plain": [
       "defined \u001b[32mfunction \u001b[36mholt\u001b[0m"
      ]
     },
     "metadata": {},
     "output_type": "display_data"
    }
   ],
   "source": [
    "def holt(timeSeries: Array[Double], alpha: Double, beta: Double): Array[Double] = {\n",
    "    val initialLevel = timeSeries(0)\n",
    "    val initialTrend = timeSeries(1) - timeSeries(0)\n",
    "    val forecastedLevelAndTrends = timeSeries.scanLeft((initialLevel, initialTrend)) {\n",
    "      case ((prevLevel, prevTrend), value) =>\n",
    "        // Clamping the level at 0\n",
    "        val level = Math.max(0.0, alpha * value + (1 - alpha) * (prevLevel + prevTrend))\n",
    "        val trend = beta * (level - prevLevel) + (1 - beta) * prevTrend\n",
    "        (level, trend)\n",
    "    }\n",
    "    val forecasted = forecastedLevelAndTrends.map { case(level, trend) => level + trend}\n",
    "    // Discarding the first forecast and prepending the initial time series value\n",
    "    initialLevel +: forecasted.tail\n",
    "}"
   ]
  },
  {
   "cell_type": "code",
   "execution_count": 10,
   "metadata": {
    "collapsed": false
   },
   "outputs": [
    {
     "data": {
      "text/plain": [
       "\u001b[36mtimeSeries\u001b[0m: \u001b[32mArray\u001b[0m[\u001b[32mDouble\u001b[0m] = \u001b[33mArray\u001b[0m(\u001b[32m1.0\u001b[0m, \u001b[32m2.0\u001b[0m, \u001b[32m3.0\u001b[0m, \u001b[32m4.0\u001b[0m, \u001b[32m5.0\u001b[0m)"
      ]
     },
     "metadata": {},
     "output_type": "display_data"
    }
   ],
   "source": [
    "val timeSeries = Array(1, 2, 3, 4, 5).map(_.toDouble)"
   ]
  },
  {
   "cell_type": "code",
   "execution_count": 12,
   "metadata": {
    "collapsed": false
   },
   "outputs": [
    {
     "data": {
      "text/plain": [
       "\u001b[36mres11\u001b[0m: \u001b[32mArray\u001b[0m[\u001b[32mDouble\u001b[0m] = \u001b[33mArray\u001b[0m(\u001b[32m1.0\u001b[0m, \u001b[32m2.25\u001b[0m, \u001b[32m2.8125\u001b[0m, \u001b[32m3.640625\u001b[0m, \u001b[32m4.64453125\u001b[0m, \u001b[32m5.7353515625\u001b[0m)"
      ]
     },
     "metadata": {},
     "output_type": "display_data"
    }
   ],
   "source": [
    "holt(timeSeries, 0.5, 0.5)"
   ]
  },
  {
   "cell_type": "markdown",
   "metadata": {},
   "source": [
    "This doesn't appear to be a very good fit. We have to tune the `alpha` and `beta` parameters."
   ]
  },
  {
   "cell_type": "markdown",
   "metadata": {},
   "source": [
    "### Error"
   ]
  },
  {
   "cell_type": "markdown",
   "metadata": {},
   "source": [
    "But before we do that we have to define what \"good\" means. To that end I'll use `Mean Absolute Percentage Error (MAPE)` which we want to minimize:"
   ]
  },
  {
   "cell_type": "code",
   "execution_count": 13,
   "metadata": {
    "collapsed": false
   },
   "outputs": [
    {
     "data": {
      "text/plain": [
       "defined \u001b[32mfunction \u001b[36mmeanAbsolutePercentageError\u001b[0m"
      ]
     },
     "metadata": {},
     "output_type": "display_data"
    }
   ],
   "source": [
    "def meanAbsolutePercentageError(actualAndForecasted: Array[(Double, Double)], zeroThreshold: Double = 0.5): Double = {\n",
    "    actualAndForecasted.map { case(actual, forecast) =>\n",
    "      if (actual < zeroThreshold)\n",
    "        // An actual value of 0 gets 0% error if the forecasted view is 0 and 100% otherwise\n",
    "        if (forecast < zeroThreshold) 0 else 1\n",
    "      else\n",
    "        Math.abs(forecast / actual - 1)\n",
    "    }.sum / actualAndForecasted.length\n",
    "}"
   ]
  },
  {
   "cell_type": "markdown",
   "metadata": {},
   "source": [
    "Now having defined the error metric let's search the space of `alpha` and `beta`. Both of these range between 0 and 1."
   ]
  },
  {
   "cell_type": "code",
   "execution_count": 15,
   "metadata": {
    "collapsed": false
   },
   "outputs": [
    {
     "data": {
      "text/plain": [
       "defined \u001b[32mfunction \u001b[36mholtGridSearch\u001b[0m"
      ]
     },
     "metadata": {},
     "output_type": "display_data"
    }
   ],
   "source": [
    "def holtGridSearch(\n",
    "    timeSeries: Array[Double],\n",
    "    alphaMax: Double = 1.0,\n",
    "    betaMax: Double = 0.8,\n",
    "    ticks: Int = 5,\n",
    "    searchDepth: Int = 3,\n",
    "    alphaInitial: Double = 0.5,\n",
    "    betaInitial: Double = 0.5): Double = {\n",
    "    case class CostAndForecast(cost: Double, forecast: Double)\n",
    "\n",
    "    def compare(timeSeries: Array[Double], alpha: Double, beta: Double) = {\n",
    "      val holtFitPlusForecast = holt(timeSeries, alpha, beta)\n",
    "      val holtFit = holtFitPlusForecast.slice(0, timeSeries.length)\n",
    "      CostAndForecast(meanAbsolutePercentageError(timeSeries.zip(holtFit)), holtFitPlusForecast.last)\n",
    "    }\n",
    "\n",
    "    def search(alphaStart: Double, alphaEnd: Double, betaStart: Double, betaEnd: Double, increment: Double) = {\n",
    "      // Search the grid\n",
    "      val grid = for {\n",
    "        alpha <- alphaStart to alphaEnd by increment\n",
    "        beta <- betaStart to betaEnd by increment\n",
    "        if alpha >= 0 && alpha <=alphaMax && beta >= 0 && beta <= betaMax\n",
    "      } yield (compare(timeSeries, alpha, beta), alpha, beta)\n",
    "\n",
    "      // Return the lowest cost forecast\n",
    "      grid.minBy(_._1.cost)\n",
    "    }\n",
    "\n",
    "    val (_, _, forecast) = (1 to searchDepth).foldLeft((alphaInitial, betaInitial, 0.0))\n",
    "    { case ((alphaPrevious, betaPrevious, _), depth) =>\n",
    "      // Using resolution = Math.pow(0.1, depth) was leading to slight variations in the grid that broke some unit tests\n",
    "      val resolution = s\"1e-$depth\".toDouble\n",
    "      val range = ticks * resolution\n",
    "      val alphaStart = alphaPrevious - range\n",
    "      val alphaEnd = alphaPrevious + range\n",
    "      val betaStart = betaPrevious - range\n",
    "      val betaEnd = betaPrevious + range\n",
    "      val (costAndForecast, alpha, beta) = search(alphaStart, alphaEnd, betaStart, betaEnd, resolution)\n",
    "      (alpha, beta, costAndForecast.forecast)\n",
    "    }\n",
    "    forecast\n",
    "}"
   ]
  },
  {
   "cell_type": "code",
   "execution_count": 16,
   "metadata": {
    "collapsed": false
   },
   "outputs": [
    {
     "data": {
      "text/plain": [
       "\u001b[36mres15\u001b[0m: \u001b[32mDouble\u001b[0m = \u001b[32m6.0\u001b[0m"
      ]
     },
     "metadata": {},
     "output_type": "display_data"
    }
   ],
   "source": [
    "holtGridSearch(timeSeries)"
   ]
  },
  {
   "cell_type": "code",
   "execution_count": null,
   "metadata": {
    "collapsed": true
   },
   "outputs": [],
   "source": [
    "Now that looks better."
   ]
  }
 ],
 "metadata": {
  "anaconda-cloud": {},
  "kernelspec": {
   "display_name": "Scala 2.11",
   "language": "scala211",
   "name": "scala211"
  },
  "language_info": {
   "codemirror_mode": "text/x-scala",
   "file_extension": ".scala",
   "mimetype": "text/x-scala",
   "name": "scala211",
   "pygments_lexer": "scala",
   "version": "2.11.8"
  }
 },
 "nbformat": 4,
 "nbformat_minor": 2
}
