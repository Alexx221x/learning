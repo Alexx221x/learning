{
 "cells": [
  {
   "cell_type": "markdown",
   "metadata": {},
   "source": [
    "# Simpler case "
   ]
  },
  {
   "cell_type": "code",
   "execution_count": 167,
   "metadata": {
    "collapsed": false
   },
   "outputs": [
    {
     "data": {
      "text/plain": [
       "defined \u001b[32mfunction \u001b[36mbracketBalancingSimpler\u001b[0m"
      ]
     },
     "metadata": {},
     "output_type": "display_data"
    }
   ],
   "source": [
    "def bracketBalancingSimpler(string: String): Boolean =  {\n",
    "    def bracket(s: String, openCount: Int): Boolean = {\n",
    "        if (s.isEmpty)\n",
    "            openCount == 0\n",
    "        else if (s.head == ')')\n",
    "            bracket(s.tail, openCount + 1)\n",
    "        else if (s.head == '(')\n",
    "            bracket(s.tail, openCount - 1)\n",
    "        else\n",
    "            bracket(s.tail, openCount)\n",
    "    }\n",
    "\n",
    "    bracket(string, 0)\n",
    "}"
   ]
  },
  {
   "cell_type": "code",
   "execution_count": 172,
   "metadata": {
    "collapsed": false
   },
   "outputs": [
    {
     "data": {
      "text/plain": [
       "\u001b[36mtestCases\u001b[0m: \u001b[32mMap\u001b[0m[\u001b[32mString\u001b[0m, \u001b[32mBoolean\u001b[0m] = \u001b[33mMap\u001b[0m(\n",
       "  \u001b[32m\"a()b(())cc()d\"\u001b[0m -> \u001b[32mtrue\u001b[0m,\n",
       "  \u001b[32m\"a(())\"\u001b[0m -> \u001b[32mtrue\u001b[0m,\n",
       "  \u001b[32m\"a()\"\u001b[0m -> \u001b[32mtrue\u001b[0m,\n",
       "  \u001b[32m\"a()b(())c()\"\u001b[0m -> \u001b[32mtrue\u001b[0m,\n",
       "  \u001b[32m\"a(\"\u001b[0m -> \u001b[32mfalse\u001b[0m\n",
       ")"
      ]
     },
     "metadata": {},
     "output_type": "display_data"
    }
   ],
   "source": [
    "val testCases = Map(\n",
    "    \"a(\" -> false,\n",
    "    \"a()b(())cc()d\" -> true,\n",
    "    \"a()\" -> true,\n",
    "    \"a(())\" -> true,\n",
    "    \"a()b(())c()\" -> true\n",
    ")\n",
    "\n",
    "testCases.foreach { case(test, expected) =>\n",
    "    assert(bracketBalancingSimpler(test) == expected)\n",
    "}"
   ]
  },
  {
   "cell_type": "markdown",
   "metadata": {},
   "source": [
    "# General case"
   ]
  },
  {
   "cell_type": "code",
   "execution_count": 169,
   "metadata": {
    "collapsed": false
   },
   "outputs": [
    {
     "data": {
      "text/plain": [
       "\u001b[32mimport \u001b[36mscala.collection.immutable.Stack\u001b[0m\n",
       "defined \u001b[32mfunction \u001b[36mbracketBalancing\u001b[0m"
      ]
     },
     "metadata": {},
     "output_type": "display_data"
    }
   ],
   "source": [
    "import scala.collection.immutable.Stack\n",
    "\n",
    "def bracketBalancing(string: String): Boolean = {\n",
    "    val brackets = Map(')' -> '(', '}' -> '{', ']' -> '[')\n",
    "    \n",
    "    def bracket(s: String, stack: Stack[Char]): Boolean = {\n",
    "        if (s.isEmpty)\n",
    "            stack.isEmpty\n",
    "        else if (brackets.values.toVector.contains(s.head))\n",
    "            bracket(s.tail, stack.push(s.head))\n",
    "        else if (brackets.keys.toVector.contains(s.head)) {\n",
    "            if (!stack.isEmpty && stack.head == brackets(s.head))\n",
    "                bracket(s.tail, stack.pop)\n",
    "            else\n",
    "                false\n",
    "        }\n",
    "        else\n",
    "            bracket(s.tail, stack)\n",
    "    }\n",
    "\n",
    "    bracket(string, Stack())\n",
    "}"
   ]
  },
  {
   "cell_type": "code",
   "execution_count": 171,
   "metadata": {
    "collapsed": false
   },
   "outputs": [
    {
     "data": {
      "text/plain": [
       "\u001b[36mtestCases\u001b[0m: \u001b[32mMap\u001b[0m[\u001b[32mString\u001b[0m, \u001b[32mBoolean\u001b[0m] = \u001b[33mMap\u001b[0m(\n",
       "  \u001b[32m\"[[]]}\"\u001b[0m -> \u001b[32mfalse\u001b[0m,\n",
       "  \u001b[32m\"()()[]((((()))))[[[]]][[{{(([[]]))}}]]\"\u001b[0m -> \u001b[32mtrue\u001b[0m,\n",
       "  \u001b[32m\"()()[]{\"\u001b[0m -> \u001b[32mfalse\u001b[0m,\n",
       "  \u001b[32m\"{{{}}}\"\u001b[0m -> \u001b[32mtrue\u001b[0m,\n",
       "  \u001b[32m\"}\"\u001b[0m -> \u001b[32mfalse\u001b[0m,\n",
       "  \u001b[32m\"()()[]\"\u001b[0m -> \u001b[32mtrue\u001b[0m,\n",
       "  \u001b[32m\"[[)]]\"\u001b[0m -> \u001b[32mfalse\u001b[0m,\n",
       "  \u001b[32m\"[[(]]\"\u001b[0m -> \u001b[32mfalse\u001b[0m,\n",
       "  \u001b[32m\"[[]][\"\u001b[0m -> \u001b[32mfalse\u001b[0m,\n",
       "  \u001b[32m\"a({})\"\u001b[0m -> \u001b[32mtrue\u001b[0m,\n",
       "  \u001b[32m\"{}{()\"\u001b[0m -> \u001b[32mfalse\u001b[0m\n",
       ")"
      ]
     },
     "metadata": {},
     "output_type": "display_data"
    }
   ],
   "source": [
    "val testCases = Map(\n",
    "    \"}\" -> false,\n",
    "    \"{}{()\" -> false,\n",
    "    \"a({})\" -> true,\n",
    "    \"{{{}}}\" -> true,\n",
    "    \"[[(]]\" -> false,\n",
    "    \"[[)]]\" -> false,\n",
    "    \"[[]][\" -> false,\n",
    "    \"[[]]}\" -> false,\n",
    "    \"()()[]{\" -> false,\n",
    "    \"()()[]\" -> true,\n",
    "    \"()()[]((((()))))[[[]]][[{{(([[]]))}}]]\" -> true\n",
    ")\n",
    "\n",
    "testCases.foreach { case(test, expected) =>\n",
    "    assert(bracketBalancing(test) == expected)\n",
    "}"
   ]
  },
  {
   "cell_type": "code",
   "execution_count": null,
   "metadata": {
    "collapsed": true
   },
   "outputs": [],
   "source": []
  }
 ],
 "metadata": {
  "anaconda-cloud": {},
  "kernelspec": {
   "display_name": "Scala 2.11",
   "language": "scala211",
   "name": "scala211"
  },
  "language_info": {
   "codemirror_mode": "text/x-scala",
   "file_extension": ".scala",
   "mimetype": "text/x-scala",
   "name": "scala211",
   "pygments_lexer": "scala",
   "version": "2.11.8"
  }
 },
 "nbformat": 4,
 "nbformat_minor": 2
}
